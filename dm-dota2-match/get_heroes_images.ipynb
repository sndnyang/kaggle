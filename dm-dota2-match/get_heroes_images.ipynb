{
 "cells": [
  {
   "cell_type": "markdown",
   "metadata": {},
   "source": [
    "# Dota2数据集\n",
    "\n",
    "为了与数据集相对应， 做出比较好看的效果， 到 Dota2的网站上爬取所有英雄的头像——也许在可视化里就能好看点\n",
    "\n",
    "**注**\n",
    "\n",
    "如果想重复利用，当做练习、练手加强熟练度的话， 请点 File - Make a copy， 每次在副本里回答\n",
    "\n",
    "如果已经足够熟悉，觉得本篇内容太过简单， 就不需要了"
   ]
  },
  {
   "cell_type": "markdown",
   "metadata": {},
   "source": [
    "## 前期准备\n",
    "\n",
    "要从网络上爬取图片， 从程序来说，有几步？\n",
    "\n",
    "，自然需要打开页面进行下载，"
   ]
  },
  {
   "cell_type": "code",
   "execution_count": 39,
   "metadata": {
    "collapsed": true
   },
   "outputs": [],
   "source": [
    "from quiz import *"
   ]
  },
  {
   "cell_type": "code",
   "execution_count": null,
   "metadata": {},
   "outputs": [],
   "source": [
    "your_answer = 步数\n",
    "steps = ['', '' ... ]\n",
    "print(check_steps(your_answer, steps))"
   ]
  },
  {
   "cell_type": "markdown",
   "metadata": {},
   "source": [
    "Python标准库里使用哪个模块可以打开网页？ 应该使用哪个模块查找链接？ 保存就不用说了。"
   ]
  },
  {
   "cell_type": "code",
   "execution_count": null,
   "metadata": {
    "collapsed": true
   },
   "outputs": [],
   "source": [
    "module_openpages = ''\n",
    "\n",
    "module_findlinks = ''\n",
    "\n",
    "assert check_openpages(module_openpages), '看来，标准库不够熟悉啊'\n",
    "\n",
    "print(check_findlinks(module_findlinks))"
   ]
  },
  {
   "cell_type": "markdown",
   "metadata": {},
   "source": [
    "但我们不用标准库里的， 因为有更好的第三方库， 分别是\n",
    "\n",
    "1. requests\n",
    "2. beautifulsoup4\n",
    "\n",
    "安装：\n",
    "\n",
    "    pip(2 or 3) install requests, bs4\n",
    "    \n",
    "然后导入"
   ]
  },
  {
   "cell_type": "code",
   "execution_count": 5,
   "metadata": {},
   "outputs": [],
   "source": [
    "import requests\n",
    "from bs4 import BeautifulSoup"
   ]
  },
  {
   "cell_type": "markdown",
   "metadata": {},
   "source": [
    "## 下载网页内容\n",
    "\n",
    "开始介绍使用 requests 读取网页内容\n",
    "\n",
    "[Dota2英雄列表网址](http://www.dota2.com.cn/heroes/index.htm)\n",
    "\n",
    "MOOC资源： [Python网络爬虫与信息提取](http://www.icourse163.org/course/BIT-1001870001)"
   ]
  },
  {
   "cell_type": "code",
   "execution_count": 15,
   "metadata": {},
   "outputs": [],
   "source": [
    "dota2_main_page = 'http://www.dota2.com.cn'\n",
    "dota2_heroes_index = dota2_main_page + '/heroes/index.htm'"
   ]
  },
  {
   "cell_type": "markdown",
   "metadata": {},
   "source": [
    "Requests 是一个非常优雅的 HTTP 库， HTTP是什么? >[HTTP百度百科](http://baike.baidu.com/link?url=01N5pk_h_vChNIkEpbMuXuFrAc1tr6Vnb0xeGJUMoXV4aOXMMAbaEKqxuVsycT1h9zbVZY0h6s_hpdegz24JDa)\n",
    "\n",
    "我们不管这个，只管HTTP是如何向网站发送请求，并拿到网页数据的。 协议规定了 >[HTTP请求方法](http://www.runoob.com/http/http-methods.html)\n",
    "\n",
    "requests的方法和HTTP协议一致， 也有这么几种（或少一种？没注意），但最常用的是\n",
    "\n",
    "1. get()\n",
    "2. post()\n",
    "\n",
    "本篇只是爬取内容， 所以， 用哪个方法呢？ 函数、方法的参数是什么呢？ 没有额外参数"
   ]
  },
  {
   "cell_type": "code",
   "execution_count": null,
   "metadata": {
    "collapsed": true
   },
   "outputs": [],
   "source": [
    "# 懒得验证了，毕竟太明显\n",
    "parameter = ???\n",
    "r = requests.???(parameter)"
   ]
  },
  {
   "cell_type": "markdown",
   "metadata": {},
   "source": [
    "### 培养好习惯， 建立代码规范\n",
    "\n",
    "打开网页后， 最好检查下是否成功， 不成功则按现在的开发来说， 应该抛个异常， 所以我们需要：\n",
    "\n",
    "1. 判断网页打开状态,  r.raise_for_status()\n",
    "2. [Python异常处理](http://www.cnblogs.com/fnng/p/3518202.html) 或 个人博客版本 [Python异常处理#TODO](http://blog.zhimind.com/python-exception.html)\n",
    "\n",
    "[Python异常处理的意义](http://blog.zhimind.com/debug-assert-meaning.html#_2)"
   ]
  },
  {
   "cell_type": "code",
   "execution_count": null,
   "metadata": {
    "collapsed": true
   },
   "outputs": [],
   "source": [
    "try:\n",
    "    r = requests.???(???)\n",
    "    r.raise_for_status()\n",
    "    # MOOC里有介绍的编码部分略过，因为没遇到\n",
    "except:\n",
    "    print(\"OH MY GOD!\")\n",
    "    \n",
    "# 从 Python 变量的作用域来说，这段当然有问题， 只是给个示例， 借此由头复习 Python异常处理机制\n",
    "# 可以直接跳过"
   ]
  },
  {
   "cell_type": "markdown",
   "metadata": {},
   "source": [
    "### 网页内容\n",
    "\n",
    "此时打开的网页已经保存在 变量 r 中， 来看看 r 是个什么东西"
   ]
  },
  {
   "cell_type": "code",
   "execution_count": 53,
   "metadata": {},
   "outputs": [
    {
     "data": {
      "text/plain": [
       "requests.models.Response"
      ]
     },
     "execution_count": 53,
     "metadata": {},
     "output_type": "execute_result"
    }
   ],
   "source": [
    "type(r)"
   ]
  },
  {
   "cell_type": "markdown",
   "metadata": {},
   "source": [
    "看看 这个东西 有什么属性"
   ]
  },
  {
   "cell_type": "code",
   "execution_count": 54,
   "metadata": {},
   "outputs": [
    {
     "data": {
      "text/plain": [
       "['__attrs__',\n",
       " '__bool__',\n",
       " '__class__',\n",
       " '__delattr__',\n",
       " '__dict__',\n",
       " '__dir__',\n",
       " '__doc__',\n",
       " '__eq__',\n",
       " '__format__',\n",
       " '__ge__',\n",
       " '__getattribute__',\n",
       " '__getstate__',\n",
       " '__gt__',\n",
       " '__hash__',\n",
       " '__init__',\n",
       " '__init_subclass__',\n",
       " '__iter__',\n",
       " '__le__',\n",
       " '__lt__',\n",
       " '__module__',\n",
       " '__ne__',\n",
       " '__new__',\n",
       " '__nonzero__',\n",
       " '__reduce__',\n",
       " '__reduce_ex__',\n",
       " '__repr__',\n",
       " '__setattr__',\n",
       " '__setstate__',\n",
       " '__sizeof__',\n",
       " '__str__',\n",
       " '__subclasshook__',\n",
       " '__weakref__',\n",
       " '_content',\n",
       " '_content_consumed',\n",
       " 'apparent_encoding',\n",
       " 'close',\n",
       " 'connection',\n",
       " 'content',\n",
       " 'cookies',\n",
       " 'elapsed',\n",
       " 'encoding',\n",
       " 'headers',\n",
       " 'history',\n",
       " 'is_permanent_redirect',\n",
       " 'is_redirect',\n",
       " 'iter_content',\n",
       " 'iter_lines',\n",
       " 'json',\n",
       " 'links',\n",
       " 'ok',\n",
       " 'raise_for_status',\n",
       " 'raw',\n",
       " 'reason',\n",
       " 'request',\n",
       " 'status_code',\n",
       " 'text',\n",
       " 'url']"
      ]
     },
     "execution_count": 54,
     "metadata": {},
     "output_type": "execute_result"
    }
   ],
   "source": [
    "dir(r)"
   ]
  },
  {
   "cell_type": "markdown",
   "metadata": {},
   "source": [
    "网页内容是哪个？\n",
    "\n",
    "r.text?  r.raw? r.content?\n",
    "\n",
    "嗯， 废"
   ]
  },
  {
   "cell_type": "code",
   "execution_count": 56,
   "metadata": {},
   "outputs": [
    {
     "name": "stdout",
     "output_type": "stream",
     "text": [
      "<class 'bytes'>\n",
      "<class 'requests.packages.urllib3.response.HTTPResponse'>\n",
      "<class 'str'>\n"
     ]
    }
   ],
   "source": [
    "print(type(r.content))\n",
    "print(type(r.raw))\n",
    "print(type(r.text))"
   ]
  },
  {
   "cell_type": "markdown",
   "metadata": {},
   "source": [
    "所以，我们用 字符串类型的 text"
   ]
  },
  {
   "cell_type": "code",
   "execution_count": 57,
   "metadata": {
    "collapsed": true
   },
   "outputs": [],
   "source": [
    "text = r.text"
   ]
  },
  {
   "cell_type": "code",
   "execution_count": null,
   "metadata": {
    "collapsed": true
   },
   "outputs": [],
   "source": []
  },
  {
   "cell_type": "markdown",
   "metadata": {},
   "source": [
    "# 信息提取\n",
    "\n",
    "beautifulsoup4 的使用"
   ]
  },
  {
   "cell_type": "code",
   "execution_count": null,
   "metadata": {
    "collapsed": true
   },
   "outputs": [],
   "source": [
    "# 固定格式\n",
    "# 第二个参数是 格式， 因为是 html格式的网页， 所以是 html.parser\n",
    "# 至于为什么不是 html 就行了， 别人开发设计成这样， 就这样\n",
    "\n",
    "soup = BeautifulSoup(text, 'html.parser')"
   ]
  },
  {
   "cell_type": "code",
   "execution_count": null,
   "metadata": {
    "collapsed": true
   },
   "outputs": [],
   "source": [
    "# 这个好像是格式化、美观化输出\n",
    "\n",
    "print(soup.prettify())"
   ]
  },
  {
   "cell_type": "markdown",
   "metadata": {},
   "source": [
    "### 查找所有元素\n",
    "\n",
    "先搞清楚， 要找什么元素？\n",
    "\n",
    "要么是在原网页上右键查看源代码， 要么是 F12(chrome 和 Firefox)打开控制台，查看。\n",
    "\n",
    "如果不懂 HTML， 不认识它的标签， 那我也没招， 这内容太多， 哪顾得过来。\n",
    "\n",
    "经浏览， 应该是查找 img标签， class为heroHoverLarge的元素， 小封面太小了， 大点好看点？\n",
    "\n",
    "查找所有元素接口是： [find_all](https://www.crummy.com/software/BeautifulSoup/bs4/doc/index.zh.html#find-all)"
   ]
  },
  {
   "cell_type": "code",
   "execution_count": 58,
   "metadata": {
    "collapsed": true
   },
   "outputs": [],
   "source": [
    "# find_all 等效 如下形式\n",
    "\n",
    "hero_list = soup('img', 'heroHoverLarge')"
   ]
  },
  {
   "cell_type": "code",
   "execution_count": 8,
   "metadata": {},
   "outputs": [
    {
     "data": {
      "text/plain": [
       "113"
      ]
     },
     "execution_count": 8,
     "metadata": {},
     "output_type": "execute_result"
    }
   ],
   "source": [
    "len(hero_list)"
   ]
  },
  {
   "cell_type": "markdown",
   "metadata": {},
   "source": [
    "### 提取属性\n",
    "\n",
    "img标签里，把链接记录在 src 里， src是元素的一个属性attribute，不是值value或文本text\n",
    "\n",
    "元素的属性attributes是一个 字典dict(键key，值value对), 所以是\n"
   ]
  },
  {
   "cell_type": "code",
   "execution_count": null,
   "metadata": {
    "collapsed": true
   },
   "outputs": [],
   "source": [
    "# \n",
    "key = '???'\n",
    "img_url = element.???[key]\n",
    "\n",
    "# 英语缩写的习惯，有时候是可以猜出来的~~~"
   ]
  },
  {
   "cell_type": "markdown",
   "metadata": {},
   "source": [
    "一个栗子：  src=\"/images/heroes/earthshaker_hphover.png\"\n",
    "\n",
    "所以我们需要做两步：\n",
    "\n",
    "1. 和域名 dota2_main_page 连起来得到完整URL\n",
    "2. 抽取英雄名字， 即 / 和 \\_hphover 中间部分\n"
   ]
  },
  {
   "cell_type": "code",
   "execution_count": 60,
   "metadata": {
    "collapsed": true
   },
   "outputs": [],
   "source": [
    "# TODO： \n",
    "# 请用自己喜欢的方式，把名字抽取出来\n",
    "# 字符串相连太简单 就不要求了\n",
    "def deal_src(src):\n",
    "    url = dota2_main_page + src\n",
    "    name = None\n",
    "    print('%s  %s' % (name, url))\n",
    "    return name, url"
   ]
  },
  {
   "cell_type": "code",
   "execution_count": null,
   "metadata": {},
   "outputs": [],
   "source": [
    "assert deal_src('/images/heroes/brewmaster_hphover.png')[0] == 'brewmaster', '失败'\n",
    "assert deal_src('/images/heroes/dragon_knight_hphover.png')[0] == 'dragon_knight', '失败'"
   ]
  },
  {
   "cell_type": "markdown",
   "metadata": {},
   "source": [
    "## 保存\n",
    "\n",
    "这块倒简单， 继续使用 requests读取图片的url， 然后保存到某个文件夹下的某文件名的文件。\n",
    "\n",
    "所以只有点说明， 没有做quiz"
   ]
  },
  {
   "cell_type": "code",
   "execution_count": 64,
   "metadata": {
    "collapsed": true
   },
   "outputs": [],
   "source": [
    "def saveImage(imgUrl, imgName = \"default.jpg\"):\n",
    "    \"\"\"\n",
    "    Description    : 将网页图片保存本地\n",
    "    @param imgUrl  : 待保存图片URL\n",
    "    @param imgName : 待保存图片名称\n",
    "    @return 无\n",
    "    \"\"\"\n",
    "    # 这里给 requests.get 添加 流 stream 参数——不加会什么样？\n",
    "    response = requests.get(imgUrl, stream=True)\n",
    "    # 这里不能用 text了， 因为图片是二进制 byte了\n",
    "    image = response.content\n",
    "    dstDir = 'heroes'\n",
    "    print(\"保存文件\" + imgName)\n",
    "    # try except要习惯\n",
    "    try:\n",
    "        # with是种方案，但本篇不介绍了\n",
    "        with open(dstDir + imgName, \"wb\") as jpg:\n",
    "            jpg.write(image)     \n",
    "            return\n",
    "    except IOError:\n",
    "        print(\"IO Error\\n\")\n",
    "        return\n",
    "    finally:\n",
    "        jpg.close"
   ]
  },
  {
   "cell_type": "markdown",
   "metadata": {},
   "source": [
    "## 遍历全部元素\n",
    "\n",
    "遍历 hero_list 的 所有元素"
   ]
  },
  {
   "cell_type": "code",
   "execution_count": 38,
   "metadata": {},
   "outputs": [
    {
     "name": "stdout",
     "output_type": "stream",
     "text": [
      "earthshaker  http://www.dota2.com.cn/images/heroes/earthshaker_hphover.png\n",
      "保存文件earthshaker.jpg\n",
      "sven  http://www.dota2.com.cn/images/heroes/sven_hphover.png\n",
      "保存文件sven.jpg\n",
      "tiny  http://www.dota2.com.cn/images/heroes/tiny_hphover.png\n",
      "保存文件tiny.jpg\n",
      "kunkka  http://www.dota2.com.cn/images/heroes/kunkka_hphover.png\n",
      "保存文件kunkka.jpg\n",
      "beastmaster  http://www.dota2.com.cn/images/heroes/beastmaster_hphover.png\n",
      "保存文件beastmaster.jpg\n",
      "dragon_knight  http://www.dota2.com.cn/images/heroes/dragon_knight_hphover.png\n",
      "保存文件dragon_knight.jpg\n",
      "rattletrap  http://www.dota2.com.cn/images/heroes/rattletrap_hphover.png\n",
      "保存文件rattletrap.jpg\n",
      "omniknight  http://www.dota2.com.cn/images/heroes/omniknight_hphover.png\n",
      "保存文件omniknight.jpg\n",
      "huskar  http://www.dota2.com.cn/images/heroes/huskar_hphover.png\n",
      "保存文件huskar.jpg\n",
      "alchemist  http://www.dota2.com.cn/images/heroes/alchemist_hphover.png\n",
      "保存文件alchemist.jpg\n",
      "brewmaster  http://www.dota2.com.cn/images/heroes/brewmaster_hphover.png\n",
      "保存文件brewmaster.jpg\n",
      "treant  http://www.dota2.com.cn/images/heroes/treant_hphover.png\n",
      "保存文件treant.jpg\n",
      "wisp  http://www.dota2.com.cn/images/heroes/wisp_hphover.png\n",
      "保存文件wisp.jpg\n",
      "centaur  http://www.dota2.com.cn/images/heroes/centaur_hphover.png\n",
      "保存文件centaur.jpg\n",
      "shredder  http://www.dota2.com.cn/images/heroes/shredder_hphover.png\n",
      "保存文件shredder.jpg\n",
      "bristleback  http://www.dota2.com.cn/images/heroes/bristleback_hphover.png\n",
      "保存文件bristleback.jpg\n",
      "tusk  http://www.dota2.com.cn/images/heroes/tusk_hphover.png\n",
      "保存文件tusk.jpg\n",
      "elder_titan  http://www.dota2.com.cn/images/heroes/elder_titan_hphover.png\n",
      "保存文件elder_titan.jpg\n",
      "legion_commander  http://www.dota2.com.cn/images/heroes/legion_commander_hphover.png\n",
      "保存文件legion_commander.jpg\n",
      "earth_spirit  http://www.dota2.com.cn/images/heroes/earth_spirit_hphover.png\n",
      "保存文件earth_spirit.jpg\n",
      "phoenix  http://www.dota2.com.cn/images/heroes/phoenix_hphover.png\n",
      "保存文件phoenix.jpg\n",
      "antimage  http://www.dota2.com.cn/images/heroes/antimage_hphover.png\n",
      "保存文件antimage.jpg\n",
      "drow_ranger  http://www.dota2.com.cn/images/heroes/drow_ranger_hphover.png\n",
      "保存文件drow_ranger.jpg\n",
      "juggernaut  http://www.dota2.com.cn/images/heroes/juggernaut_hphover.png\n",
      "保存文件juggernaut.jpg\n",
      "mirana  http://www.dota2.com.cn/images/heroes/mirana_hphover.png\n",
      "保存文件mirana.jpg\n",
      "morphling  http://www.dota2.com.cn/images/heroes/morphling_hphover.png\n",
      "保存文件morphling.jpg\n",
      "phantom_lancer  http://www.dota2.com.cn/images/heroes/phantom_lancer_hphover.png\n",
      "保存文件phantom_lancer.jpg\n",
      "vengefulspirit  http://www.dota2.com.cn/images/heroes/vengefulspirit_hphover.png\n",
      "保存文件vengefulspirit.jpg\n",
      "riki  http://www.dota2.com.cn/images/heroes/riki_hphover.png\n",
      "保存文件riki.jpg\n",
      "sniper  http://www.dota2.com.cn/images/heroes/sniper_hphover.png\n",
      "保存文件sniper.jpg\n",
      "templar_assassin  http://www.dota2.com.cn/images/heroes/templar_assassin_hphover.png\n",
      "保存文件templar_assassin.jpg\n",
      "luna  http://www.dota2.com.cn/images/heroes/luna_hphover.png\n",
      "保存文件luna.jpg\n",
      "bounty_hunter  http://www.dota2.com.cn/images/heroes/bounty_hunter_hphover.png\n",
      "保存文件bounty_hunter.jpg\n",
      "ursa  http://www.dota2.com.cn/images/heroes/ursa_hphover.png\n",
      "保存文件ursa.jpg\n",
      "gyrocopter  http://www.dota2.com.cn/images/heroes/gyrocopter_hphover.png\n",
      "保存文件gyrocopter.jpg\n",
      "lone_druid  http://www.dota2.com.cn/images/heroes/lone_druid_hphover.png\n",
      "保存文件lone_druid.jpg\n",
      "naga_siren  http://www.dota2.com.cn/images/heroes/naga_siren_hphover.png\n",
      "保存文件naga_siren.jpg\n",
      "troll_warlord  http://www.dota2.com.cn/images/heroes/troll_warlord_hphover.png\n",
      "保存文件troll_warlord.jpg\n",
      "ember_spirit  http://www.dota2.com.cn/images/heroes/ember_spirit_hphover.png\n",
      "保存文件ember_spirit.jpg\n",
      "monkey_king  http://www.dota2.com.cn/images/heroes/monkey_king_hphover.png\n",
      "保存文件monkey_king.jpg\n",
      "crystal_maiden  http://www.dota2.com.cn/images/heroes/crystal_maiden_hphover.png\n",
      "保存文件crystal_maiden.jpg\n",
      "puck  http://www.dota2.com.cn/images/heroes/puck_hphover.png\n",
      "保存文件puck.jpg\n",
      "storm_spirit  http://www.dota2.com.cn/images/heroes/storm_spirit_hphover.png\n",
      "保存文件storm_spirit.jpg\n",
      "windrunner  http://www.dota2.com.cn/images/heroes/windrunner_hphover.png\n",
      "保存文件windrunner.jpg\n",
      "zuus  http://www.dota2.com.cn/images/heroes/zuus_hphover.png\n",
      "保存文件zuus.jpg\n",
      "lina  http://www.dota2.com.cn/images/heroes/lina_hphover.png\n",
      "保存文件lina.jpg\n",
      "shadow_shaman  http://www.dota2.com.cn/images/heroes/shadow_shaman_hphover.png\n",
      "保存文件shadow_shaman.jpg\n",
      "tinker  http://www.dota2.com.cn/images/heroes/tinker_hphover.png\n",
      "保存文件tinker.jpg\n",
      "furion  http://www.dota2.com.cn/images/heroes/furion_hphover.png\n",
      "保存文件furion.jpg\n",
      "enchantress  http://www.dota2.com.cn/images/heroes/enchantress_hphover.png\n",
      "保存文件enchantress.jpg\n",
      "jakiro  http://www.dota2.com.cn/images/heroes/jakiro_hphover.png\n",
      "保存文件jakiro.jpg\n",
      "chen  http://www.dota2.com.cn/images/heroes/chen_hphover.png\n",
      "保存文件chen.jpg\n",
      "silencer  http://www.dota2.com.cn/images/heroes/silencer_hphover.png\n",
      "保存文件silencer.jpg\n",
      "ogre_magi  http://www.dota2.com.cn/images/heroes/ogre_magi_hphover.png\n",
      "保存文件ogre_magi.jpg\n",
      "rubick  http://www.dota2.com.cn/images/heroes/rubick_hphover.png\n",
      "保存文件rubick.jpg\n",
      "disruptor  http://www.dota2.com.cn/images/heroes/disruptor_hphover.png\n",
      "保存文件disruptor.jpg\n",
      "keeper_of_the_light  http://www.dota2.com.cn/images/heroes/keeper_of_the_light_hphover.png\n",
      "保存文件keeper_of_the_light.jpg\n",
      "skywrath_mage  http://www.dota2.com.cn/images/heroes/skywrath_mage_hphover.png\n",
      "保存文件skywrath_mage.jpg\n",
      "oracle  http://www.dota2.com.cn/images/heroes/oracle_hphover.png\n",
      "保存文件oracle.jpg\n",
      "techies  http://www.dota2.com.cn/images/heroes/techies_hphover.png\n",
      "保存文件techies.jpg\n",
      "axe  http://www.dota2.com.cn/images/heroes/axe_hphover.png\n",
      "保存文件axe.jpg\n",
      "pudge  http://www.dota2.com.cn/images/heroes/pudge_hphover.png\n",
      "保存文件pudge.jpg\n",
      "sand_king  http://www.dota2.com.cn/images/heroes/sand_king_hphover.png\n",
      "保存文件sand_king.jpg\n",
      "slardar  http://www.dota2.com.cn/images/heroes/slardar_hphover.png\n",
      "保存文件slardar.jpg\n",
      "tidehunter  http://www.dota2.com.cn/images/heroes/tidehunter_hphover.png\n",
      "保存文件tidehunter.jpg\n",
      "wraith_king  http://www.dota2.com.cn/images/heroes/wraith_king_hphover.png\n",
      "保存文件wraith_king.jpg\n",
      "life_stealer  http://www.dota2.com.cn/images/heroes/life_stealer_hphover.png\n",
      "保存文件life_stealer.jpg\n",
      "night_stalker  http://www.dota2.com.cn/images/heroes/night_stalker_hphover.png\n",
      "保存文件night_stalker.jpg\n",
      "doom_bringer  http://www.dota2.com.cn/images/heroes/doom_bringer_hphover.png\n",
      "保存文件doom_bringer.jpg\n",
      "spirit_breaker  http://www.dota2.com.cn/images/heroes/spirit_breaker_hphover.png\n",
      "保存文件spirit_breaker.jpg\n",
      "lycan  http://www.dota2.com.cn/images/heroes/lycan_hphover.png\n",
      "保存文件lycan.jpg\n",
      "chaos_knight  http://www.dota2.com.cn/images/heroes/chaos_knight_hphover.png\n",
      "保存文件chaos_knight.jpg\n",
      "undying  http://www.dota2.com.cn/images/heroes/undying_hphover.png\n",
      "保存文件undying.jpg\n",
      "magnataur  http://www.dota2.com.cn/images/heroes/magnataur_hphover.png\n",
      "保存文件magnataur.jpg\n",
      "abaddon  http://www.dota2.com.cn/images/heroes/abaddon_hphover.png\n",
      "保存文件abaddon.jpg\n",
      "abyssal_underlord  http://www.dota2.com.cn/images/heroes/abyssal_underlord_hphover.png\n",
      "保存文件abyssal_underlord.jpg\n",
      "bloodseeker  http://www.dota2.com.cn/images/heroes/bloodseeker_hphover.png\n",
      "保存文件bloodseeker.jpg\n",
      "nevermore  http://www.dota2.com.cn/images/heroes/nevermore_hphover.png\n",
      "保存文件nevermore.jpg\n",
      "razor  http://www.dota2.com.cn/images/heroes/razor_hphover.png\n",
      "保存文件razor.jpg\n",
      "venomancer  http://www.dota2.com.cn/images/heroes/venomancer_hphover.png\n",
      "保存文件venomancer.jpg\n",
      "faceless_void  http://www.dota2.com.cn/images/heroes/faceless_void_hphover.png\n",
      "保存文件faceless_void.jpg\n",
      "phantom_assassin  http://www.dota2.com.cn/images/heroes/phantom_assassin_hphover.png\n",
      "保存文件phantom_assassin.jpg\n",
      "viper  http://www.dota2.com.cn/images/heroes/viper_hphover.png\n",
      "保存文件viper.jpg\n",
      "clinkz  http://www.dota2.com.cn/images/heroes/clinkz_hphover.png\n",
      "保存文件clinkz.jpg\n",
      "broodmother  http://www.dota2.com.cn/images/heroes/broodmother_hphover.png\n",
      "保存文件broodmother.jpg\n",
      "weaver  http://www.dota2.com.cn/images/heroes/weaver_hphover.png\n",
      "保存文件weaver.jpg\n",
      "spectre  http://www.dota2.com.cn/images/heroes/spectre_hphover.png\n",
      "保存文件spectre.jpg\n",
      "meepo  http://www.dota2.com.cn/images/heroes/meepo_hphover.png\n",
      "保存文件meepo.jpg\n",
      "nyx_assassin  http://www.dota2.com.cn/images/heroes/nyx_assassin_hphover.png\n",
      "保存文件nyx_assassin.jpg\n",
      "slark  http://www.dota2.com.cn/images/heroes/slark_hphover.png\n",
      "保存文件slark.jpg\n",
      "medusa  http://www.dota2.com.cn/images/heroes/medusa_hphover.png\n",
      "保存文件medusa.jpg\n",
      "terrorblade  http://www.dota2.com.cn/images/heroes/terrorblade_hphover.png\n",
      "保存文件terrorblade.jpg\n",
      "arc_warden  http://www.dota2.com.cn/images/heroes/arc_warden_hphover.png\n",
      "保存文件arc_warden.jpg\n",
      "bane  http://www.dota2.com.cn/images/heroes/bane_hphover.png\n"
     ]
    },
    {
     "name": "stdout",
     "output_type": "stream",
     "text": [
      "保存文件bane.jpg\n",
      "lich  http://www.dota2.com.cn/images/heroes/lich_hphover.png\n",
      "保存文件lich.jpg\n",
      "lion  http://www.dota2.com.cn/images/heroes/lion_hphover.png\n",
      "保存文件lion.jpg\n",
      "witch_doctor  http://www.dota2.com.cn/images/heroes/witch_doctor_hphover.png\n",
      "保存文件witch_doctor.jpg\n",
      "enigma  http://www.dota2.com.cn/images/heroes/enigma_hphover.png\n",
      "保存文件enigma.jpg\n",
      "necrolyte  http://www.dota2.com.cn/images/heroes/necrolyte_hphover.png\n",
      "保存文件necrolyte.jpg\n",
      "warlock  http://www.dota2.com.cn/images/heroes/warlock_hphover.png\n",
      "保存文件warlock.jpg\n",
      "queenofpain  http://www.dota2.com.cn/images/heroes/queenofpain_hphover.png\n",
      "保存文件queenofpain.jpg\n",
      "death_prophet  http://www.dota2.com.cn/images/heroes/death_prophet_hphover.png\n",
      "保存文件death_prophet.jpg\n",
      "pugna  http://www.dota2.com.cn/images/heroes/pugna_hphover.png\n",
      "保存文件pugna.jpg\n",
      "dazzle  http://www.dota2.com.cn/images/heroes/dazzle_hphover.png\n",
      "保存文件dazzle.jpg\n",
      "leshrac  http://www.dota2.com.cn/images/heroes/leshrac_hphover.png\n",
      "保存文件leshrac.jpg\n",
      "dark_seer  http://www.dota2.com.cn/images/heroes/dark_seer_hphover.png\n",
      "保存文件dark_seer.jpg\n",
      "batrider  http://www.dota2.com.cn/images/heroes/batrider_hphover.png\n",
      "保存文件batrider.jpg\n",
      "ancient_apparition  http://www.dota2.com.cn/images/heroes/ancient_apparition_hphover.png\n",
      "保存文件ancient_apparition.jpg\n",
      "invoker  http://www.dota2.com.cn/images/heroes/invoker_hphover.png\n",
      "保存文件invoker.jpg\n",
      "obsidian_destroyer  http://www.dota2.com.cn/images/heroes/obsidian_destroyer_hphover.png\n",
      "保存文件obsidian_destroyer.jpg\n",
      "shadow_demon  http://www.dota2.com.cn/images/heroes/shadow_demon_hphover.png\n",
      "保存文件shadow_demon.jpg\n",
      "visage  http://www.dota2.com.cn/images/heroes/visage_hphover.png\n",
      "保存文件visage.jpg\n",
      "winter_wyvern  http://www.dota2.com.cn/images/heroes/winter_wyvern_hphover.png\n",
      "保存文件winter_wyvern.jpg\n"
     ]
    }
   ],
   "source": [
    "for e in hero_list:\n",
    "    src = e.???['???']\n",
    "    name， url = deal_src(src)\n",
    "    print('%s  %s' % (name, url))\n",
    "    saveImage(url, name+'.jpg')"
   ]
  },
  {
   "cell_type": "markdown",
   "metadata": {},
   "source": [
    "# 恭喜\n",
    "\n",
    "完成！"
   ]
  },
  {
   "cell_type": "code",
   "execution_count": null,
   "metadata": {
    "collapsed": true
   },
   "outputs": [],
   "source": []
  }
 ],
 "metadata": {
  "kernelspec": {
   "display_name": "Python 3",
   "language": "python",
   "name": "python3"
  },
  "language_info": {
   "codemirror_mode": {
    "name": "ipython",
    "version": 3
   },
   "file_extension": ".py",
   "mimetype": "text/x-python",
   "name": "python",
   "nbconvert_exporter": "python",
   "pygments_lexer": "ipython3",
   "version": "3.6.1"
  }
 },
 "nbformat": 4,
 "nbformat_minor": 2
}
