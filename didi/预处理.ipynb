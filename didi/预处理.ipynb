{
 "cells": [
  {
   "cell_type": "markdown",
   "metadata": {},
   "source": [
    "# 滴滴比赛\n",
    "\n",
    "导入必须的！"
   ]
  },
  {
   "cell_type": "code",
   "execution_count": 1,
   "metadata": {
    "collapsed": true
   },
   "outputs": [],
   "source": [
    "import os\n",
    "import numpy as np\n",
    "import pandas as pd\n",
    "import matplotlib.pyplot as plt\n",
    "import pandasql as pql\n",
    "from datetime import datetime\n",
    "%matplotlib inline"
   ]
  },
  {
   "cell_type": "markdown",
   "metadata": {},
   "source": [
    "### 文件位置"
   ]
  },
  {
   "cell_type": "code",
   "execution_count": 2,
   "metadata": {
    "collapsed": false
   },
   "outputs": [],
   "source": [
    "\n",
    "base_dir = \"G:/project/dataset/didi/season_1/training_data\"\n",
    "\n",
    "train_cluster_map_file = os.path.join(base_dir, 'cluster_map', 'cluster_map')\n",
    "train_poi_file = os.path.join(base_dir, 'poi_data', 'poi_data')\n",
    "\n",
    "train_sd_gap_file = os.path.join(base_dir, 'sd_gap.csv')\n",
    "\n",
    "\n",
    "train_order_file = os.path.join(base_dir, 'order_data', 'order_data.csv')\n",
    "\n",
    "train_traffic_file = os.path.join(base_dir, 'traffic_data', 'traffic-data.csv')\n",
    "\n",
    "all_traffic_file = os.path.join(base_dir, 'traffic_data', 'all_traffic.csv')\n",
    "\n",
    "\n",
    "\n",
    "traffic_file = os.path.join(base_dir, \"traffic.csv\")\n",
    "\n",
    "# test data directory\n",
    "test_base_dir = \"G:/project/dataset/didi/season_1/test_set_1\"\n",
    "test_traffic_file = os.path.join(base_dir, 'traffic_data', 'traffic-data.csv')\n",
    "test_order_file = os.path.join(test_base_dir, 'order_data', 'order-data.csv')\n",
    "\n",
    "\n",
    "sd_gap_file = os.path.join(test_base_dir, '..', 'gap.csv')\n",
    "\n",
    "test_submit_file = os.path.join(test_base_dir, 'test.txt')\n",
    "submit_file = os.path.join(test_base_dir, 'submit.csv')\n",
    "result_file = os.path.join(test_base_dir, 'result.csv')"
   ]
  },
  {
   "cell_type": "markdown",
   "metadata": {},
   "source": [
    "# cluster_map 处理\n",
    "\n",
    "## 区域 hashid 和 实际id\n",
    "\n",
    "cluster_map 数据， pandas 应该比 dict 快， 到时候 merge 或 join 比 从 dict 里找好。"
   ]
  },
  {
   "cell_type": "code",
   "execution_count": 3,
   "metadata": {
    "collapsed": false
   },
   "outputs": [],
   "source": [
    "cluster_map = pd.read_csv(train_cluster_map_file, sep=\"\\t\", header=None, names=['hashid', 'id'])"
   ]
  },
  {
   "cell_type": "code",
   "execution_count": 13,
   "metadata": {
    "collapsed": false
   },
   "outputs": [
    {
     "name": "stdout",
     "output_type": "stream",
     "text": [
      "66\n"
     ]
    }
   ],
   "source": [
    "print len(cluster_map)"
   ]
  },
  {
   "cell_type": "code",
   "execution_count": 65,
   "metadata": {
    "collapsed": false
   },
   "outputs": [
    {
     "data": {
      "text/html": [
       "<div>\n",
       "<table border=\"1\" class=\"dataframe\">\n",
       "  <thead>\n",
       "    <tr style=\"text-align: right;\">\n",
       "      <th></th>\n",
       "      <th>hashid</th>\n",
       "      <th>id</th>\n",
       "    </tr>\n",
       "  </thead>\n",
       "  <tbody>\n",
       "    <tr>\n",
       "      <th>0</th>\n",
       "      <td>90c5a34f06ac86aee0fd70e2adce7d8a</td>\n",
       "      <td>1</td>\n",
       "    </tr>\n",
       "    <tr>\n",
       "      <th>1</th>\n",
       "      <td>f2c8c4bb99e6377d21de71275afd6cd2</td>\n",
       "      <td>2</td>\n",
       "    </tr>\n",
       "  </tbody>\n",
       "</table>\n",
       "</div>"
      ],
      "text/plain": [
       "                             hashid  id\n",
       "0  90c5a34f06ac86aee0fd70e2adce7d8a   1\n",
       "1  f2c8c4bb99e6377d21de71275afd6cd2   2"
      ]
     },
     "execution_count": 65,
     "metadata": {},
     "output_type": "execute_result"
    }
   ],
   "source": [
    "cluster_map[:2]"
   ]
  },
  {
   "cell_type": "code",
   "execution_count": null,
   "metadata": {
    "collapsed": true
   },
   "outputs": [],
   "source": []
  },
  {
   "cell_type": "markdown",
   "metadata": {},
   "source": [
    "# 订单 order_data 处理\n",
    "\n",
    "## 复习下 pandas 读数据\n",
    "\n",
    "1. 复习下数据读取, read_csv\n",
    "2. 个人认为不需要的数据， 如 order_id 等id， 该省略的省掉（order_id, passenger_id, dest_district_has）， 该转换的转换, driver_id 变成是否有接单， 时间拆出日期和时间片， start_distrct_hash 改成实际id。 节省空间。去掉一堆 hash的字符串， 可以省很多空间\n",
    "\n",
    "**也许有些信息还有用， 觉得有用时再补充回来**\n"
   ]
  },
  {
   "cell_type": "code",
   "execution_count": 9,
   "metadata": {
    "collapsed": true
   },
   "outputs": [],
   "source": [
    "# 时：分：秒 转成 10分钟的时间片\n",
    "def time2Slice(time_str):\n",
    "    l = time_str.split(\":\")\n",
    "    return int(l[0]) * 6 + int(l[1]) / 10 + 1"
   ]
  },
  {
   "cell_type": "code",
   "execution_count": 8,
   "metadata": {
    "collapsed": true
   },
   "outputs": [],
   "source": [
    "# Order data 的数据 hash 太多， 顺便复习下 pandas\n",
    "def reduceOrderFile(base_name, f):\n",
    "    import time\n",
    "    prev = time.time()\n",
    "    fname = os.path.join(base_name, f)\n",
    "    order = pd.read_csv(fname, sep=\"\\t\", header=None, dtype={'Price': np.str},\n",
    "                          names=['order_id', 'driver_id', 'passenger_id', 'start_district_hash', 'dest_district_hash',\n",
    "                                'Price', 'Time'])\n",
    "\n",
    "    full_order = order.merge(cluster_map, left_on='start_district_hash', right_on='hashid')\n",
    "\n",
    "    full_order['Date'] = pd.Series([e.split()[0] for e in full_order['Time']])\n",
    "\n",
    "    full_order['TimePiece'] = pd.Series([time2Slice(e.split()[1]) for e in full_order['Time']])\n",
    "\n",
    "    full_order['Resp'] = full_order['driver_id'].notnull()\n",
    "\n",
    "    small_order = full_order.loc[:, ['Date', 'TimePiece', 'id', 'Price', 'Resp']]\n",
    "    small_order_file = os.path.join(base_name, f + \".csv\")\n",
    "    small_order.to_csv(small_order_file, index = False)\n",
    "    print time.time() - prev\n",
    "    \n",
    "    #return small_order"
   ]
  },
  {
   "cell_type": "code",
   "execution_count": 7,
   "metadata": {
    "collapsed": false
   },
   "outputs": [],
   "source": [
    "# 测试函数\n",
    "\n",
    "def testReduceOrder():\n",
    "    z = reduceOrderFile('G:/project/dataset/citydata/season_1/training_data\\order_data', 'order_data_2016-01-21')\n",
    "    print len(z)\n",
    "    print sum(z['Resp'])"
   ]
  },
  {
   "cell_type": "code",
   "execution_count": 6,
   "metadata": {
    "collapsed": true
   },
   "outputs": [],
   "source": [
    "# 批量 order reduce\n",
    "def reduceFiles(base_name):\n",
    "    for rt, dirs, files in os.walk(base_name):\n",
    "        for f in files:           \n",
    "            reduceOrderFile(base_name, f)\n"
   ]
  },
  {
   "cell_type": "code",
   "execution_count": 11,
   "metadata": {
    "collapsed": false
   },
   "outputs": [],
   "source": [
    "# 运行过就不要再来了， 一个文件6秒， 20个文件， 还是要2分钟的。\n",
    "def runForOnce():\n",
    "    \n",
    "    reduceFiles(os.path.join(test_base_dir, 'order_data'))"
   ]
  },
  {
   "cell_type": "code",
   "execution_count": 43,
   "metadata": {
    "collapsed": false
   },
   "outputs": [],
   "source": [
    "def test_read_order():\n",
    "    train_order = pd.read_csv(train_order_file, sep=\"\\t\", header=None, dtype={'Price': np.float, 'driver_id': np.str},\n",
    "                          names=['order_id', 'driver_id', 'passenger_id', 'start_district_hash', 'dest_district_hash',\n",
    "                                'Price', 'Time'])\n",
    "    print len(train_order)\n",
    "    t = train_order['driver_id']\n",
    "    print t.notnull()\n",
    "    small_order = full_train_order.loc[:, ['Date', 'TimePiece', 'id', 'Price', 'Resp']]"
   ]
  },
  {
   "cell_type": "markdown",
   "metadata": {},
   "source": [
    "# 读取 order 数据\n",
    "\n",
    "训练和测试数据\n",
    "\n",
    "训练数据 训练 验证"
   ]
  },
  {
   "cell_type": "code",
   "execution_count": 4,
   "metadata": {
    "collapsed": true
   },
   "outputs": [],
   "source": [
    "def order2SDGap(filename):\n",
    "    order = pd.read_csv(filename, dtype={'TimePiece': np.int16, 'id': np.int16, 'Price': np.float, 'Resp': np.bool})\n",
    "    \n",
    "    group_all = order.loc[:, ['id', 'Date', 'TimePiece', 'Resp']].groupby(['id', 'Date', 'TimePiece'])\n",
    "    sd_data = group_all.count()\n",
    "    sd_data['supply'] = group_all.Resp.sum()\n",
    "    sd_data['gap'] = sd_data.Resp - sd_data.supply\n",
    "    sd_data.columns = ['demand', 'supply', 'gap']\n",
    "    \n",
    "    sd_df = sd_data.reset_index(level = ['id', 'Date', 'TimePiece'])\n",
    "    sd_df['week'] = pd.Series([datetime.strptime(e, \"%Y-%m-%d\").weekday() for e in sd_df.Date])\n",
    "    \n",
    "    return sd_df"
   ]
  },
  {
   "cell_type": "code",
   "execution_count": 5,
   "metadata": {
    "collapsed": true
   },
   "outputs": [],
   "source": [
    "train_order = order2SDGap(train_order_file)\n",
    "test_order = order2SDGap(test_order_file)"
   ]
  },
  {
   "cell_type": "markdown",
   "metadata": {},
   "source": [
    "## 供需缺口数据（训练+测试）"
   ]
  },
  {
   "cell_type": "code",
   "execution_count": 5,
   "metadata": {
    "collapsed": false
   },
   "outputs": [
    {
     "data": {
      "text/html": [
       "<div>\n",
       "<table border=\"1\" class=\"dataframe\">\n",
       "  <thead>\n",
       "    <tr style=\"text-align: right;\">\n",
       "      <th></th>\n",
       "      <th>id</th>\n",
       "      <th>Date</th>\n",
       "      <th>TimePiece</th>\n",
       "      <th>demand</th>\n",
       "      <th>supply</th>\n",
       "      <th>gap</th>\n",
       "      <th>week</th>\n",
       "    </tr>\n",
       "  </thead>\n",
       "  <tbody>\n",
       "    <tr>\n",
       "      <th>0</th>\n",
       "      <td>1</td>\n",
       "      <td>2016-01-01</td>\n",
       "      <td>1</td>\n",
       "      <td>187</td>\n",
       "      <td>178</td>\n",
       "      <td>9</td>\n",
       "      <td>4</td>\n",
       "    </tr>\n",
       "    <tr>\n",
       "      <th>1</th>\n",
       "      <td>1</td>\n",
       "      <td>2016-01-01</td>\n",
       "      <td>2</td>\n",
       "      <td>198</td>\n",
       "      <td>191</td>\n",
       "      <td>7</td>\n",
       "      <td>4</td>\n",
       "    </tr>\n",
       "    <tr>\n",
       "      <th>2</th>\n",
       "      <td>1</td>\n",
       "      <td>2016-01-01</td>\n",
       "      <td>3</td>\n",
       "      <td>192</td>\n",
       "      <td>182</td>\n",
       "      <td>10</td>\n",
       "      <td>4</td>\n",
       "    </tr>\n",
       "  </tbody>\n",
       "</table>\n",
       "</div>"
      ],
      "text/plain": [
       "   id        Date  TimePiece  demand  supply  gap  week\n",
       "0   1  2016-01-01          1     187     178    9     4\n",
       "1   1  2016-01-01          2     198     191    7     4\n",
       "2   1  2016-01-01          3     192     182   10     4"
      ]
     },
     "execution_count": 5,
     "metadata": {},
     "output_type": "execute_result"
    }
   ],
   "source": [
    "all_sd_df = pd.concat([train_order, test_order])\n",
    "all_sd_df[:3]"
   ]
  },
  {
   "cell_type": "code",
   "execution_count": 6,
   "metadata": {
    "collapsed": false
   },
   "outputs": [
    {
     "data": {
      "text/html": [
       "<div>\n",
       "<table border=\"1\" class=\"dataframe\">\n",
       "  <thead>\n",
       "    <tr style=\"text-align: right;\">\n",
       "      <th></th>\n",
       "      <th>id</th>\n",
       "      <th>TimePiece</th>\n",
       "      <th>demand</th>\n",
       "      <th>supply</th>\n",
       "      <th>gap</th>\n",
       "      <th>week</th>\n",
       "    </tr>\n",
       "  </thead>\n",
       "  <tbody>\n",
       "    <tr>\n",
       "      <th>count</th>\n",
       "      <td>171415.000000</td>\n",
       "      <td>171415.000000</td>\n",
       "      <td>171415.000000</td>\n",
       "      <td>171415.000000</td>\n",
       "      <td>171415.000000</td>\n",
       "      <td>171415.000000</td>\n",
       "    </tr>\n",
       "    <tr>\n",
       "      <th>mean</th>\n",
       "      <td>31.777184</td>\n",
       "      <td>79.005035</td>\n",
       "      <td>53.079363</td>\n",
       "      <td>43.596908</td>\n",
       "      <td>9.482455</td>\n",
       "      <td>3.046933</td>\n",
       "    </tr>\n",
       "    <tr>\n",
       "      <th>std</th>\n",
       "      <td>18.571293</td>\n",
       "      <td>39.159688</td>\n",
       "      <td>113.876910</td>\n",
       "      <td>82.040953</td>\n",
       "      <td>50.229963</td>\n",
       "      <td>1.994379</td>\n",
       "    </tr>\n",
       "    <tr>\n",
       "      <th>min</th>\n",
       "      <td>1.000000</td>\n",
       "      <td>1.000000</td>\n",
       "      <td>1.000000</td>\n",
       "      <td>0.000000</td>\n",
       "      <td>0.000000</td>\n",
       "      <td>0.000000</td>\n",
       "    </tr>\n",
       "    <tr>\n",
       "      <th>25%</th>\n",
       "      <td>16.000000</td>\n",
       "      <td>50.000000</td>\n",
       "      <td>4.000000</td>\n",
       "      <td>3.000000</td>\n",
       "      <td>0.000000</td>\n",
       "      <td>1.000000</td>\n",
       "    </tr>\n",
       "    <tr>\n",
       "      <th>50%</th>\n",
       "      <td>31.000000</td>\n",
       "      <td>81.000000</td>\n",
       "      <td>12.000000</td>\n",
       "      <td>10.000000</td>\n",
       "      <td>1.000000</td>\n",
       "      <td>3.000000</td>\n",
       "    </tr>\n",
       "    <tr>\n",
       "      <th>75%</th>\n",
       "      <td>47.000000</td>\n",
       "      <td>112.000000</td>\n",
       "      <td>48.000000</td>\n",
       "      <td>42.000000</td>\n",
       "      <td>4.000000</td>\n",
       "      <td>5.000000</td>\n",
       "    </tr>\n",
       "    <tr>\n",
       "      <th>max</th>\n",
       "      <td>66.000000</td>\n",
       "      <td>144.000000</td>\n",
       "      <td>4362.000000</td>\n",
       "      <td>1084.000000</td>\n",
       "      <td>3872.000000</td>\n",
       "      <td>6.000000</td>\n",
       "    </tr>\n",
       "  </tbody>\n",
       "</table>\n",
       "</div>"
      ],
      "text/plain": [
       "                  id      TimePiece         demand         supply  \\\n",
       "count  171415.000000  171415.000000  171415.000000  171415.000000   \n",
       "mean       31.777184      79.005035      53.079363      43.596908   \n",
       "std        18.571293      39.159688     113.876910      82.040953   \n",
       "min         1.000000       1.000000       1.000000       0.000000   \n",
       "25%        16.000000      50.000000       4.000000       3.000000   \n",
       "50%        31.000000      81.000000      12.000000      10.000000   \n",
       "75%        47.000000     112.000000      48.000000      42.000000   \n",
       "max        66.000000     144.000000    4362.000000    1084.000000   \n",
       "\n",
       "                 gap           week  \n",
       "count  171415.000000  171415.000000  \n",
       "mean        9.482455       3.046933  \n",
       "std        50.229963       1.994379  \n",
       "min         0.000000       0.000000  \n",
       "25%         0.000000       1.000000  \n",
       "50%         1.000000       3.000000  \n",
       "75%         4.000000       5.000000  \n",
       "max      3872.000000       6.000000  "
      ]
     },
     "execution_count": 6,
     "metadata": {},
     "output_type": "execute_result"
    }
   ],
   "source": [
    "all_sd_df.describe()"
   ]
  },
  {
   "cell_type": "code",
   "execution_count": null,
   "metadata": {
    "collapsed": true
   },
   "outputs": [],
   "source": [
    "all_sd_df.to_csv()"
   ]
  },
  {
   "cell_type": "markdown",
   "metadata": {},
   "source": [
    "## 统计供应和需求， 算 缺口\n",
    "\n",
    "即 ** order2SDGap 函数 **\n",
    "\n",
    "区域 日期 时间片\n",
    "\n",
    "总条数（resp) 就是需求数\n",
    "\n",
    "有效resp 数 就是供应数， driver_id != null"
   ]
  },
  {
   "cell_type": "code",
   "execution_count": 8,
   "metadata": {
    "collapsed": false
   },
   "outputs": [],
   "source": [
    "group_all = train_order.loc[:, ['id', 'Date', 'TimePiece', 'Resp']].groupby(['id', 'Date', 'TimePiece'])"
   ]
  },
  {
   "cell_type": "code",
   "execution_count": null,
   "metadata": {
    "collapsed": false
   },
   "outputs": [],
   "source": [
    "sd_data = group_all.count()\n",
    "sd_data['supply'] = group_all.Resp.sum()\n",
    "sd_data['gap'] = sd_data.Resp - sd_data.supply\n",
    "sd_data.columns = ['demand', 'supply', 'gap']\n",
    "sd_data[:3]"
   ]
  },
  {
   "cell_type": "code",
   "execution_count": null,
   "metadata": {
    "collapsed": false
   },
   "outputs": [],
   "source": [
    "sd_data.describe()"
   ]
  },
  {
   "cell_type": "markdown",
   "metadata": {},
   "source": [
    "## 索引改列\n"
   ]
  },
  {
   "cell_type": "code",
   "execution_count": 9,
   "metadata": {
    "collapsed": false
   },
   "outputs": [
    {
     "data": {
      "text/html": [
       "<div>\n",
       "<table border=\"1\" class=\"dataframe\">\n",
       "  <thead>\n",
       "    <tr style=\"text-align: right;\">\n",
       "      <th></th>\n",
       "      <th>id</th>\n",
       "      <th>Date</th>\n",
       "      <th>TimePiece</th>\n",
       "      <th>demand</th>\n",
       "      <th>supply</th>\n",
       "      <th>gap</th>\n",
       "    </tr>\n",
       "  </thead>\n",
       "  <tbody>\n",
       "    <tr>\n",
       "      <th>0</th>\n",
       "      <td>1</td>\n",
       "      <td>2016-01-01</td>\n",
       "      <td>1</td>\n",
       "      <td>187</td>\n",
       "      <td>178</td>\n",
       "      <td>9</td>\n",
       "    </tr>\n",
       "    <tr>\n",
       "      <th>1</th>\n",
       "      <td>1</td>\n",
       "      <td>2016-01-01</td>\n",
       "      <td>2</td>\n",
       "      <td>198</td>\n",
       "      <td>191</td>\n",
       "      <td>7</td>\n",
       "    </tr>\n",
       "    <tr>\n",
       "      <th>2</th>\n",
       "      <td>1</td>\n",
       "      <td>2016-01-01</td>\n",
       "      <td>3</td>\n",
       "      <td>192</td>\n",
       "      <td>182</td>\n",
       "      <td>10</td>\n",
       "    </tr>\n",
       "    <tr>\n",
       "      <th>3</th>\n",
       "      <td>1</td>\n",
       "      <td>2016-01-01</td>\n",
       "      <td>4</td>\n",
       "      <td>172</td>\n",
       "      <td>167</td>\n",
       "      <td>5</td>\n",
       "    </tr>\n",
       "    <tr>\n",
       "      <th>4</th>\n",
       "      <td>1</td>\n",
       "      <td>2016-01-01</td>\n",
       "      <td>5</td>\n",
       "      <td>153</td>\n",
       "      <td>152</td>\n",
       "      <td>1</td>\n",
       "    </tr>\n",
       "  </tbody>\n",
       "</table>\n",
       "</div>"
      ],
      "text/plain": [
       "   id        Date  TimePiece  demand  supply  gap\n",
       "0   1  2016-01-01          1     187     178    9\n",
       "1   1  2016-01-01          2     198     191    7\n",
       "2   1  2016-01-01          3     192     182   10\n",
       "3   1  2016-01-01          4     172     167    5\n",
       "4   1  2016-01-01          5     153     152    1"
      ]
     },
     "execution_count": 9,
     "metadata": {},
     "output_type": "execute_result"
    }
   ],
   "source": [
    "sd_df = sd_data.reset_index(level = ['id', 'Date', 'TimePiece'])\n",
    "\n",
    "sd_df[:5]"
   ]
  },
  {
   "cell_type": "markdown",
   "metadata": {},
   "source": [
    "## 星期"
   ]
  },
  {
   "cell_type": "code",
   "execution_count": 22,
   "metadata": {
    "collapsed": true
   },
   "outputs": [],
   "source": [
    "sd_df['week'] = pd.Series([datetime.strptime(e, \"%Y-%m-%d\").weekday() for e in sd_df.Date])"
   ]
  },
  {
   "cell_type": "markdown",
   "metadata": {},
   "source": [
    "## 生成订单的供需缺口中间文件"
   ]
  },
  {
   "cell_type": "code",
   "execution_count": 25,
   "metadata": {
    "collapsed": true
   },
   "outputs": [],
   "source": [
    "sd_df.to_csv(train_sd_gap_file, index=False)"
   ]
  },
  {
   "cell_type": "code",
   "execution_count": 8,
   "metadata": {
    "collapsed": false
   },
   "outputs": [
    {
     "data": {
      "text/html": [
       "<div>\n",
       "<table border=\"1\" class=\"dataframe\">\n",
       "  <thead>\n",
       "    <tr style=\"text-align: right;\">\n",
       "      <th></th>\n",
       "      <th>id</th>\n",
       "      <th>Date</th>\n",
       "      <th>TimePiece</th>\n",
       "      <th>demand</th>\n",
       "      <th>supply</th>\n",
       "      <th>gap</th>\n",
       "      <th>week</th>\n",
       "    </tr>\n",
       "  </thead>\n",
       "  <tbody>\n",
       "    <tr>\n",
       "      <th>0</th>\n",
       "      <td>1</td>\n",
       "      <td>2016-01-01</td>\n",
       "      <td>1</td>\n",
       "      <td>187</td>\n",
       "      <td>178</td>\n",
       "      <td>9</td>\n",
       "      <td>4</td>\n",
       "    </tr>\n",
       "    <tr>\n",
       "      <th>1</th>\n",
       "      <td>1</td>\n",
       "      <td>2016-01-01</td>\n",
       "      <td>2</td>\n",
       "      <td>198</td>\n",
       "      <td>191</td>\n",
       "      <td>7</td>\n",
       "      <td>4</td>\n",
       "    </tr>\n",
       "    <tr>\n",
       "      <th>2</th>\n",
       "      <td>1</td>\n",
       "      <td>2016-01-01</td>\n",
       "      <td>3</td>\n",
       "      <td>192</td>\n",
       "      <td>182</td>\n",
       "      <td>10</td>\n",
       "      <td>4</td>\n",
       "    </tr>\n",
       "    <tr>\n",
       "      <th>3</th>\n",
       "      <td>1</td>\n",
       "      <td>2016-01-01</td>\n",
       "      <td>4</td>\n",
       "      <td>172</td>\n",
       "      <td>167</td>\n",
       "      <td>5</td>\n",
       "      <td>4</td>\n",
       "    </tr>\n",
       "    <tr>\n",
       "      <th>4</th>\n",
       "      <td>1</td>\n",
       "      <td>2016-01-01</td>\n",
       "      <td>5</td>\n",
       "      <td>153</td>\n",
       "      <td>152</td>\n",
       "      <td>1</td>\n",
       "      <td>4</td>\n",
       "    </tr>\n",
       "  </tbody>\n",
       "</table>\n",
       "</div>"
      ],
      "text/plain": [
       "   id        Date  TimePiece  demand  supply  gap  week\n",
       "0   1  2016-01-01          1     187     178    9     4\n",
       "1   1  2016-01-01          2     198     191    7     4\n",
       "2   1  2016-01-01          3     192     182   10     4\n",
       "3   1  2016-01-01          4     172     167    5     4\n",
       "4   1  2016-01-01          5     153     152    1     4"
      ]
     },
     "execution_count": 8,
     "metadata": {},
     "output_type": "execute_result"
    }
   ],
   "source": [
    "sd_df[:5]"
   ]
  },
  {
   "cell_type": "markdown",
   "metadata": {},
   "source": [
    "\n",
    "## 从订单供需缺口 中间文件恢复数据"
   ]
  },
  {
   "cell_type": "code",
   "execution_count": 6,
   "metadata": {
    "collapsed": true
   },
   "outputs": [],
   "source": [
    "sd_df = pd.read_csv(train_sd_gap_file, dtype = {'id': np.int16, 'TimePiece': np.int16, 'demand': np.int32, \n",
    "                                                'supply': np.int32, 'gap': np.int32, 'week': np.int8})"
   ]
  },
  {
   "cell_type": "markdown",
   "metadata": {},
   "source": [
    "## 1月8号以后数据比较好"
   ]
  },
  {
   "cell_type": "code",
   "execution_count": 7,
   "metadata": {
    "collapsed": false
   },
   "outputs": [
    {
     "data": {
      "text/html": [
       "<div>\n",
       "<table border=\"1\" class=\"dataframe\">\n",
       "  <thead>\n",
       "    <tr style=\"text-align: right;\">\n",
       "      <th></th>\n",
       "      <th>id</th>\n",
       "      <th>Date</th>\n",
       "      <th>TimePiece</th>\n",
       "      <th>demand</th>\n",
       "      <th>supply</th>\n",
       "      <th>gap</th>\n",
       "      <th>week</th>\n",
       "    </tr>\n",
       "  </thead>\n",
       "  <tbody>\n",
       "    <tr>\n",
       "      <th>1008</th>\n",
       "      <td>1</td>\n",
       "      <td>2016-01-08</td>\n",
       "      <td>1</td>\n",
       "      <td>76</td>\n",
       "      <td>72</td>\n",
       "      <td>4</td>\n",
       "      <td>4</td>\n",
       "    </tr>\n",
       "    <tr>\n",
       "      <th>1009</th>\n",
       "      <td>1</td>\n",
       "      <td>2016-01-08</td>\n",
       "      <td>2</td>\n",
       "      <td>51</td>\n",
       "      <td>50</td>\n",
       "      <td>1</td>\n",
       "      <td>4</td>\n",
       "    </tr>\n",
       "    <tr>\n",
       "      <th>1010</th>\n",
       "      <td>1</td>\n",
       "      <td>2016-01-08</td>\n",
       "      <td>3</td>\n",
       "      <td>54</td>\n",
       "      <td>53</td>\n",
       "      <td>1</td>\n",
       "      <td>4</td>\n",
       "    </tr>\n",
       "  </tbody>\n",
       "</table>\n",
       "</div>"
      ],
      "text/plain": [
       "      id        Date  TimePiece  demand  supply  gap  week\n",
       "1008   1  2016-01-08          1      76      72    4     4\n",
       "1009   1  2016-01-08          2      51      50    1     4\n",
       "1010   1  2016-01-08          3      54      53    1     4"
      ]
     },
     "execution_count": 7,
     "metadata": {},
     "output_type": "execute_result"
    }
   ],
   "source": [
    "data = sd_df[sd_df.Date > '2016-01-07']\n",
    "data[:3]"
   ]
  },
  {
   "cell_type": "code",
   "execution_count": 8,
   "metadata": {
    "collapsed": false
   },
   "outputs": [
    {
     "data": {
      "text/html": [
       "<div>\n",
       "<table border=\"1\" class=\"dataframe\">\n",
       "  <thead>\n",
       "    <tr style=\"text-align: right;\">\n",
       "      <th></th>\n",
       "      <th>id</th>\n",
       "      <th>TimePiece</th>\n",
       "      <th>demand</th>\n",
       "      <th>supply</th>\n",
       "      <th>gap</th>\n",
       "      <th>week</th>\n",
       "    </tr>\n",
       "  </thead>\n",
       "  <tbody>\n",
       "    <tr>\n",
       "      <th>count</th>\n",
       "      <td>109059.000000</td>\n",
       "      <td>109059.000000</td>\n",
       "      <td>109059.000000</td>\n",
       "      <td>109059.000000</td>\n",
       "      <td>109059.000000</td>\n",
       "      <td>109059.000000</td>\n",
       "    </tr>\n",
       "    <tr>\n",
       "      <th>mean</th>\n",
       "      <td>31.771041</td>\n",
       "      <td>78.345666</td>\n",
       "      <td>54.242905</td>\n",
       "      <td>44.511402</td>\n",
       "      <td>9.731503</td>\n",
       "      <td>3.006969</td>\n",
       "    </tr>\n",
       "    <tr>\n",
       "      <th>std</th>\n",
       "      <td>18.573738</td>\n",
       "      <td>39.415784</td>\n",
       "      <td>114.400586</td>\n",
       "      <td>83.286968</td>\n",
       "      <td>46.109139</td>\n",
       "      <td>2.002055</td>\n",
       "    </tr>\n",
       "    <tr>\n",
       "      <th>min</th>\n",
       "      <td>1.000000</td>\n",
       "      <td>1.000000</td>\n",
       "      <td>1.000000</td>\n",
       "      <td>0.000000</td>\n",
       "      <td>0.000000</td>\n",
       "      <td>0.000000</td>\n",
       "    </tr>\n",
       "    <tr>\n",
       "      <th>25%</th>\n",
       "      <td>16.000000</td>\n",
       "      <td>49.000000</td>\n",
       "      <td>4.000000</td>\n",
       "      <td>3.000000</td>\n",
       "      <td>0.000000</td>\n",
       "      <td>1.000000</td>\n",
       "    </tr>\n",
       "    <tr>\n",
       "      <th>50%</th>\n",
       "      <td>31.000000</td>\n",
       "      <td>80.000000</td>\n",
       "      <td>12.000000</td>\n",
       "      <td>10.000000</td>\n",
       "      <td>1.000000</td>\n",
       "      <td>3.000000</td>\n",
       "    </tr>\n",
       "    <tr>\n",
       "      <th>75%</th>\n",
       "      <td>47.000000</td>\n",
       "      <td>112.000000</td>\n",
       "      <td>48.000000</td>\n",
       "      <td>43.000000</td>\n",
       "      <td>4.000000</td>\n",
       "      <td>5.000000</td>\n",
       "    </tr>\n",
       "    <tr>\n",
       "      <th>max</th>\n",
       "      <td>66.000000</td>\n",
       "      <td>144.000000</td>\n",
       "      <td>1863.000000</td>\n",
       "      <td>902.000000</td>\n",
       "      <td>1341.000000</td>\n",
       "      <td>6.000000</td>\n",
       "    </tr>\n",
       "  </tbody>\n",
       "</table>\n",
       "</div>"
      ],
      "text/plain": [
       "                  id      TimePiece         demand         supply  \\\n",
       "count  109059.000000  109059.000000  109059.000000  109059.000000   \n",
       "mean       31.771041      78.345666      54.242905      44.511402   \n",
       "std        18.573738      39.415784     114.400586      83.286968   \n",
       "min         1.000000       1.000000       1.000000       0.000000   \n",
       "25%        16.000000      49.000000       4.000000       3.000000   \n",
       "50%        31.000000      80.000000      12.000000      10.000000   \n",
       "75%        47.000000     112.000000      48.000000      43.000000   \n",
       "max        66.000000     144.000000    1863.000000     902.000000   \n",
       "\n",
       "                 gap           week  \n",
       "count  109059.000000  109059.000000  \n",
       "mean        9.731503       3.006969  \n",
       "std        46.109139       2.002055  \n",
       "min         0.000000       0.000000  \n",
       "25%         0.000000       1.000000  \n",
       "50%         1.000000       3.000000  \n",
       "75%         4.000000       5.000000  \n",
       "max      1341.000000       6.000000  "
      ]
     },
     "execution_count": 8,
     "metadata": {},
     "output_type": "execute_result"
    }
   ],
   "source": [
    "data.describe()"
   ]
  },
  {
   "cell_type": "markdown",
   "metadata": {},
   "source": [
    "## 时间片， 试求平均\n",
    "\n",
    "再 星期分组"
   ]
  },
  {
   "cell_type": "code",
   "execution_count": 29,
   "metadata": {
    "collapsed": true
   },
   "outputs": [],
   "source": [
    "groupData = data.groupby(['TimePiece', 'week', 'id'])"
   ]
  },
  {
   "cell_type": "code",
   "execution_count": 31,
   "metadata": {
    "collapsed": false
   },
   "outputs": [],
   "source": [
    "groupdf = groupData['demand', 'supply', 'gap'].mean()"
   ]
  },
  {
   "cell_type": "code",
   "execution_count": 32,
   "metadata": {
    "collapsed": false
   },
   "outputs": [
    {
     "data": {
      "text/html": [
       "<div>\n",
       "<table border=\"1\" class=\"dataframe\">\n",
       "  <thead>\n",
       "    <tr style=\"text-align: right;\">\n",
       "      <th></th>\n",
       "      <th></th>\n",
       "      <th></th>\n",
       "      <th>demand</th>\n",
       "      <th>supply</th>\n",
       "      <th>gap</th>\n",
       "    </tr>\n",
       "    <tr>\n",
       "      <th>TimePiece</th>\n",
       "      <th>week</th>\n",
       "      <th>id</th>\n",
       "      <th></th>\n",
       "      <th></th>\n",
       "      <th></th>\n",
       "    </tr>\n",
       "  </thead>\n",
       "  <tbody>\n",
       "    <tr>\n",
       "      <th rowspan=\"5\" valign=\"top\">1</th>\n",
       "      <th rowspan=\"5\" valign=\"top\">0</th>\n",
       "      <th>1</th>\n",
       "      <td>78.0</td>\n",
       "      <td>69.0</td>\n",
       "      <td>9.0</td>\n",
       "    </tr>\n",
       "    <tr>\n",
       "      <th>2</th>\n",
       "      <td>6.0</td>\n",
       "      <td>6.0</td>\n",
       "      <td>0.0</td>\n",
       "    </tr>\n",
       "    <tr>\n",
       "      <th>3</th>\n",
       "      <td>1.0</td>\n",
       "      <td>1.0</td>\n",
       "      <td>0.0</td>\n",
       "    </tr>\n",
       "    <tr>\n",
       "      <th>4</th>\n",
       "      <td>14.0</td>\n",
       "      <td>13.5</td>\n",
       "      <td>0.5</td>\n",
       "    </tr>\n",
       "    <tr>\n",
       "      <th>6</th>\n",
       "      <td>2.5</td>\n",
       "      <td>2.0</td>\n",
       "      <td>0.5</td>\n",
       "    </tr>\n",
       "  </tbody>\n",
       "</table>\n",
       "</div>"
      ],
      "text/plain": [
       "                   demand  supply  gap\n",
       "TimePiece week id                     \n",
       "1         0    1     78.0    69.0  9.0\n",
       "               2      6.0     6.0  0.0\n",
       "               3      1.0     1.0  0.0\n",
       "               4     14.0    13.5  0.5\n",
       "               6      2.5     2.0  0.5"
      ]
     },
     "execution_count": 32,
     "metadata": {},
     "output_type": "execute_result"
    }
   ],
   "source": [
    "groupdf[:5]"
   ]
  },
  {
   "cell_type": "code",
   "execution_count": 38,
   "metadata": {
    "collapsed": false
   },
   "outputs": [
    {
     "data": {
      "text/html": [
       "<div>\n",
       "<table border=\"1\" class=\"dataframe\">\n",
       "  <thead>\n",
       "    <tr style=\"text-align: right;\">\n",
       "      <th></th>\n",
       "      <th>id</th>\n",
       "      <th>Date</th>\n",
       "      <th>TimePiece</th>\n",
       "      <th>demand</th>\n",
       "      <th>supply</th>\n",
       "      <th>gap</th>\n",
       "    </tr>\n",
       "  </thead>\n",
       "  <tbody>\n",
       "    <tr>\n",
       "      <th>130048</th>\n",
       "      <td>51</td>\n",
       "      <td>2016-01-01</td>\n",
       "      <td>6</td>\n",
       "      <td>4362</td>\n",
       "      <td>490</td>\n",
       "      <td>3872</td>\n",
       "    </tr>\n",
       "    <tr>\n",
       "      <th>130047</th>\n",
       "      <td>51</td>\n",
       "      <td>2016-01-01</td>\n",
       "      <td>5</td>\n",
       "      <td>4296</td>\n",
       "      <td>512</td>\n",
       "      <td>3784</td>\n",
       "    </tr>\n",
       "    <tr>\n",
       "      <th>130049</th>\n",
       "      <td>51</td>\n",
       "      <td>2016-01-01</td>\n",
       "      <td>7</td>\n",
       "      <td>4056</td>\n",
       "      <td>454</td>\n",
       "      <td>3602</td>\n",
       "    </tr>\n",
       "  </tbody>\n",
       "</table>\n",
       "</div>"
      ],
      "text/plain": [
       "        id        Date  TimePiece  demand  supply   gap\n",
       "130048  51  2016-01-01          6    4362     490  3872\n",
       "130047  51  2016-01-01          5    4296     512  3784\n",
       "130049  51  2016-01-01          7    4056     454  3602"
      ]
     },
     "execution_count": 38,
     "metadata": {},
     "output_type": "execute_result"
    }
   ],
   "source": [
    "sd_df.sort_values('demand', ascending=False)[:3]"
   ]
  },
  {
   "cell_type": "markdown",
   "metadata": {},
   "source": [
    "# 先星期分组， 再地区加时间片分组\n"
   ]
  },
  {
   "cell_type": "code",
   "execution_count": 10,
   "metadata": {
    "collapsed": true
   },
   "outputs": [],
   "source": [
    "groupData = data.groupby(['week', 'TimePiece', 'id']).mean()"
   ]
  },
  {
   "cell_type": "code",
   "execution_count": 11,
   "metadata": {
    "collapsed": false
   },
   "outputs": [
    {
     "data": {
      "text/html": [
       "<div>\n",
       "<table border=\"1\" class=\"dataframe\">\n",
       "  <thead>\n",
       "    <tr style=\"text-align: right;\">\n",
       "      <th></th>\n",
       "      <th></th>\n",
       "      <th></th>\n",
       "      <th>demand</th>\n",
       "      <th>supply</th>\n",
       "      <th>gap</th>\n",
       "    </tr>\n",
       "    <tr>\n",
       "      <th>week</th>\n",
       "      <th>TimePiece</th>\n",
       "      <th>id</th>\n",
       "      <th></th>\n",
       "      <th></th>\n",
       "      <th></th>\n",
       "    </tr>\n",
       "  </thead>\n",
       "  <tbody>\n",
       "    <tr>\n",
       "      <th rowspan=\"5\" valign=\"top\">0</th>\n",
       "      <th rowspan=\"5\" valign=\"top\">1</th>\n",
       "      <th>1</th>\n",
       "      <td>78.0</td>\n",
       "      <td>69.0</td>\n",
       "      <td>9.0</td>\n",
       "    </tr>\n",
       "    <tr>\n",
       "      <th>2</th>\n",
       "      <td>6.0</td>\n",
       "      <td>6.0</td>\n",
       "      <td>0.0</td>\n",
       "    </tr>\n",
       "    <tr>\n",
       "      <th>3</th>\n",
       "      <td>1.0</td>\n",
       "      <td>1.0</td>\n",
       "      <td>0.0</td>\n",
       "    </tr>\n",
       "    <tr>\n",
       "      <th>4</th>\n",
       "      <td>14.0</td>\n",
       "      <td>13.5</td>\n",
       "      <td>0.5</td>\n",
       "    </tr>\n",
       "    <tr>\n",
       "      <th>6</th>\n",
       "      <td>2.5</td>\n",
       "      <td>2.0</td>\n",
       "      <td>0.5</td>\n",
       "    </tr>\n",
       "  </tbody>\n",
       "</table>\n",
       "</div>"
      ],
      "text/plain": [
       "                   demand  supply  gap\n",
       "week TimePiece id                     \n",
       "0    1         1     78.0    69.0  9.0\n",
       "               2      6.0     6.0  0.0\n",
       "               3      1.0     1.0  0.0\n",
       "               4     14.0    13.5  0.5\n",
       "               6      2.5     2.0  0.5"
      ]
     },
     "execution_count": 11,
     "metadata": {},
     "output_type": "execute_result"
    }
   ],
   "source": [
    "groupData[:5]"
   ]
  },
  {
   "cell_type": "code",
   "execution_count": 13,
   "metadata": {
    "collapsed": false
   },
   "outputs": [],
   "source": [
    "group_df = groupData.reset_index()"
   ]
  },
  {
   "cell_type": "markdown",
   "metadata": {},
   "source": [
    "# 交通情况处理\n",
    "\n",
    "## 读取文件"
   ]
  },
  {
   "cell_type": "code",
   "execution_count": 4,
   "metadata": {
    "collapsed": true
   },
   "outputs": [],
   "source": [
    "train_traffic = pd.read_csv(train_traffic_file, sep=\"\\t\", header=None,\n",
    "                          names=['hashid', 'traffic1', 'traffic2', 'traffic3', 'traffic4', 'Time'])"
   ]
  },
  {
   "cell_type": "code",
   "execution_count": 10,
   "metadata": {
    "collapsed": false
   },
   "outputs": [
    {
     "data": {
      "text/plain": [
       "193553"
      ]
     },
     "execution_count": 10,
     "metadata": {},
     "output_type": "execute_result"
    }
   ],
   "source": [
    "len(train_traffic)"
   ]
  },
  {
   "cell_type": "markdown",
   "metadata": {},
   "source": [
    "## 交通拥堵情况评估标准\n",
    "\n",
    "1. 四个等级\n",
    "2. t1,..,t4 各自路段数\n",
    "\n",
    "$ value = (t1 * 1 + t2 * 2 + t3 * 3 + t4 * 4) * 0.1 / (t1 * t2 * t3 * t4) $ \n",
    "\n",
    "再用 max, min 归一化"
   ]
  },
  {
   "cell_type": "code",
   "execution_count": 113,
   "metadata": {
    "collapsed": true
   },
   "outputs": [],
   "source": [
    "def deal_traffic(traffic_file):\n",
    "    traffic_data = pd.read_csv(traffic_file, sep=\"\\t\", header=None,\n",
    "                          names=['hashid', 'traffic1', 'traffic2', 'traffic3', 'traffic4', 'Time'])\n",
    "    traffic_data['Date'] = pd.Series([e.split()[0] for e in traffic_data['Time']])\n",
    "    traffic_data['TimePiece'] = pd.Series([time2Slice(e.split()[1]) for e in traffic_data['Time']])\n",
    "    traffic_data.traffic1 = pd.Series([ int(e.split(':')[1]) for e in traffic_data.traffic1])\n",
    "    traffic_data.traffic2 = pd.Series([ int(e.split(':')[1]) for e in traffic_data.traffic2])\n",
    "    traffic_data.traffic3 = pd.Series([ int(e.split(':')[1]) for e in traffic_data.traffic3])\n",
    "    traffic_data.traffic4 = pd.Series([ int(e.split(':')[1]) for e in traffic_data.traffic4])\n",
    "    \n",
    "    traffic_data['traffic'] = pd.Series((traffic_data.traffic1 + traffic_data.traffic2 * 2 + traffic_data.traffic3 * 3 + traffic_data.traffic4 * 4)\n",
    "                                  * 0.1 /(traffic_data.traffic1 + traffic_data.traffic2 + traffic_data.traffic3 + traffic_data.traffic4) )\n",
    "    traffic_min = traffic_data['traffic'].min()\n",
    "    traffic_max = traffic_data['traffic'].max()\n",
    "\n",
    "    print traffic_max, traffic_min\n",
    "    \n",
    "    traffic_data['traffic'] = (traffic_data['traffic'] - traffic_min) / (traffic_max - traffic_min)\n",
    "    \n",
    "    small_traffic = traffic_data.loc[:, ['hashid', 'Date', 'TimePiece', 'traffic']]\n",
    "    return small_traffic.sort_values(['hashid', 'Date', 'TimePiece'])"
   ]
  },
  {
   "cell_type": "code",
   "execution_count": 114,
   "metadata": {
    "collapsed": false
   },
   "outputs": [
    {
     "name": "stdout",
     "output_type": "stream",
     "text": [
      "0.4 0.1\n"
     ]
    }
   ],
   "source": [
    "# all_traffic_file\n",
    "all_traffic = deal_traffic(all_traffic_file)"
   ]
  },
  {
   "cell_type": "code",
   "execution_count": 116,
   "metadata": {
    "collapsed": false
   },
   "outputs": [
    {
     "data": {
      "text/html": [
       "<div>\n",
       "<table border=\"1\" class=\"dataframe\">\n",
       "  <thead>\n",
       "    <tr style=\"text-align: right;\">\n",
       "      <th></th>\n",
       "      <th>TimePiece</th>\n",
       "      <th>traffic</th>\n",
       "    </tr>\n",
       "  </thead>\n",
       "  <tbody>\n",
       "    <tr>\n",
       "      <th>count</th>\n",
       "      <td>201934.000000</td>\n",
       "      <td>201934.000000</td>\n",
       "    </tr>\n",
       "    <tr>\n",
       "      <th>mean</th>\n",
       "      <td>73.537913</td>\n",
       "      <td>0.094944</td>\n",
       "    </tr>\n",
       "    <tr>\n",
       "      <th>std</th>\n",
       "      <td>41.009222</td>\n",
       "      <td>0.043510</td>\n",
       "    </tr>\n",
       "    <tr>\n",
       "      <th>min</th>\n",
       "      <td>2.000000</td>\n",
       "      <td>0.000000</td>\n",
       "    </tr>\n",
       "    <tr>\n",
       "      <th>25%</th>\n",
       "      <td>39.000000</td>\n",
       "      <td>0.066667</td>\n",
       "    </tr>\n",
       "    <tr>\n",
       "      <th>50%</th>\n",
       "      <td>74.000000</td>\n",
       "      <td>0.093333</td>\n",
       "    </tr>\n",
       "    <tr>\n",
       "      <th>75%</th>\n",
       "      <td>109.000000</td>\n",
       "      <td>0.122040</td>\n",
       "    </tr>\n",
       "    <tr>\n",
       "      <th>max</th>\n",
       "      <td>144.000000</td>\n",
       "      <td>1.000000</td>\n",
       "    </tr>\n",
       "  </tbody>\n",
       "</table>\n",
       "</div>"
      ],
      "text/plain": [
       "           TimePiece        traffic\n",
       "count  201934.000000  201934.000000\n",
       "mean       73.537913       0.094944\n",
       "std        41.009222       0.043510\n",
       "min         2.000000       0.000000\n",
       "25%        39.000000       0.066667\n",
       "50%        74.000000       0.093333\n",
       "75%       109.000000       0.122040\n",
       "max       144.000000       1.000000"
      ]
     },
     "execution_count": 116,
     "metadata": {},
     "output_type": "execute_result"
    }
   ],
   "source": [
    "all_traffic.describe()"
   ]
  },
  {
   "cell_type": "markdown",
   "metadata": {},
   "source": [
    "## 交通情况中间文件"
   ]
  },
  {
   "cell_type": "code",
   "execution_count": 118,
   "metadata": {
    "collapsed": false
   },
   "outputs": [],
   "source": [
    "all_traffic.to_csv(traffic_file, index = False)"
   ]
  },
  {
   "cell_type": "markdown",
   "metadata": {
    "collapsed": true
   },
   "source": [
    "## 从交通情况中间文件恢复数据"
   ]
  },
  {
   "cell_type": "code",
   "execution_count": 11,
   "metadata": {
    "collapsed": false
   },
   "outputs": [
    {
     "data": {
      "text/html": [
       "<div>\n",
       "<table border=\"1\" class=\"dataframe\">\n",
       "  <thead>\n",
       "    <tr style=\"text-align: right;\">\n",
       "      <th></th>\n",
       "      <th>hashid</th>\n",
       "      <th>Date</th>\n",
       "      <th>TimePiece</th>\n",
       "      <th>traffic</th>\n",
       "      <th>week</th>\n",
       "    </tr>\n",
       "  </thead>\n",
       "  <tbody>\n",
       "    <tr>\n",
       "      <th>0</th>\n",
       "      <td>08232402614a9b48895cc3d0aeb0e9f2</td>\n",
       "      <td>2016-01-01</td>\n",
       "      <td>2</td>\n",
       "      <td>0.075000</td>\n",
       "      <td>4</td>\n",
       "    </tr>\n",
       "    <tr>\n",
       "      <th>1</th>\n",
       "      <td>08232402614a9b48895cc3d0aeb0e9f2</td>\n",
       "      <td>2016-01-01</td>\n",
       "      <td>3</td>\n",
       "      <td>0.127854</td>\n",
       "      <td>4</td>\n",
       "    </tr>\n",
       "    <tr>\n",
       "      <th>2</th>\n",
       "      <td>08232402614a9b48895cc3d0aeb0e9f2</td>\n",
       "      <td>2016-01-01</td>\n",
       "      <td>4</td>\n",
       "      <td>0.161994</td>\n",
       "      <td>4</td>\n",
       "    </tr>\n",
       "    <tr>\n",
       "      <th>3</th>\n",
       "      <td>08232402614a9b48895cc3d0aeb0e9f2</td>\n",
       "      <td>2016-01-01</td>\n",
       "      <td>5</td>\n",
       "      <td>0.117460</td>\n",
       "      <td>4</td>\n",
       "    </tr>\n",
       "  </tbody>\n",
       "</table>\n",
       "</div>"
      ],
      "text/plain": [
       "                             hashid        Date  TimePiece   traffic  week\n",
       "0  08232402614a9b48895cc3d0aeb0e9f2  2016-01-01          2  0.075000     4\n",
       "1  08232402614a9b48895cc3d0aeb0e9f2  2016-01-01          3  0.127854     4\n",
       "2  08232402614a9b48895cc3d0aeb0e9f2  2016-01-01          4  0.161994     4\n",
       "3  08232402614a9b48895cc3d0aeb0e9f2  2016-01-01          5  0.117460     4"
      ]
     },
     "execution_count": 11,
     "metadata": {},
     "output_type": "execute_result"
    }
   ],
   "source": [
    "all_traffic = pd.read_csv(traffic_file, dtype={'TimePiece': np.int16})\n",
    "all_traffic['week'] = pd.Series([datetime.strptime(e, \"%Y-%m-%d\").weekday() for e in all_traffic.Date])\n",
    "#groupWeek = train_traffic.groupby('week')\n",
    "all_traffic[:4]"
   ]
  },
  {
   "cell_type": "code",
   "execution_count": 12,
   "metadata": {
    "collapsed": false
   },
   "outputs": [
    {
     "data": {
      "text/html": [
       "<div>\n",
       "<table border=\"1\" class=\"dataframe\">\n",
       "  <thead>\n",
       "    <tr style=\"text-align: right;\">\n",
       "      <th></th>\n",
       "      <th>TimePiece</th>\n",
       "      <th>traffic</th>\n",
       "      <th>week</th>\n",
       "    </tr>\n",
       "  </thead>\n",
       "  <tbody>\n",
       "    <tr>\n",
       "      <th>count</th>\n",
       "      <td>201934.000000</td>\n",
       "      <td>201934.000000</td>\n",
       "      <td>201934.000000</td>\n",
       "    </tr>\n",
       "    <tr>\n",
       "      <th>mean</th>\n",
       "      <td>73.537913</td>\n",
       "      <td>0.094944</td>\n",
       "      <td>3.039206</td>\n",
       "    </tr>\n",
       "    <tr>\n",
       "      <th>std</th>\n",
       "      <td>41.009222</td>\n",
       "      <td>0.043510</td>\n",
       "      <td>2.000580</td>\n",
       "    </tr>\n",
       "    <tr>\n",
       "      <th>min</th>\n",
       "      <td>2.000000</td>\n",
       "      <td>0.000000</td>\n",
       "      <td>0.000000</td>\n",
       "    </tr>\n",
       "    <tr>\n",
       "      <th>25%</th>\n",
       "      <td>39.000000</td>\n",
       "      <td>0.066667</td>\n",
       "      <td>1.000000</td>\n",
       "    </tr>\n",
       "    <tr>\n",
       "      <th>50%</th>\n",
       "      <td>74.000000</td>\n",
       "      <td>0.093333</td>\n",
       "      <td>3.000000</td>\n",
       "    </tr>\n",
       "    <tr>\n",
       "      <th>75%</th>\n",
       "      <td>109.000000</td>\n",
       "      <td>0.122040</td>\n",
       "      <td>5.000000</td>\n",
       "    </tr>\n",
       "    <tr>\n",
       "      <th>max</th>\n",
       "      <td>144.000000</td>\n",
       "      <td>1.000000</td>\n",
       "      <td>6.000000</td>\n",
       "    </tr>\n",
       "  </tbody>\n",
       "</table>\n",
       "</div>"
      ],
      "text/plain": [
       "           TimePiece        traffic           week\n",
       "count  201934.000000  201934.000000  201934.000000\n",
       "mean       73.537913       0.094944       3.039206\n",
       "std        41.009222       0.043510       2.000580\n",
       "min         2.000000       0.000000       0.000000\n",
       "25%        39.000000       0.066667       1.000000\n",
       "50%        74.000000       0.093333       3.000000\n",
       "75%       109.000000       0.122040       5.000000\n",
       "max       144.000000       1.000000       6.000000"
      ]
     },
     "execution_count": 12,
     "metadata": {},
     "output_type": "execute_result"
    }
   ],
   "source": [
    "all_traffic.describe()"
   ]
  },
  {
   "cell_type": "markdown",
   "metadata": {},
   "source": [
    "## 完整交通情况填充\n",
    "\n",
    "若干日期 * 66个区域 * 144 个时间片（30-144必需）"
   ]
  },
  {
   "cell_type": "code",
   "execution_count": 7,
   "metadata": {
    "collapsed": false
   },
   "outputs": [
    {
     "data": {
      "text/html": [
       "<div>\n",
       "<table border=\"1\" class=\"dataframe\">\n",
       "  <thead>\n",
       "    <tr style=\"text-align: right;\">\n",
       "      <th></th>\n",
       "      <th>hashid</th>\n",
       "      <th>Date</th>\n",
       "      <th>TimePiece</th>\n",
       "      <th>traffic</th>\n",
       "      <th>id</th>\n",
       "    </tr>\n",
       "  </thead>\n",
       "  <tbody>\n",
       "    <tr>\n",
       "      <th>0</th>\n",
       "      <td>08232402614a9b48895cc3d0aeb0e9f2</td>\n",
       "      <td>2016-01-01</td>\n",
       "      <td>2</td>\n",
       "      <td>0.075000</td>\n",
       "      <td>50</td>\n",
       "    </tr>\n",
       "    <tr>\n",
       "      <th>1</th>\n",
       "      <td>08232402614a9b48895cc3d0aeb0e9f2</td>\n",
       "      <td>2016-01-01</td>\n",
       "      <td>3</td>\n",
       "      <td>0.127854</td>\n",
       "      <td>50</td>\n",
       "    </tr>\n",
       "    <tr>\n",
       "      <th>2</th>\n",
       "      <td>08232402614a9b48895cc3d0aeb0e9f2</td>\n",
       "      <td>2016-01-01</td>\n",
       "      <td>4</td>\n",
       "      <td>0.161994</td>\n",
       "      <td>50</td>\n",
       "    </tr>\n",
       "  </tbody>\n",
       "</table>\n",
       "</div>"
      ],
      "text/plain": [
       "                             hashid        Date  TimePiece   traffic  id\n",
       "0  08232402614a9b48895cc3d0aeb0e9f2  2016-01-01          2  0.075000  50\n",
       "1  08232402614a9b48895cc3d0aeb0e9f2  2016-01-01          3  0.127854  50\n",
       "2  08232402614a9b48895cc3d0aeb0e9f2  2016-01-01          4  0.161994  50"
      ]
     },
     "execution_count": 7,
     "metadata": {},
     "output_type": "execute_result"
    }
   ],
   "source": [
    "all_traffic = all_traffic.merge(cluster_map, left_on='hashid', right_on='hashid')\n",
    "all_traffic[:3]"
   ]
  },
  {
   "cell_type": "code",
   "execution_count": 8,
   "metadata": {
    "collapsed": false
   },
   "outputs": [
    {
     "name": "stdout",
     "output_type": "stream",
     "text": [
      "201934\n"
     ]
    }
   ],
   "source": [
    "print len(all_traffic)"
   ]
  },
  {
   "cell_type": "code",
   "execution_count": null,
   "metadata": {
    "collapsed": false,
    "scrolled": true
   },
   "outputs": [],
   "source": [
    "train_traffic = all_traffic[all_traffic.Date < '2016-01-22']\n"
   ]
  },
  {
   "cell_type": "code",
   "execution_count": 3,
   "metadata": {
    "collapsed": false
   },
   "outputs": [
    {
     "name": "stdout",
     "output_type": "stream",
     "text": [
      "[1, 2, 3, 4, 5, 6, 7, 8, 9, 10, 11, 12, 13, 14, 15, 16, 17, 18, 19, 20, 21, 22, 24, 26, 28, 30] 144\n"
     ]
    }
   ],
   "source": [
    "day = range(1, 23) + [24, 26, 28, 30]\n",
    "time = range(1, 145)\n",
    "print day, len(time)"
   ]
  },
  {
   "cell_type": "code",
   "execution_count": 4,
   "metadata": {
    "collapsed": false
   },
   "outputs": [
    {
     "name": "stdout",
     "output_type": "stream",
     "text": [
      "247104 247104 247104\n"
     ]
    }
   ],
   "source": [
    "regid = np.array([])\n",
    "dates = np.array([])\n",
    "times = np.array([])\n",
    "\n",
    "\n",
    "for d in day:\n",
    "    dates = np.hstack((dates, np.array(['2016-01-%02d' % d] * 66 * 144)))\n",
    "\n",
    "    for i in range(66):\n",
    "        regid = np.hstack((regid, np.array([i+1] * 144)))\n",
    "        times = np.hstack((times, time))\n",
    "\n",
    "print len(dates), len(regid), len(times)\n",
    "full_df = pd.DataFrame({'id': regid, 'Date': dates, 'TimePiece': times}, columns=['id', 'Date', 'TimePiece'])"
   ]
  },
  {
   "cell_type": "code",
   "execution_count": 47,
   "metadata": {
    "collapsed": false
   },
   "outputs": [
    {
     "data": {
      "text/plain": [
       "285120"
      ]
     },
     "execution_count": 47,
     "metadata": {},
     "output_type": "execute_result"
    }
   ],
   "source": [
    "len(full_df)"
   ]
  },
  {
   "cell_type": "code",
   "execution_count": 6,
   "metadata": {
    "collapsed": true
   },
   "outputs": [],
   "source": [
    "full_index_file = os.path.join(base_dir, '..', 'fullindex.csv')\n",
    "full_df.to_csv(full_index_file, index=False)"
   ]
  },
  {
   "cell_type": "code",
   "execution_count": 112,
   "metadata": {
    "collapsed": true
   },
   "outputs": [],
   "source": [
    "traffic_df = full_df.merge(all_traffic, on=['id', 'Date', 'TimePiece'], how='left')"
   ]
  },
  {
   "cell_type": "code",
   "execution_count": 104,
   "metadata": {
    "collapsed": false
   },
   "outputs": [
    {
     "data": {
      "text/plain": [
       "247104"
      ]
     },
     "execution_count": 104,
     "metadata": {},
     "output_type": "execute_result"
    }
   ],
   "source": [
    "len(traffic_df)"
   ]
  },
  {
   "cell_type": "code",
   "execution_count": 113,
   "metadata": {
    "collapsed": false
   },
   "outputs": [
    {
     "data": {
      "text/html": [
       "<div>\n",
       "<table border=\"1\" class=\"dataframe\">\n",
       "  <thead>\n",
       "    <tr style=\"text-align: right;\">\n",
       "      <th></th>\n",
       "      <th>id</th>\n",
       "      <th>Date</th>\n",
       "      <th>TimePiece</th>\n",
       "      <th>hashid</th>\n",
       "      <th>traffic</th>\n",
       "    </tr>\n",
       "  </thead>\n",
       "  <tbody>\n",
       "    <tr>\n",
       "      <th>0</th>\n",
       "      <td>1</td>\n",
       "      <td>2016-01-01</td>\n",
       "      <td>1</td>\n",
       "      <td>NaN</td>\n",
       "      <td>NaN</td>\n",
       "    </tr>\n",
       "    <tr>\n",
       "      <th>1</th>\n",
       "      <td>1</td>\n",
       "      <td>2016-01-01</td>\n",
       "      <td>2</td>\n",
       "      <td>90c5a34f06ac86aee0fd70e2adce7d8a</td>\n",
       "      <td>0.140094</td>\n",
       "    </tr>\n",
       "    <tr>\n",
       "      <th>2</th>\n",
       "      <td>1</td>\n",
       "      <td>2016-01-01</td>\n",
       "      <td>3</td>\n",
       "      <td>90c5a34f06ac86aee0fd70e2adce7d8a</td>\n",
       "      <td>0.120108</td>\n",
       "    </tr>\n",
       "    <tr>\n",
       "      <th>3</th>\n",
       "      <td>1</td>\n",
       "      <td>2016-01-01</td>\n",
       "      <td>4</td>\n",
       "      <td>90c5a34f06ac86aee0fd70e2adce7d8a</td>\n",
       "      <td>0.122376</td>\n",
       "    </tr>\n",
       "    <tr>\n",
       "      <th>4</th>\n",
       "      <td>1</td>\n",
       "      <td>2016-01-01</td>\n",
       "      <td>5</td>\n",
       "      <td>90c5a34f06ac86aee0fd70e2adce7d8a</td>\n",
       "      <td>0.114789</td>\n",
       "    </tr>\n",
       "  </tbody>\n",
       "</table>\n",
       "</div>"
      ],
      "text/plain": [
       "   id        Date  TimePiece                            hashid   traffic\n",
       "0   1  2016-01-01          1                               NaN       NaN\n",
       "1   1  2016-01-01          2  90c5a34f06ac86aee0fd70e2adce7d8a  0.140094\n",
       "2   1  2016-01-01          3  90c5a34f06ac86aee0fd70e2adce7d8a  0.120108\n",
       "3   1  2016-01-01          4  90c5a34f06ac86aee0fd70e2adce7d8a  0.122376\n",
       "4   1  2016-01-01          5  90c5a34f06ac86aee0fd70e2adce7d8a  0.114789"
      ]
     },
     "execution_count": 113,
     "metadata": {},
     "output_type": "execute_result"
    }
   ],
   "source": [
    "traffic_df[:5]"
   ]
  },
  {
   "cell_type": "code",
   "execution_count": 96,
   "metadata": {
    "collapsed": false
   },
   "outputs": [
    {
     "data": {
      "text/html": [
       "<div>\n",
       "<table border=\"1\" class=\"dataframe\">\n",
       "  <thead>\n",
       "    <tr style=\"text-align: right;\">\n",
       "      <th></th>\n",
       "      <th>id</th>\n",
       "      <th>TimePiece</th>\n",
       "      <th>traffic</th>\n",
       "    </tr>\n",
       "  </thead>\n",
       "  <tbody>\n",
       "    <tr>\n",
       "      <th>count</th>\n",
       "      <td>247104.00000</td>\n",
       "      <td>247104.000000</td>\n",
       "      <td>201934.000000</td>\n",
       "    </tr>\n",
       "    <tr>\n",
       "      <th>mean</th>\n",
       "      <td>33.50000</td>\n",
       "      <td>72.500000</td>\n",
       "      <td>0.094944</td>\n",
       "    </tr>\n",
       "    <tr>\n",
       "      <th>std</th>\n",
       "      <td>19.05041</td>\n",
       "      <td>41.568301</td>\n",
       "      <td>0.043510</td>\n",
       "    </tr>\n",
       "    <tr>\n",
       "      <th>min</th>\n",
       "      <td>1.00000</td>\n",
       "      <td>1.000000</td>\n",
       "      <td>0.000000</td>\n",
       "    </tr>\n",
       "    <tr>\n",
       "      <th>25%</th>\n",
       "      <td>17.00000</td>\n",
       "      <td>36.750000</td>\n",
       "      <td>0.066667</td>\n",
       "    </tr>\n",
       "    <tr>\n",
       "      <th>50%</th>\n",
       "      <td>33.50000</td>\n",
       "      <td>72.500000</td>\n",
       "      <td>0.093333</td>\n",
       "    </tr>\n",
       "    <tr>\n",
       "      <th>75%</th>\n",
       "      <td>50.00000</td>\n",
       "      <td>108.250000</td>\n",
       "      <td>0.122040</td>\n",
       "    </tr>\n",
       "    <tr>\n",
       "      <th>max</th>\n",
       "      <td>66.00000</td>\n",
       "      <td>144.000000</td>\n",
       "      <td>1.000000</td>\n",
       "    </tr>\n",
       "  </tbody>\n",
       "</table>\n",
       "</div>"
      ],
      "text/plain": [
       "                 id      TimePiece        traffic\n",
       "count  247104.00000  247104.000000  201934.000000\n",
       "mean       33.50000      72.500000       0.094944\n",
       "std        19.05041      41.568301       0.043510\n",
       "min         1.00000       1.000000       0.000000\n",
       "25%        17.00000      36.750000       0.066667\n",
       "50%        33.50000      72.500000       0.093333\n",
       "75%        50.00000     108.250000       0.122040\n",
       "max        66.00000     144.000000       1.000000"
      ]
     },
     "execution_count": 96,
     "metadata": {},
     "output_type": "execute_result"
    }
   ],
   "source": [
    "traffic_df.describe()"
   ]
  },
  {
   "cell_type": "code",
   "execution_count": 57,
   "metadata": {
    "collapsed": false
   },
   "outputs": [
    {
     "data": {
      "text/plain": [
       "1980"
      ]
     },
     "execution_count": 57,
     "metadata": {},
     "output_type": "execute_result"
    }
   ],
   "source": [
    "print len(traffic_df[traffic_df.TimePiece == 1])\n",
    "print len(traffic_df[traffic_df.TimePiece == 2])"
   ]
  },
  {
   "cell_type": "code",
   "execution_count": 115,
   "metadata": {
    "collapsed": false,
    "scrolled": true
   },
   "outputs": [
    {
     "data": {
      "text/plain": [
       "1"
      ]
     },
     "execution_count": 115,
     "metadata": {},
     "output_type": "execute_result"
    }
   ],
   "source": [
    "sum(traffic_df.traffic.isnull())\n",
    "#(traffic_df[traffic_df.TimePiece == 2].traffic + traffic_df[traffic_df.TimePiece == 144].traffic) * 1.0 / 2)"
   ]
  },
  {
   "cell_type": "code",
   "execution_count": 114,
   "metadata": {
    "collapsed": false,
    "scrolled": true
   },
   "outputs": [],
   "source": [
    "traffic_df.traffic = traffic_df.traffic.interpolate()\n"
   ]
  },
  {
   "cell_type": "code",
   "execution_count": 118,
   "metadata": {
    "collapsed": false
   },
   "outputs": [],
   "source": [
    "traffic_df.traffic = traffic_df.traffic.fillna(method='bfill')"
   ]
  },
  {
   "cell_type": "code",
   "execution_count": null,
   "metadata": {
    "collapsed": false
   },
   "outputs": [],
   "source": [
    "traffic_df = traffic_df.drop('hashid', 1)\n",
    "traffic_df[:4]"
   ]
  },
  {
   "cell_type": "code",
   "execution_count": 120,
   "metadata": {
    "collapsed": false
   },
   "outputs": [
    {
     "data": {
      "text/html": [
       "<div>\n",
       "<table border=\"1\" class=\"dataframe\">\n",
       "  <thead>\n",
       "    <tr style=\"text-align: right;\">\n",
       "      <th></th>\n",
       "      <th>id</th>\n",
       "      <th>Date</th>\n",
       "      <th>TimePiece</th>\n",
       "      <th>traffic</th>\n",
       "      <th>hashid</th>\n",
       "    </tr>\n",
       "  </thead>\n",
       "  <tbody>\n",
       "    <tr>\n",
       "      <th>0</th>\n",
       "      <td>1</td>\n",
       "      <td>2016-01-01</td>\n",
       "      <td>1</td>\n",
       "      <td>0.140094</td>\n",
       "      <td>90c5a34f06ac86aee0fd70e2adce7d8a</td>\n",
       "    </tr>\n",
       "    <tr>\n",
       "      <th>1</th>\n",
       "      <td>1</td>\n",
       "      <td>2016-01-01</td>\n",
       "      <td>2</td>\n",
       "      <td>0.140094</td>\n",
       "      <td>90c5a34f06ac86aee0fd70e2adce7d8a</td>\n",
       "    </tr>\n",
       "    <tr>\n",
       "      <th>2</th>\n",
       "      <td>1</td>\n",
       "      <td>2016-01-01</td>\n",
       "      <td>3</td>\n",
       "      <td>0.120108</td>\n",
       "      <td>90c5a34f06ac86aee0fd70e2adce7d8a</td>\n",
       "    </tr>\n",
       "    <tr>\n",
       "      <th>3</th>\n",
       "      <td>1</td>\n",
       "      <td>2016-01-01</td>\n",
       "      <td>4</td>\n",
       "      <td>0.122376</td>\n",
       "      <td>90c5a34f06ac86aee0fd70e2adce7d8a</td>\n",
       "    </tr>\n",
       "    <tr>\n",
       "      <th>4</th>\n",
       "      <td>1</td>\n",
       "      <td>2016-01-01</td>\n",
       "      <td>5</td>\n",
       "      <td>0.114789</td>\n",
       "      <td>90c5a34f06ac86aee0fd70e2adce7d8a</td>\n",
       "    </tr>\n",
       "    <tr>\n",
       "      <th>5</th>\n",
       "      <td>1</td>\n",
       "      <td>2016-01-01</td>\n",
       "      <td>6</td>\n",
       "      <td>0.129444</td>\n",
       "      <td>90c5a34f06ac86aee0fd70e2adce7d8a</td>\n",
       "    </tr>\n",
       "    <tr>\n",
       "      <th>6</th>\n",
       "      <td>1</td>\n",
       "      <td>2016-01-01</td>\n",
       "      <td>7</td>\n",
       "      <td>0.106965</td>\n",
       "      <td>90c5a34f06ac86aee0fd70e2adce7d8a</td>\n",
       "    </tr>\n",
       "    <tr>\n",
       "      <th>7</th>\n",
       "      <td>1</td>\n",
       "      <td>2016-01-01</td>\n",
       "      <td>8</td>\n",
       "      <td>0.123303</td>\n",
       "      <td>90c5a34f06ac86aee0fd70e2adce7d8a</td>\n",
       "    </tr>\n",
       "    <tr>\n",
       "      <th>8</th>\n",
       "      <td>1</td>\n",
       "      <td>2016-01-01</td>\n",
       "      <td>9</td>\n",
       "      <td>0.137937</td>\n",
       "      <td>90c5a34f06ac86aee0fd70e2adce7d8a</td>\n",
       "    </tr>\n",
       "    <tr>\n",
       "      <th>9</th>\n",
       "      <td>1</td>\n",
       "      <td>2016-01-01</td>\n",
       "      <td>10</td>\n",
       "      <td>0.107652</td>\n",
       "      <td>90c5a34f06ac86aee0fd70e2adce7d8a</td>\n",
       "    </tr>\n",
       "  </tbody>\n",
       "</table>\n",
       "</div>"
      ],
      "text/plain": [
       "   id        Date  TimePiece   traffic                            hashid\n",
       "0   1  2016-01-01          1  0.140094  90c5a34f06ac86aee0fd70e2adce7d8a\n",
       "1   1  2016-01-01          2  0.140094  90c5a34f06ac86aee0fd70e2adce7d8a\n",
       "2   1  2016-01-01          3  0.120108  90c5a34f06ac86aee0fd70e2adce7d8a\n",
       "3   1  2016-01-01          4  0.122376  90c5a34f06ac86aee0fd70e2adce7d8a\n",
       "4   1  2016-01-01          5  0.114789  90c5a34f06ac86aee0fd70e2adce7d8a\n",
       "5   1  2016-01-01          6  0.129444  90c5a34f06ac86aee0fd70e2adce7d8a\n",
       "6   1  2016-01-01          7  0.106965  90c5a34f06ac86aee0fd70e2adce7d8a\n",
       "7   1  2016-01-01          8  0.123303  90c5a34f06ac86aee0fd70e2adce7d8a\n",
       "8   1  2016-01-01          9  0.137937  90c5a34f06ac86aee0fd70e2adce7d8a\n",
       "9   1  2016-01-01         10  0.107652  90c5a34f06ac86aee0fd70e2adce7d8a"
      ]
     },
     "execution_count": 120,
     "metadata": {},
     "output_type": "execute_result"
    }
   ],
   "source": [
    "t = traffic_df.merge(cluster_map, on='id', how = 'left')\n",
    "t[:10]"
   ]
  },
  {
   "cell_type": "code",
   "execution_count": 121,
   "metadata": {
    "collapsed": false
   },
   "outputs": [
    {
     "data": {
      "text/html": [
       "<div>\n",
       "<table border=\"1\" class=\"dataframe\">\n",
       "  <thead>\n",
       "    <tr style=\"text-align: right;\">\n",
       "      <th></th>\n",
       "      <th>hashid</th>\n",
       "      <th>Date</th>\n",
       "      <th>TimePiece</th>\n",
       "      <th>traffic</th>\n",
       "    </tr>\n",
       "  </thead>\n",
       "  <tbody>\n",
       "    <tr>\n",
       "      <th>0</th>\n",
       "      <td>90c5a34f06ac86aee0fd70e2adce7d8a</td>\n",
       "      <td>2016-01-01</td>\n",
       "      <td>1</td>\n",
       "      <td>0.140094</td>\n",
       "    </tr>\n",
       "    <tr>\n",
       "      <th>1</th>\n",
       "      <td>90c5a34f06ac86aee0fd70e2adce7d8a</td>\n",
       "      <td>2016-01-01</td>\n",
       "      <td>2</td>\n",
       "      <td>0.140094</td>\n",
       "    </tr>\n",
       "    <tr>\n",
       "      <th>2</th>\n",
       "      <td>90c5a34f06ac86aee0fd70e2adce7d8a</td>\n",
       "      <td>2016-01-01</td>\n",
       "      <td>3</td>\n",
       "      <td>0.120108</td>\n",
       "    </tr>\n",
       "    <tr>\n",
       "      <th>3</th>\n",
       "      <td>90c5a34f06ac86aee0fd70e2adce7d8a</td>\n",
       "      <td>2016-01-01</td>\n",
       "      <td>4</td>\n",
       "      <td>0.122376</td>\n",
       "    </tr>\n",
       "    <tr>\n",
       "      <th>4</th>\n",
       "      <td>90c5a34f06ac86aee0fd70e2adce7d8a</td>\n",
       "      <td>2016-01-01</td>\n",
       "      <td>5</td>\n",
       "      <td>0.114789</td>\n",
       "    </tr>\n",
       "    <tr>\n",
       "      <th>5</th>\n",
       "      <td>90c5a34f06ac86aee0fd70e2adce7d8a</td>\n",
       "      <td>2016-01-01</td>\n",
       "      <td>6</td>\n",
       "      <td>0.129444</td>\n",
       "    </tr>\n",
       "    <tr>\n",
       "      <th>6</th>\n",
       "      <td>90c5a34f06ac86aee0fd70e2adce7d8a</td>\n",
       "      <td>2016-01-01</td>\n",
       "      <td>7</td>\n",
       "      <td>0.106965</td>\n",
       "    </tr>\n",
       "    <tr>\n",
       "      <th>7</th>\n",
       "      <td>90c5a34f06ac86aee0fd70e2adce7d8a</td>\n",
       "      <td>2016-01-01</td>\n",
       "      <td>8</td>\n",
       "      <td>0.123303</td>\n",
       "    </tr>\n",
       "    <tr>\n",
       "      <th>8</th>\n",
       "      <td>90c5a34f06ac86aee0fd70e2adce7d8a</td>\n",
       "      <td>2016-01-01</td>\n",
       "      <td>9</td>\n",
       "      <td>0.137937</td>\n",
       "    </tr>\n",
       "    <tr>\n",
       "      <th>9</th>\n",
       "      <td>90c5a34f06ac86aee0fd70e2adce7d8a</td>\n",
       "      <td>2016-01-01</td>\n",
       "      <td>10</td>\n",
       "      <td>0.107652</td>\n",
       "    </tr>\n",
       "  </tbody>\n",
       "</table>\n",
       "</div>"
      ],
      "text/plain": [
       "                             hashid        Date  TimePiece   traffic\n",
       "0  90c5a34f06ac86aee0fd70e2adce7d8a  2016-01-01          1  0.140094\n",
       "1  90c5a34f06ac86aee0fd70e2adce7d8a  2016-01-01          2  0.140094\n",
       "2  90c5a34f06ac86aee0fd70e2adce7d8a  2016-01-01          3  0.120108\n",
       "3  90c5a34f06ac86aee0fd70e2adce7d8a  2016-01-01          4  0.122376\n",
       "4  90c5a34f06ac86aee0fd70e2adce7d8a  2016-01-01          5  0.114789\n",
       "5  90c5a34f06ac86aee0fd70e2adce7d8a  2016-01-01          6  0.129444\n",
       "6  90c5a34f06ac86aee0fd70e2adce7d8a  2016-01-01          7  0.106965\n",
       "7  90c5a34f06ac86aee0fd70e2adce7d8a  2016-01-01          8  0.123303\n",
       "8  90c5a34f06ac86aee0fd70e2adce7d8a  2016-01-01          9  0.137937\n",
       "9  90c5a34f06ac86aee0fd70e2adce7d8a  2016-01-01         10  0.107652"
      ]
     },
     "execution_count": 121,
     "metadata": {},
     "output_type": "execute_result"
    }
   ],
   "source": [
    "t = t.loc[:, ['hashid', 'Date', 'TimePiece', 'traffic']]\n",
    "t[:10]"
   ]
  },
  {
   "cell_type": "code",
   "execution_count": 122,
   "metadata": {
    "collapsed": true
   },
   "outputs": [],
   "source": [
    "hashtraffic = os.path.join(base_dir, '..', 'traffic-1.csv')\n",
    "t.to_csv(hashtraffic, index=False)"
   ]
  },
  {
   "cell_type": "code",
   "execution_count": 43,
   "metadata": {
    "collapsed": false
   },
   "outputs": [
    {
     "data": {
      "text/plain": [
       "Int64Index([  2,   3,   4,   5,   6,   7,   8,   9,  10,  11,\n",
       "            ...\n",
       "            126, 127, 128, 138, 139, 140, 141, 142, 143, 144],\n",
       "           dtype='int64', name=u'TimePiece', length=120)"
      ]
     },
     "execution_count": 43,
     "metadata": {},
     "output_type": "execute_result"
    }
   ],
   "source": [
    "traffic_20.groupby('TimePiece').count().index"
   ]
  },
  {
   "cell_type": "code",
   "execution_count": 123,
   "metadata": {
    "collapsed": false
   },
   "outputs": [
    {
     "data": {
      "text/plain": [
       "<matplotlib.legend.Legend at 0x10d8ebe0>"
      ]
     },
     "execution_count": 123,
     "metadata": {},
     "output_type": "execute_result"
    },
    {
     "data": {
      "image/png": "[encoded data removed]",
      "text/plain": [
       "<matplotlib.figure.Figure at 0x18dedc88>"
      ]
     },
     "metadata": {},
     "output_type": "display_data"
    }
   ],
   "source": [
    "for i in range(21, 28):\n",
    "    traffic1 = traffic_df[traffic_df.Date == '2016-01-%02d' % i]\n",
    "    plt.plot(traffic1.groupby('TimePiece').traffic.mean(), label='%02d' % i)\n",
    "\n",
    "plt.legend()"
   ]
  },
  {
   "cell_type": "code",
   "execution_count": 9,
   "metadata": {
    "collapsed": false
   },
   "outputs": [
    {
     "name": "stdout",
     "output_type": "stream",
     "text": [
      "163491\n"
     ]
    },
    {
     "data": {
      "text/html": [
       "<div>\n",
       "<table border=\"1\" class=\"dataframe\">\n",
       "  <thead>\n",
       "    <tr style=\"text-align: right;\">\n",
       "      <th></th>\n",
       "      <th>id</th>\n",
       "      <th>Date</th>\n",
       "      <th>TimePiece</th>\n",
       "      <th>demand</th>\n",
       "      <th>supply</th>\n",
       "      <th>gap</th>\n",
       "      <th>week</th>\n",
       "    </tr>\n",
       "  </thead>\n",
       "  <tbody>\n",
       "    <tr>\n",
       "      <th>0</th>\n",
       "      <td>1</td>\n",
       "      <td>2016-01-01</td>\n",
       "      <td>1</td>\n",
       "      <td>187</td>\n",
       "      <td>178</td>\n",
       "      <td>9</td>\n",
       "      <td>4</td>\n",
       "    </tr>\n",
       "    <tr>\n",
       "      <th>1</th>\n",
       "      <td>1</td>\n",
       "      <td>2016-01-01</td>\n",
       "      <td>2</td>\n",
       "      <td>198</td>\n",
       "      <td>191</td>\n",
       "      <td>7</td>\n",
       "      <td>4</td>\n",
       "    </tr>\n",
       "    <tr>\n",
       "      <th>2</th>\n",
       "      <td>1</td>\n",
       "      <td>2016-01-01</td>\n",
       "      <td>3</td>\n",
       "      <td>192</td>\n",
       "      <td>182</td>\n",
       "      <td>10</td>\n",
       "      <td>4</td>\n",
       "    </tr>\n",
       "  </tbody>\n",
       "</table>\n",
       "</div>"
      ],
      "text/plain": [
       "   id        Date  TimePiece  demand  supply  gap  week\n",
       "0   1  2016-01-01          1     187     178    9     4\n",
       "1   1  2016-01-01          2     198     191    7     4\n",
       "2   1  2016-01-01          3     192     182   10     4"
      ]
     },
     "execution_count": 9,
     "metadata": {},
     "output_type": "execute_result"
    }
   ],
   "source": [
    "print len(sd_df)\n",
    "sd_df[:3]"
   ]
  },
  {
   "cell_type": "code",
   "execution_count": 11,
   "metadata": {
    "collapsed": false
   },
   "outputs": [
    {
     "data": {
      "text/html": [
       "<div>\n",
       "<table border=\"1\" class=\"dataframe\">\n",
       "  <thead>\n",
       "    <tr style=\"text-align: right;\">\n",
       "      <th></th>\n",
       "      <th>id</th>\n",
       "      <th>TimePiece</th>\n",
       "      <th>demand</th>\n",
       "      <th>supply</th>\n",
       "      <th>gap</th>\n",
       "      <th>week</th>\n",
       "      <th>traffic</th>\n",
       "    </tr>\n",
       "  </thead>\n",
       "  <tbody>\n",
       "    <tr>\n",
       "      <th>count</th>\n",
       "      <td>163491.000000</td>\n",
       "      <td>163491.000000</td>\n",
       "      <td>163491.000000</td>\n",
       "      <td>163491.000000</td>\n",
       "      <td>163491.000000</td>\n",
       "      <td>163491.000000</td>\n",
       "      <td>158255.000000</td>\n",
       "    </tr>\n",
       "    <tr>\n",
       "      <th>mean</th>\n",
       "      <td>31.732909</td>\n",
       "      <td>78.289814</td>\n",
       "      <td>52.239047</td>\n",
       "      <td>42.963552</td>\n",
       "      <td>9.275495</td>\n",
       "      <td>3.011780</td>\n",
       "      <td>0.100479</td>\n",
       "    </tr>\n",
       "    <tr>\n",
       "      <th>std</th>\n",
       "      <td>18.562100</td>\n",
       "      <td>39.426369</td>\n",
       "      <td>112.348401</td>\n",
       "      <td>81.039485</td>\n",
       "      <td>49.817422</td>\n",
       "      <td>1.999978</td>\n",
       "      <td>0.038391</td>\n",
       "    </tr>\n",
       "    <tr>\n",
       "      <th>min</th>\n",
       "      <td>1.000000</td>\n",
       "      <td>1.000000</td>\n",
       "      <td>1.000000</td>\n",
       "      <td>0.000000</td>\n",
       "      <td>0.000000</td>\n",
       "      <td>0.000000</td>\n",
       "      <td>0.000000</td>\n",
       "    </tr>\n",
       "    <tr>\n",
       "      <th>25%</th>\n",
       "      <td>16.000000</td>\n",
       "      <td>49.000000</td>\n",
       "      <td>4.000000</td>\n",
       "      <td>3.000000</td>\n",
       "      <td>0.000000</td>\n",
       "      <td>1.000000</td>\n",
       "      <td>0.073988</td>\n",
       "    </tr>\n",
       "    <tr>\n",
       "      <th>50%</th>\n",
       "      <td>31.000000</td>\n",
       "      <td>80.000000</td>\n",
       "      <td>12.000000</td>\n",
       "      <td>10.000000</td>\n",
       "      <td>1.000000</td>\n",
       "      <td>3.000000</td>\n",
       "      <td>0.098335</td>\n",
       "    </tr>\n",
       "    <tr>\n",
       "      <th>75%</th>\n",
       "      <td>47.000000</td>\n",
       "      <td>112.000000</td>\n",
       "      <td>47.000000</td>\n",
       "      <td>41.000000</td>\n",
       "      <td>4.000000</td>\n",
       "      <td>5.000000</td>\n",
       "      <td>0.125205</td>\n",
       "    </tr>\n",
       "    <tr>\n",
       "      <th>max</th>\n",
       "      <td>66.000000</td>\n",
       "      <td>144.000000</td>\n",
       "      <td>4362.000000</td>\n",
       "      <td>1084.000000</td>\n",
       "      <td>3872.000000</td>\n",
       "      <td>6.000000</td>\n",
       "      <td>0.666667</td>\n",
       "    </tr>\n",
       "  </tbody>\n",
       "</table>\n",
       "</div>"
      ],
      "text/plain": [
       "                  id      TimePiece         demand         supply  \\\n",
       "count  163491.000000  163491.000000  163491.000000  163491.000000   \n",
       "mean       31.732909      78.289814      52.239047      42.963552   \n",
       "std        18.562100      39.426369     112.348401      81.039485   \n",
       "min         1.000000       1.000000       1.000000       0.000000   \n",
       "25%        16.000000      49.000000       4.000000       3.000000   \n",
       "50%        31.000000      80.000000      12.000000      10.000000   \n",
       "75%        47.000000     112.000000      47.000000      41.000000   \n",
       "max        66.000000     144.000000    4362.000000    1084.000000   \n",
       "\n",
       "                 gap           week        traffic  \n",
       "count  163491.000000  163491.000000  158255.000000  \n",
       "mean        9.275495       3.011780       0.100479  \n",
       "std        49.817422       1.999978       0.038391  \n",
       "min         0.000000       0.000000       0.000000  \n",
       "25%         0.000000       1.000000       0.073988  \n",
       "50%         1.000000       3.000000       0.098335  \n",
       "75%         4.000000       5.000000       0.125205  \n",
       "max      3872.000000       6.000000       0.666667  "
      ]
     },
     "execution_count": 11,
     "metadata": {},
     "output_type": "execute_result"
    }
   ],
   "source": [
    "sdgt_df = sd_df.merge(all_traffic, on=['id', 'Date', 'TimePiece'], how='left')\n",
    "sdgt_df.describe()"
   ]
  },
  {
   "cell_type": "code",
   "execution_count": 12,
   "metadata": {
    "collapsed": false
   },
   "outputs": [
    {
     "data": {
      "text/plain": [
       "163491"
      ]
     },
     "execution_count": 12,
     "metadata": {},
     "output_type": "execute_result"
    }
   ],
   "source": [
    "len(sdgt_df)"
   ]
  },
  {
   "cell_type": "code",
   "execution_count": null,
   "metadata": {
    "collapsed": true
   },
   "outputs": [],
   "source": [
    "sd"
   ]
  },
  {
   "cell_type": "code",
   "execution_count": 25,
   "metadata": {
    "collapsed": false,
    "scrolled": true
   },
   "outputs": [
    {
     "name": "stdout",
     "output_type": "stream",
     "text": [
      "1057\n",
      "1096\n"
     ]
    }
   ],
   "source": [
    "print len(sdgt_df[sdgt_df.TimePiece == 2].traffic)\n",
    "print len(sdgt_df[sdgt_df.TimePiece == 144].traffic)"
   ]
  },
  {
   "cell_type": "code",
   "execution_count": 15,
   "metadata": {
    "collapsed": true
   },
   "outputs": [],
   "source": [
    "traffic0 = (sdgt_df[sdgt_df.TimePiece == 2].traffic + sdgt_df[sdgt_df.TimePiece == 144].traffic) / 2"
   ]
  },
  {
   "cell_type": "code",
   "execution_count": null,
   "metadata": {
    "collapsed": true
   },
   "outputs": [],
   "source": [
    "sdgt_df[sdgt_df.TimePiece == 1].traffic.fillna()"
   ]
  },
  {
   "cell_type": "code",
   "execution_count": null,
   "metadata": {
    "collapsed": false
   },
   "outputs": [],
   "source": [
    "sdgt_df[sdgt_df.traffic.isnull()]"
   ]
  }
 ],
 "metadata": {
  "kernelspec": {
   "display_name": "Python 2",
   "language": "python",
   "name": "python2"
  },
  "language_info": {
   "codemirror_mode": {
    "name": "ipython",
    "version": 2
   },
   "file_extension": ".py",
   "mimetype": "text/x-python",
   "name": "python",
   "nbconvert_exporter": "python",
   "pygments_lexer": "ipython2",
   "version": "2.7.11"
  }
 },
 "nbformat": 4,
 "nbformat_minor": 0
}
