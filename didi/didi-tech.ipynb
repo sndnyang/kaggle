{
 "cells": [
  {
   "cell_type": "markdown",
   "metadata": {},
   "source": [
    "# 滴滴比赛\n",
    "\n",
    "导入必须的！"
   ]
  },
  {
   "cell_type": "code",
   "execution_count": 2,
   "metadata": {
    "collapsed": true
   },
   "outputs": [],
   "source": [
    "import os\n",
    "import numpy as np\n",
    "import pandas as pd\n",
    "import matplotlib.pyplot as plt\n",
    "%matplotlib inline"
   ]
  },
  {
   "cell_type": "markdown",
   "metadata": {},
   "source": [
    "### 文件位置"
   ]
  },
  {
   "cell_type": "code",
   "execution_count": 3,
   "metadata": {
    "collapsed": false
   },
   "outputs": [],
   "source": [
    "\n",
    "base_dir = \"G:/project/dataset/didi/season_1/training_data\"\n",
    "\n",
    "train_cluster_map_file = os.path.join(base_dir, 'cluster_map', 'cluster_map')\n",
    "train_poi_file = os.path.join(base_dir, 'poi_data', 'poi_data')\n",
    "#train_order_file = os.path.join(base_dir, 'order_data', 'order_data_2016-01-21')\n",
    "#train_cluster_map = os.path.join(base_dir, 'cluster_map')\n",
    "train_order_file = os.path.join(base_dir, 'order_data', 'order_data.csv')\n",
    "\n",
    "train_traffic_file = os.path.join(base_dir, 'traffic_data', 'traffic-data.csv')\n",
    "\n",
    "all_traffic_file = os.path.join(base_dir, 'traffic_data', 'all_traffic.csv')\n",
    "\n",
    "test_base_dir = \"G:/project/dataset/didi/season_1/test_set_1\"\n",
    "test_traffic_file = os.path.join(base_dir, 'traffic_data', 'traffic-data.csv')"
   ]
  },
  {
   "cell_type": "markdown",
   "metadata": {},
   "source": [
    "## 区域 hashid 和 实际id\n",
    "\n",
    "cluster_map 数据， pandas 应该比 dict 快， 到时候 merge 或 join 比 从 dict 里找好。"
   ]
  },
  {
   "cell_type": "code",
   "execution_count": 4,
   "metadata": {
    "collapsed": false
   },
   "outputs": [],
   "source": [
    "cluster_map = pd.read_csv(train_cluster_map_file, sep=\"\\t\", header=None, names=['hashid', 'id'])"
   ]
  },
  {
   "cell_type": "code",
   "execution_count": 13,
   "metadata": {
    "collapsed": false
   },
   "outputs": [
    {
     "name": "stdout",
     "output_type": "stream",
     "text": [
      "66\n"
     ]
    }
   ],
   "source": [
    "print len(cluster_map)"
   ]
  },
  {
   "cell_type": "code",
   "execution_count": 65,
   "metadata": {
    "collapsed": false
   },
   "outputs": [
    {
     "data": {
      "text/html": [
       "<div>\n",
       "<table border=\"1\" class=\"dataframe\">\n",
       "  <thead>\n",
       "    <tr style=\"text-align: right;\">\n",
       "      <th></th>\n",
       "      <th>hashid</th>\n",
       "      <th>id</th>\n",
       "    </tr>\n",
       "  </thead>\n",
       "  <tbody>\n",
       "    <tr>\n",
       "      <th>0</th>\n",
       "      <td>90c5a34f06ac86aee0fd70e2adce7d8a</td>\n",
       "      <td>1</td>\n",
       "    </tr>\n",
       "    <tr>\n",
       "      <th>1</th>\n",
       "      <td>f2c8c4bb99e6377d21de71275afd6cd2</td>\n",
       "      <td>2</td>\n",
       "    </tr>\n",
       "  </tbody>\n",
       "</table>\n",
       "</div>"
      ],
      "text/plain": [
       "                             hashid  id\n",
       "0  90c5a34f06ac86aee0fd70e2adce7d8a   1\n",
       "1  f2c8c4bb99e6377d21de71275afd6cd2   2"
      ]
     },
     "execution_count": 65,
     "metadata": {},
     "output_type": "execute_result"
    }
   ],
   "source": [
    "cluster_map[:2]"
   ]
  },
  {
   "cell_type": "markdown",
   "metadata": {},
   "source": [
    "## 复习下 pandas 读数据\n",
    "\n",
    "1. 复习下数据读取, read_csv\n",
    "2. 个人认为不需要的数据， 如 order_id 等id， 该省略的省掉（order_id, passenger_id, dest_district_has）， 该转换的转换, driver_id 变成是否有接单， 时间拆出日期和时间片， start_distrct_hash 改成实际id。 节省空间。去掉一堆 hash的字符串， 可以省很多空间\n",
    "\n",
    "**也许有些信息还有用， 觉得有用时再补充回来**\n"
   ]
  },
  {
   "cell_type": "code",
   "execution_count": 9,
   "metadata": {
    "collapsed": true
   },
   "outputs": [],
   "source": [
    "# 时：分：秒 转成 10分钟的时间片\n",
    "def time2Slice(time_str):\n",
    "    l = time_str.split(\":\")\n",
    "    return int(l[0]) * 6 + int(l[1]) / 10 + 1"
   ]
  },
  {
   "cell_type": "code",
   "execution_count": 8,
   "metadata": {
    "collapsed": true
   },
   "outputs": [],
   "source": [
    "# Order data 的数据 hash 太多， 顺便复习下 pandas\n",
    "def reduceOrderFile(base_name, f):\n",
    "    import time\n",
    "    prev = time.time()\n",
    "    fname = os.path.join(base_name, f)\n",
    "    order = pd.read_csv(fname, sep=\"\\t\", header=None, dtype={'Price': np.str},\n",
    "                          names=['order_id', 'driver_id', 'passenger_id', 'start_district_hash', 'dest_district_hash',\n",
    "                                'Price', 'Time'])\n",
    "\n",
    "    full_order = order.merge(cluster_map, left_on='start_district_hash', right_on='hashid')\n",
    "\n",
    "    full_order['Date'] = pd.Series([e.split()[0] for e in full_order['Time']])\n",
    "\n",
    "    full_order['TimePiece'] = pd.Series([time2Slice(e.split()[1]) for e in full_order['Time']])\n",
    "\n",
    "    full_order['Resp'] = full_order['driver_id'].notnull()\n",
    "\n",
    "    small_order = full_order.loc[:, ['Date', 'TimePiece', 'id', 'Price', 'Resp']]\n",
    "    small_order_file = os.path.join(base_name, f + \".csv\")\n",
    "    small_order.to_csv(small_order_file, index = False)\n",
    "    print time.time() - prev\n",
    "    \n",
    "    #return small_order"
   ]
  },
  {
   "cell_type": "code",
   "execution_count": 7,
   "metadata": {
    "collapsed": false
   },
   "outputs": [],
   "source": [
    "# 测试函数\n",
    "\n",
    "def testReduceOrder():\n",
    "    z = reduceOrderFile('G:/project/dataset/citydata/season_1/training_data\\order_data', 'order_data_2016-01-21')\n",
    "    print len(z)\n",
    "    print sum(z['Resp'])"
   ]
  },
  {
   "cell_type": "code",
   "execution_count": 6,
   "metadata": {
    "collapsed": true
   },
   "outputs": [],
   "source": [
    "# 批量 order reduce\n",
    "def reduceFiles(base_name):\n",
    "    for rt, dirs, files in os.walk(base_name):\n",
    "        for f in files:           \n",
    "            reduceOrderFile(base_name, f)\n"
   ]
  },
  {
   "cell_type": "code",
   "execution_count": 11,
   "metadata": {
    "collapsed": false
   },
   "outputs": [],
   "source": [
    "# 运行过就不要再来了， 一个文件6秒， 20个文件， 还是要2分钟的。\n",
    "def runForOnce():\n",
    "    \n",
    "    reduceFiles(os.path.join(test_base_dir, 'order_data'))"
   ]
  },
  {
   "cell_type": "code",
   "execution_count": 43,
   "metadata": {
    "collapsed": false
   },
   "outputs": [],
   "source": [
    "def test_read_order():\n",
    "    train_order = pd.read_csv(train_order_file, sep=\"\\t\", header=None, dtype={'Price': np.float, 'driver_id': np.str},\n",
    "                          names=['order_id', 'driver_id', 'passenger_id', 'start_district_hash', 'dest_district_hash',\n",
    "                                'Price', 'Time'])\n",
    "    print len(train_order)\n",
    "    t = train_order['driver_id']\n",
    "    print t.notnull()\n",
    "    small_order = full_train_order.loc[:, ['Date', 'TimePiece', 'id', 'Price', 'Resp']]"
   ]
  },
  {
   "cell_type": "markdown",
   "metadata": {},
   "source": [
    "# 读取 order 数据\n",
    "\n",
    "训练和测试数据\n",
    "\n",
    "训练数据 训练 验证"
   ]
  },
  {
   "cell_type": "code",
   "execution_count": 12,
   "metadata": {
    "collapsed": false
   },
   "outputs": [
    {
     "data": {
      "text/html": [
       "<div>\n",
       "<table border=\"1\" class=\"dataframe\">\n",
       "  <thead>\n",
       "    <tr style=\"text-align: right;\">\n",
       "      <th></th>\n",
       "      <th>Date</th>\n",
       "      <th>TimePiece</th>\n",
       "      <th>id</th>\n",
       "      <th>Price</th>\n",
       "      <th>Resp</th>\n",
       "    </tr>\n",
       "  </thead>\n",
       "  <tbody>\n",
       "    <tr>\n",
       "      <th>0</th>\n",
       "      <td>2016-01-01</td>\n",
       "      <td>82</td>\n",
       "      <td>23</td>\n",
       "      <td>24</td>\n",
       "      <td>True</td>\n",
       "    </tr>\n",
       "    <tr>\n",
       "      <th>1</th>\n",
       "      <td>2016-01-01</td>\n",
       "      <td>87</td>\n",
       "      <td>23</td>\n",
       "      <td>5</td>\n",
       "      <td>True</td>\n",
       "    </tr>\n",
       "  </tbody>\n",
       "</table>\n",
       "</div>"
      ],
      "text/plain": [
       "         Date  TimePiece  id  Price  Resp\n",
       "0  2016-01-01         82  23     24  True\n",
       "1  2016-01-01         87  23      5  True"
      ]
     },
     "execution_count": 12,
     "metadata": {},
     "output_type": "execute_result"
    }
   ],
   "source": [
    "train_order = pd.read_csv(train_order_file, dtype={'TimePiece': np.int16, 'id': np.int16, 'Price': np.float, 'Resp': np.bool})\n",
    "train_order[:2]"
   ]
  },
  {
   "cell_type": "markdown",
   "metadata": {},
   "source": [
    "## 数据分组\n",
    "\n",
    "区域 日期 时间片"
   ]
  },
  {
   "cell_type": "code",
   "execution_count": 24,
   "metadata": {
    "collapsed": false
   },
   "outputs": [],
   "source": [
    "group_all = train_order.loc[:, ['id', 'Date', 'TimePiece', 'Resp']].groupby(['id', 'Date', 'TimePiece'])"
   ]
  },
  {
   "cell_type": "code",
   "execution_count": 25,
   "metadata": {
    "collapsed": false
   },
   "outputs": [
    {
     "data": {
      "text/html": [
       "<div>\n",
       "<table border=\"1\" class=\"dataframe\">\n",
       "  <thead>\n",
       "    <tr style=\"text-align: right;\">\n",
       "      <th></th>\n",
       "      <th></th>\n",
       "      <th></th>\n",
       "      <th>Resp</th>\n",
       "    </tr>\n",
       "    <tr>\n",
       "      <th>id</th>\n",
       "      <th>Date</th>\n",
       "      <th>TimePiece</th>\n",
       "      <th></th>\n",
       "    </tr>\n",
       "  </thead>\n",
       "  <tbody>\n",
       "    <tr>\n",
       "      <th rowspan=\"3\" valign=\"top\">1</th>\n",
       "      <th rowspan=\"3\" valign=\"top\">2016-01-01</th>\n",
       "      <th>1</th>\n",
       "      <td>187</td>\n",
       "    </tr>\n",
       "    <tr>\n",
       "      <th>2</th>\n",
       "      <td>198</td>\n",
       "    </tr>\n",
       "    <tr>\n",
       "      <th>3</th>\n",
       "      <td>192</td>\n",
       "    </tr>\n",
       "  </tbody>\n",
       "</table>\n",
       "</div>"
      ],
      "text/plain": [
       "                         Resp\n",
       "id Date       TimePiece      \n",
       "1  2016-01-01 1           187\n",
       "              2           198\n",
       "              3           192"
      ]
     },
     "execution_count": 25,
     "metadata": {},
     "output_type": "execute_result"
    }
   ],
   "source": [
    "sd_data = group_all.count()\n",
    "sd_data[:3]"
   ]
  },
  {
   "cell_type": "code",
   "execution_count": 26,
   "metadata": {
    "collapsed": false
   },
   "outputs": [
    {
     "data": {
      "text/html": [
       "<div>\n",
       "<table border=\"1\" class=\"dataframe\">\n",
       "  <thead>\n",
       "    <tr style=\"text-align: right;\">\n",
       "      <th></th>\n",
       "      <th></th>\n",
       "      <th></th>\n",
       "      <th>Resp</th>\n",
       "      <th>supply</th>\n",
       "    </tr>\n",
       "    <tr>\n",
       "      <th>id</th>\n",
       "      <th>Date</th>\n",
       "      <th>TimePiece</th>\n",
       "      <th></th>\n",
       "      <th></th>\n",
       "    </tr>\n",
       "  </thead>\n",
       "  <tbody>\n",
       "    <tr>\n",
       "      <th rowspan=\"3\" valign=\"top\">1</th>\n",
       "      <th rowspan=\"3\" valign=\"top\">2016-01-01</th>\n",
       "      <th>1</th>\n",
       "      <td>187</td>\n",
       "      <td>178</td>\n",
       "    </tr>\n",
       "    <tr>\n",
       "      <th>2</th>\n",
       "      <td>198</td>\n",
       "      <td>191</td>\n",
       "    </tr>\n",
       "    <tr>\n",
       "      <th>3</th>\n",
       "      <td>192</td>\n",
       "      <td>182</td>\n",
       "    </tr>\n",
       "  </tbody>\n",
       "</table>\n",
       "</div>"
      ],
      "text/plain": [
       "                         Resp  supply\n",
       "id Date       TimePiece              \n",
       "1  2016-01-01 1           187     178\n",
       "              2           198     191\n",
       "              3           192     182"
      ]
     },
     "execution_count": 26,
     "metadata": {},
     "output_type": "execute_result"
    }
   ],
   "source": [
    "sd_data['supply'] = group_all.Resp.sum()\n",
    "sd_data[:3]"
   ]
  },
  {
   "cell_type": "code",
   "execution_count": 27,
   "metadata": {
    "collapsed": false
   },
   "outputs": [
    {
     "data": {
      "text/html": [
       "<div>\n",
       "<table border=\"1\" class=\"dataframe\">\n",
       "  <thead>\n",
       "    <tr style=\"text-align: right;\">\n",
       "      <th></th>\n",
       "      <th></th>\n",
       "      <th></th>\n",
       "      <th>Resp</th>\n",
       "      <th>supply</th>\n",
       "      <th>gap</th>\n",
       "    </tr>\n",
       "    <tr>\n",
       "      <th>id</th>\n",
       "      <th>Date</th>\n",
       "      <th>TimePiece</th>\n",
       "      <th></th>\n",
       "      <th></th>\n",
       "      <th></th>\n",
       "    </tr>\n",
       "  </thead>\n",
       "  <tbody>\n",
       "    <tr>\n",
       "      <th rowspan=\"3\" valign=\"top\">1</th>\n",
       "      <th rowspan=\"3\" valign=\"top\">2016-01-01</th>\n",
       "      <th>1</th>\n",
       "      <td>187</td>\n",
       "      <td>178</td>\n",
       "      <td>9</td>\n",
       "    </tr>\n",
       "    <tr>\n",
       "      <th>2</th>\n",
       "      <td>198</td>\n",
       "      <td>191</td>\n",
       "      <td>7</td>\n",
       "    </tr>\n",
       "    <tr>\n",
       "      <th>3</th>\n",
       "      <td>192</td>\n",
       "      <td>182</td>\n",
       "      <td>10</td>\n",
       "    </tr>\n",
       "  </tbody>\n",
       "</table>\n",
       "</div>"
      ],
      "text/plain": [
       "                         Resp  supply  gap\n",
       "id Date       TimePiece                   \n",
       "1  2016-01-01 1           187     178    9\n",
       "              2           198     191    7\n",
       "              3           192     182   10"
      ]
     },
     "execution_count": 27,
     "metadata": {},
     "output_type": "execute_result"
    }
   ],
   "source": [
    "sd_data['gap'] = sd_data.Resp - sd_data.supply\n",
    "sd_data[:3]"
   ]
  },
  {
   "cell_type": "code",
   "execution_count": 29,
   "metadata": {
    "collapsed": false
   },
   "outputs": [
    {
     "data": {
      "text/html": [
       "<div>\n",
       "<table border=\"1\" class=\"dataframe\">\n",
       "  <thead>\n",
       "    <tr style=\"text-align: right;\">\n",
       "      <th></th>\n",
       "      <th>demand</th>\n",
       "      <th>supply</th>\n",
       "      <th>gap</th>\n",
       "    </tr>\n",
       "  </thead>\n",
       "  <tbody>\n",
       "    <tr>\n",
       "      <th>count</th>\n",
       "      <td>163491.000000</td>\n",
       "      <td>163491.000000</td>\n",
       "      <td>163491.000000</td>\n",
       "    </tr>\n",
       "    <tr>\n",
       "      <th>mean</th>\n",
       "      <td>52.239047</td>\n",
       "      <td>42.963552</td>\n",
       "      <td>9.275495</td>\n",
       "    </tr>\n",
       "    <tr>\n",
       "      <th>std</th>\n",
       "      <td>112.348401</td>\n",
       "      <td>81.039485</td>\n",
       "      <td>49.817422</td>\n",
       "    </tr>\n",
       "    <tr>\n",
       "      <th>min</th>\n",
       "      <td>1.000000</td>\n",
       "      <td>0.000000</td>\n",
       "      <td>0.000000</td>\n",
       "    </tr>\n",
       "    <tr>\n",
       "      <th>25%</th>\n",
       "      <td>4.000000</td>\n",
       "      <td>3.000000</td>\n",
       "      <td>0.000000</td>\n",
       "    </tr>\n",
       "    <tr>\n",
       "      <th>50%</th>\n",
       "      <td>12.000000</td>\n",
       "      <td>10.000000</td>\n",
       "      <td>1.000000</td>\n",
       "    </tr>\n",
       "    <tr>\n",
       "      <th>75%</th>\n",
       "      <td>47.000000</td>\n",
       "      <td>41.000000</td>\n",
       "      <td>4.000000</td>\n",
       "    </tr>\n",
       "    <tr>\n",
       "      <th>max</th>\n",
       "      <td>4362.000000</td>\n",
       "      <td>1084.000000</td>\n",
       "      <td>3872.000000</td>\n",
       "    </tr>\n",
       "  </tbody>\n",
       "</table>\n",
       "</div>"
      ],
      "text/plain": [
       "              demand         supply            gap\n",
       "count  163491.000000  163491.000000  163491.000000\n",
       "mean       52.239047      42.963552       9.275495\n",
       "std       112.348401      81.039485      49.817422\n",
       "min         1.000000       0.000000       0.000000\n",
       "25%         4.000000       3.000000       0.000000\n",
       "50%        12.000000      10.000000       1.000000\n",
       "75%        47.000000      41.000000       4.000000\n",
       "max      4362.000000    1084.000000    3872.000000"
      ]
     },
     "execution_count": 29,
     "metadata": {},
     "output_type": "execute_result"
    }
   ],
   "source": [
    "sd_data.columns = ['demand', 'supply', 'gap']\n",
    "sd_data.describe()"
   ]
  },
  {
   "cell_type": "code",
   "execution_count": 32,
   "metadata": {
    "collapsed": false
   },
   "outputs": [
    {
     "data": {
      "text/plain": [
       "(51, '2016-01-01', 6)"
      ]
     },
     "execution_count": 32,
     "metadata": {},
     "output_type": "execute_result"
    }
   ],
   "source": [
    "sd_data.gap.argmax()"
   ]
  },
  {
   "cell_type": "code",
   "execution_count": 33,
   "metadata": {
    "collapsed": false
   },
   "outputs": [
    {
     "data": {
      "text/html": [
       "<div>\n",
       "<table border=\"1\" class=\"dataframe\">\n",
       "  <thead>\n",
       "    <tr style=\"text-align: right;\">\n",
       "      <th></th>\n",
       "      <th></th>\n",
       "      <th></th>\n",
       "      <th>demand</th>\n",
       "      <th>supply</th>\n",
       "      <th>gap</th>\n",
       "    </tr>\n",
       "    <tr>\n",
       "      <th>id</th>\n",
       "      <th>Date</th>\n",
       "      <th>TimePiece</th>\n",
       "      <th></th>\n",
       "      <th></th>\n",
       "      <th></th>\n",
       "    </tr>\n",
       "  </thead>\n",
       "  <tbody>\n",
       "    <tr>\n",
       "      <th rowspan=\"3\" valign=\"top\">1</th>\n",
       "      <th rowspan=\"3\" valign=\"top\">2016-01-01</th>\n",
       "      <th>1</th>\n",
       "      <td>187</td>\n",
       "      <td>178</td>\n",
       "      <td>9</td>\n",
       "    </tr>\n",
       "    <tr>\n",
       "      <th>2</th>\n",
       "      <td>198</td>\n",
       "      <td>191</td>\n",
       "      <td>7</td>\n",
       "    </tr>\n",
       "    <tr>\n",
       "      <th>3</th>\n",
       "      <td>192</td>\n",
       "      <td>182</td>\n",
       "      <td>10</td>\n",
       "    </tr>\n",
       "  </tbody>\n",
       "</table>\n",
       "</div>"
      ],
      "text/plain": [
       "                         demand  supply  gap\n",
       "id Date       TimePiece                     \n",
       "1  2016-01-01 1             187     178    9\n",
       "              2             198     191    7\n",
       "              3             192     182   10"
      ]
     },
     "execution_count": 33,
     "metadata": {},
     "output_type": "execute_result"
    }
   ],
   "source": [
    "sd_data[:3]"
   ]
  },
  {
   "cell_type": "markdown",
   "metadata": {},
   "source": [
    "## 索引改列\n"
   ]
  },
  {
   "cell_type": "code",
   "execution_count": 34,
   "metadata": {
    "collapsed": false
   },
   "outputs": [
    {
     "data": {
      "text/html": [
       "<div>\n",
       "<table border=\"1\" class=\"dataframe\">\n",
       "  <thead>\n",
       "    <tr style=\"text-align: right;\">\n",
       "      <th></th>\n",
       "      <th>id</th>\n",
       "      <th>Date</th>\n",
       "      <th>TimePiece</th>\n",
       "      <th>demand</th>\n",
       "      <th>supply</th>\n",
       "      <th>gap</th>\n",
       "    </tr>\n",
       "  </thead>\n",
       "  <tbody>\n",
       "    <tr>\n",
       "      <th>0</th>\n",
       "      <td>1</td>\n",
       "      <td>2016-01-01</td>\n",
       "      <td>1</td>\n",
       "      <td>187</td>\n",
       "      <td>178</td>\n",
       "      <td>9</td>\n",
       "    </tr>\n",
       "    <tr>\n",
       "      <th>1</th>\n",
       "      <td>1</td>\n",
       "      <td>2016-01-01</td>\n",
       "      <td>2</td>\n",
       "      <td>198</td>\n",
       "      <td>191</td>\n",
       "      <td>7</td>\n",
       "    </tr>\n",
       "    <tr>\n",
       "      <th>2</th>\n",
       "      <td>1</td>\n",
       "      <td>2016-01-01</td>\n",
       "      <td>3</td>\n",
       "      <td>192</td>\n",
       "      <td>182</td>\n",
       "      <td>10</td>\n",
       "    </tr>\n",
       "    <tr>\n",
       "      <th>3</th>\n",
       "      <td>1</td>\n",
       "      <td>2016-01-01</td>\n",
       "      <td>4</td>\n",
       "      <td>172</td>\n",
       "      <td>167</td>\n",
       "      <td>5</td>\n",
       "    </tr>\n",
       "    <tr>\n",
       "      <th>4</th>\n",
       "      <td>1</td>\n",
       "      <td>2016-01-01</td>\n",
       "      <td>5</td>\n",
       "      <td>153</td>\n",
       "      <td>152</td>\n",
       "      <td>1</td>\n",
       "    </tr>\n",
       "  </tbody>\n",
       "</table>\n",
       "</div>"
      ],
      "text/plain": [
       "   id        Date  TimePiece  demand  supply  gap\n",
       "0   1  2016-01-01          1     187     178    9\n",
       "1   1  2016-01-01          2     198     191    7\n",
       "2   1  2016-01-01          3     192     182   10\n",
       "3   1  2016-01-01          4     172     167    5\n",
       "4   1  2016-01-01          5     153     152    1"
      ]
     },
     "execution_count": 34,
     "metadata": {},
     "output_type": "execute_result"
    }
   ],
   "source": [
    "sd_df = sd_data.reset_index(level = ['id', 'Date', 'TimePiece'])\n",
    "\n",
    "sd_df[:5]"
   ]
  },
  {
   "cell_type": "code",
   "execution_count": 38,
   "metadata": {
    "collapsed": false
   },
   "outputs": [
    {
     "data": {
      "text/html": [
       "<div>\n",
       "<table border=\"1\" class=\"dataframe\">\n",
       "  <thead>\n",
       "    <tr style=\"text-align: right;\">\n",
       "      <th></th>\n",
       "      <th>id</th>\n",
       "      <th>Date</th>\n",
       "      <th>TimePiece</th>\n",
       "      <th>demand</th>\n",
       "      <th>supply</th>\n",
       "      <th>gap</th>\n",
       "    </tr>\n",
       "  </thead>\n",
       "  <tbody>\n",
       "    <tr>\n",
       "      <th>130048</th>\n",
       "      <td>51</td>\n",
       "      <td>2016-01-01</td>\n",
       "      <td>6</td>\n",
       "      <td>4362</td>\n",
       "      <td>490</td>\n",
       "      <td>3872</td>\n",
       "    </tr>\n",
       "    <tr>\n",
       "      <th>130047</th>\n",
       "      <td>51</td>\n",
       "      <td>2016-01-01</td>\n",
       "      <td>5</td>\n",
       "      <td>4296</td>\n",
       "      <td>512</td>\n",
       "      <td>3784</td>\n",
       "    </tr>\n",
       "    <tr>\n",
       "      <th>130049</th>\n",
       "      <td>51</td>\n",
       "      <td>2016-01-01</td>\n",
       "      <td>7</td>\n",
       "      <td>4056</td>\n",
       "      <td>454</td>\n",
       "      <td>3602</td>\n",
       "    </tr>\n",
       "  </tbody>\n",
       "</table>\n",
       "</div>"
      ],
      "text/plain": [
       "        id        Date  TimePiece  demand  supply   gap\n",
       "130048  51  2016-01-01          6    4362     490  3872\n",
       "130047  51  2016-01-01          5    4296     512  3784\n",
       "130049  51  2016-01-01          7    4056     454  3602"
      ]
     },
     "execution_count": 38,
     "metadata": {},
     "output_type": "execute_result"
    }
   ],
   "source": [
    "sd_df.sort_values('demand', ascending=False)[:3]"
   ]
  },
  {
   "cell_type": "code",
   "execution_count": 42,
   "metadata": {
    "collapsed": false
   },
   "outputs": [
    {
     "data": {
      "text/plain": [
       "TimePiece\n",
       "1       121\n",
       "2       515\n",
       "3      2270\n",
       "4      4463\n",
       "5      5326\n",
       "6      5363\n",
       "7      4809\n",
       "8      4487\n",
       "9      3861\n",
       "10     3342\n",
       "11     2604\n",
       "12     1991\n",
       "13     1823\n",
       "14     1758\n",
       "15     1675\n",
       "16     1447\n",
       "17     1088\n",
       "18     1062\n",
       "19     1066\n",
       "20      940\n",
       "21      672\n",
       "22      624\n",
       "23      473\n",
       "24      482\n",
       "25      512\n",
       "26      508\n",
       "27      526\n",
       "28      490\n",
       "29      516\n",
       "30      540\n",
       "       ... \n",
       "115     155\n",
       "116     163\n",
       "117     155\n",
       "118     145\n",
       "119     194\n",
       "120     194\n",
       "121     153\n",
       "122     146\n",
       "123     153\n",
       "124     162\n",
       "125     157\n",
       "126     174\n",
       "127     147\n",
       "128     127\n",
       "129     166\n",
       "130     138\n",
       "131     141\n",
       "132     107\n",
       "133     146\n",
       "134     134\n",
       "135     106\n",
       "136     108\n",
       "137      89\n",
       "138     113\n",
       "139     105\n",
       "140     114\n",
       "141     113\n",
       "142     185\n",
       "143     298\n",
       "144     275\n",
       "Name: gap, dtype: float64"
      ]
     },
     "execution_count": 42,
     "metadata": {},
     "output_type": "execute_result"
    }
   ],
   "source": [
    "sd_df[sd_df.Date == test_date].groupby('TimePiece').gap.sum()"
   ]
  },
  {
   "cell_type": "code",
   "execution_count": 47,
   "metadata": {
    "collapsed": false
   },
   "outputs": [
    {
     "data": {
      "text/plain": [
       "[<matplotlib.lines.Line2D at 0x1a8f86a0>]"
      ]
     },
     "execution_count": 47,
     "metadata": {},
     "output_type": "execute_result"
    },
    {
     "data": {
      "image/png": "[encoded data removed]",
      "text/plain": [
       "<matplotlib.figure.Figure at 0x194f8b38>"
      ]
     },
     "metadata": {},
     "output_type": "display_data"
    }
   ],
   "source": [
    "d = 1\n",
    "test_date = '2016-01-%02d' % d\n",
    "serial = sd_df[sd_df.Date == test_date].groupby('TimePiece').gap.sum()\n",
    "plt.plot(serial)"
   ]
  },
  {
   "cell_type": "markdown",
   "metadata": {},
   "source": [
    "## 查看各天的总gap 情况"
   ]
  },
  {
   "cell_type": "code",
   "execution_count": 49,
   "metadata": {
    "collapsed": false
   },
   "outputs": [
    {
     "data": {
      "image/png": "[encoded data removed]",
      "text/plain": [
       "<matplotlib.figure.Figure at 0x19a524a8>"
      ]
     },
     "metadata": {},
     "output_type": "display_data"
    }
   ],
   "source": [
    "test_date = '2016-01-11'\n",
    "for d in range(1, 22):\n",
    "    test_date = '2016-01-%02d' % d\n",
    "    serial = sd_df[sd_df.Date == test_date].groupby('TimePiece').gap.sum()\n",
    "    plt.plot(serial)"
   ]
  },
  {
   "cell_type": "code",
   "execution_count": null,
   "metadata": {
    "collapsed": false
   },
   "outputs": [],
   "source": [
    "for d in range(2, 22):\n",
    "    test_date = '2016-01-%02d' % d\n",
    "    serial = sd_df[sd_df.Date == test_date].groupby('TimePiece').gap.sum()\n",
    "    serial2 = sd_df[sd_df.Date == test_date].groupby('TimePiece').demand.sum()\n",
    "    serial3 = sd_df[sd_df.Date == test_date].groupby('TimePiece').supply.sum()\n",
    "    plt.figure()\n",
    "    plt.title(test_date)\n",
    "    plt.xlim(0, 144)\n",
    "    plt.plot(serial, label='gap')\n",
    "    plt.plot(serial2)\n",
    "    plt.plot(serial3)"
   ]
  },
  {
   "cell_type": "code",
   "execution_count": 4,
   "metadata": {
    "collapsed": false
   },
   "outputs": [],
   "source": [
    "district_group = train_order.groupby('id')"
   ]
  },
  {
   "cell_type": "code",
   "execution_count": 20,
   "metadata": {
    "collapsed": false
   },
   "outputs": [
    {
     "data": {
      "text/plain": [
       "[<matplotlib.lines.Line2D at 0x134f7908>]"
      ]
     },
     "execution_count": 20,
     "metadata": {},
     "output_type": "execute_result"
    },
    {
     "data": {
      "image/png": "[encoded data removed]",
      "text/plain": [
       "<matplotlib.figure.Figure at 0x10407f98>"
      ]
     },
     "metadata": {},
     "output_type": "display_data"
    }
   ],
   "source": [
    "serial = district_group.get_group(1).groupby('TimePiece').Resp.count()\n",
    "plt.plot(serial)"
   ]
  },
  {
   "cell_type": "code",
   "execution_count": 23,
   "metadata": {
    "collapsed": false
   },
   "outputs": [
    {
     "data": {
      "text/plain": [
       "[<matplotlib.lines.Line2D at 0x1348d7b8>]"
      ]
     },
     "execution_count": 23,
     "metadata": {},
     "output_type": "execute_result"
    },
    {
     "data": {
      "image/png": "[encoded data removed]",
      "text/plain": [
       "<matplotlib.figure.Figure at 0x13416fd0>"
      ]
     },
     "metadata": {},
     "output_type": "display_data"
    }
   ],
   "source": [
    "serial2 = district_group.get_group(2).groupby('TimePiece').Resp.count()\n",
    "plt.plot(serial2)"
   ]
  },
  {
   "cell_type": "code",
   "execution_count": 5,
   "metadata": {
    "collapsed": false
   },
   "outputs": [
    {
     "name": "stdout",
     "output_type": "stream",
     "text": [
      "1\n",
      "2\n",
      "3\n",
      "4\n",
      "5\n",
      "6\n",
      "7\n",
      "8\n",
      "9\n",
      "10\n",
      "11\n",
      "12\n",
      "13\n",
      "14\n",
      "15\n",
      "16\n",
      "17\n",
      "18\n",
      "19\n",
      "20\n",
      "21\n",
      "22\n",
      "23\n",
      "24\n",
      "25\n",
      "26\n",
      "27\n",
      "28\n",
      "29\n",
      "30\n",
      "31\n",
      "32\n",
      "33\n",
      "34\n",
      "35\n",
      "36\n",
      "37\n",
      "38\n",
      "39\n",
      "40\n",
      "41\n",
      "42\n",
      "43\n",
      "44\n",
      "45\n",
      "46\n",
      "47\n",
      "48\n",
      "49\n",
      "50\n",
      "51\n",
      "52\n",
      "53\n",
      "54\n",
      "55\n",
      "56\n",
      "57\n",
      "58\n",
      "59\n",
      "60\n",
      "61\n",
      "62\n",
      "63\n",
      "64\n",
      "65\n",
      "66\n"
     ]
    },
    {
     "data": {
      "image/png": "[encoded data removed]",
      "text/plain": [
       "<matplotlib.figure.Figure at 0x3ef4128>"
      ]
     },
     "metadata": {},
     "output_type": "display_data"
    }
   ],
   "source": [
    "for name, group in district_group:\n",
    "    #group.groupBy('TimePiece').Resp.count()\n",
    "    serial = group.groupby('TimePiece').Resp.count()\n",
    "    plt.plot(serial)"
   ]
  },
  {
   "cell_type": "code",
   "execution_count": 4,
   "metadata": {
    "collapsed": true
   },
   "outputs": [],
   "source": [
    "train_traffic = pd.read_csv(train_traffic_file, sep=\"\\t\", header=None,\n",
    "                          names=['hashid', 'traffic1', 'traffic2', 'traffic3', 'traffic4', 'Time'])"
   ]
  },
  {
   "cell_type": "code",
   "execution_count": 10,
   "metadata": {
    "collapsed": false
   },
   "outputs": [
    {
     "data": {
      "text/plain": [
       "193553"
      ]
     },
     "execution_count": 10,
     "metadata": {},
     "output_type": "execute_result"
    }
   ],
   "source": [
    "len(train_traffic)"
   ]
  },
  {
   "cell_type": "code",
   "execution_count": 113,
   "metadata": {
    "collapsed": true
   },
   "outputs": [],
   "source": [
    "def deal_traffic(traffic_file):\n",
    "    traffic_data = pd.read_csv(traffic_file, sep=\"\\t\", header=None,\n",
    "                          names=['hashid', 'traffic1', 'traffic2', 'traffic3', 'traffic4', 'Time'])\n",
    "    traffic_data['Date'] = pd.Series([e.split()[0] for e in traffic_data['Time']])\n",
    "    traffic_data['TimePiece'] = pd.Series([time2Slice(e.split()[1]) for e in traffic_data['Time']])\n",
    "    traffic_data.traffic1 = pd.Series([ int(e.split(':')[1]) for e in traffic_data.traffic1])\n",
    "    traffic_data.traffic2 = pd.Series([ int(e.split(':')[1]) for e in traffic_data.traffic2])\n",
    "    traffic_data.traffic3 = pd.Series([ int(e.split(':')[1]) for e in traffic_data.traffic3])\n",
    "    traffic_data.traffic4 = pd.Series([ int(e.split(':')[1]) for e in traffic_data.traffic4])\n",
    "    \n",
    "    traffic_data['traffic'] = pd.Series((traffic_data.traffic1 + traffic_data.traffic2 * 2 + traffic_data.traffic3 * 3 + traffic_data.traffic4 * 4)\n",
    "                                  * 0.1 /(traffic_data.traffic1 + traffic_data.traffic2 + traffic_data.traffic3 + traffic_data.traffic4) )\n",
    "    traffic_min = traffic_data['traffic'].min()\n",
    "    traffic_max = traffic_data['traffic'].max()\n",
    "\n",
    "    print traffic_max, traffic_min\n",
    "    \n",
    "    traffic_data['traffic'] = (traffic_data['traffic'] - traffic_min) / (traffic_max - traffic_min)\n",
    "    \n",
    "    small_traffic = traffic_data.loc[:, ['hashid', 'Date', 'TimePiece', 'traffic']]\n",
    "    return small_traffic.sort_values(['hashid', 'Date', 'TimePiece'])"
   ]
  },
  {
   "cell_type": "code",
   "execution_count": 114,
   "metadata": {
    "collapsed": false
   },
   "outputs": [
    {
     "name": "stdout",
     "output_type": "stream",
     "text": [
      "0.4 0.1\n"
     ]
    }
   ],
   "source": [
    "# all_traffic_file\n",
    "all_traffic = deal_traffic(all_traffic_file)"
   ]
  },
  {
   "cell_type": "code",
   "execution_count": 116,
   "metadata": {
    "collapsed": false
   },
   "outputs": [
    {
     "data": {
      "text/html": [
       "<div>\n",
       "<table border=\"1\" class=\"dataframe\">\n",
       "  <thead>\n",
       "    <tr style=\"text-align: right;\">\n",
       "      <th></th>\n",
       "      <th>TimePiece</th>\n",
       "      <th>traffic</th>\n",
       "    </tr>\n",
       "  </thead>\n",
       "  <tbody>\n",
       "    <tr>\n",
       "      <th>count</th>\n",
       "      <td>201934.000000</td>\n",
       "      <td>201934.000000</td>\n",
       "    </tr>\n",
       "    <tr>\n",
       "      <th>mean</th>\n",
       "      <td>73.537913</td>\n",
       "      <td>0.094944</td>\n",
       "    </tr>\n",
       "    <tr>\n",
       "      <th>std</th>\n",
       "      <td>41.009222</td>\n",
       "      <td>0.043510</td>\n",
       "    </tr>\n",
       "    <tr>\n",
       "      <th>min</th>\n",
       "      <td>2.000000</td>\n",
       "      <td>0.000000</td>\n",
       "    </tr>\n",
       "    <tr>\n",
       "      <th>25%</th>\n",
       "      <td>39.000000</td>\n",
       "      <td>0.066667</td>\n",
       "    </tr>\n",
       "    <tr>\n",
       "      <th>50%</th>\n",
       "      <td>74.000000</td>\n",
       "      <td>0.093333</td>\n",
       "    </tr>\n",
       "    <tr>\n",
       "      <th>75%</th>\n",
       "      <td>109.000000</td>\n",
       "      <td>0.122040</td>\n",
       "    </tr>\n",
       "    <tr>\n",
       "      <th>max</th>\n",
       "      <td>144.000000</td>\n",
       "      <td>1.000000</td>\n",
       "    </tr>\n",
       "  </tbody>\n",
       "</table>\n",
       "</div>"
      ],
      "text/plain": [
       "           TimePiece        traffic\n",
       "count  201934.000000  201934.000000\n",
       "mean       73.537913       0.094944\n",
       "std        41.009222       0.043510\n",
       "min         2.000000       0.000000\n",
       "25%        39.000000       0.066667\n",
       "50%        74.000000       0.093333\n",
       "75%       109.000000       0.122040\n",
       "max       144.000000       1.000000"
      ]
     },
     "execution_count": 116,
     "metadata": {},
     "output_type": "execute_result"
    }
   ],
   "source": [
    "all_traffic.describe()"
   ]
  },
  {
   "cell_type": "code",
   "execution_count": 118,
   "metadata": {
    "collapsed": false
   },
   "outputs": [],
   "source": [
    "small_traffic_file = os.path.join(base_dir, \"traffic.csv\")\n",
    "all_traffic.to_csv(small_traffic_file, index = False)"
   ]
  },
  {
   "cell_type": "code",
   "execution_count": 7,
   "metadata": {
    "collapsed": true
   },
   "outputs": [],
   "source": [
    "train_traffic['Date'] = pd.Series([e.split()[0] for e in train_traffic['Time']])\n",
    "train_traffic['TimePiece'] = pd.Series([time2Slice(e.split()[1]) for e in train_traffic['Time']])\n"
   ]
  },
  {
   "cell_type": "code",
   "execution_count": 13,
   "metadata": {
    "collapsed": false
   },
   "outputs": [],
   "source": [
    "train_traffic.traffic1 = pd.Series([ int(e.split(':')[1]) for e in train_traffic.traffic1])"
   ]
  },
  {
   "cell_type": "code",
   "execution_count": 14,
   "metadata": {
    "collapsed": false
   },
   "outputs": [],
   "source": [
    "train_traffic.traffic1 = pd.Series([ int(e.split(':')[1]) for e in train_traffic.traffic1])\n",
    "train_traffic.traffic2 = pd.Series([ int(e.split(':')[1]) for e in train_traffic.traffic2])\n",
    "train_traffic.traffic3 = pd.Series([ int(e.split(':')[1]) for e in train_traffic.traffic3])\n",
    "train_traffic.traffic4 = pd.Series([ int(e.split(':')[1]) for e in train_traffic.traffic4])"
   ]
  },
  {
   "cell_type": "code",
   "execution_count": 95,
   "metadata": {
    "collapsed": false
   },
   "outputs": [],
   "source": [
    "train_traffic['traffic'] = pd.Series((train_traffic.traffic1 + train_traffic.traffic2 * 2 + train_traffic.traffic3 * 3 + train_traffic.traffic4 * 4)\n",
    "                                  * 0.1 /(train_traffic.traffic1 + train_traffic.traffic2 + train_traffic.traffic3 + train_traffic.traffic4) )"
   ]
  },
  {
   "cell_type": "code",
   "execution_count": 98,
   "metadata": {
    "collapsed": true
   },
   "outputs": [],
   "source": [
    "traffic_min = train_traffic['traffic'].min()\n",
    "traffic_max = train_traffic['traffic'].max()\n",
    "\n"
   ]
  },
  {
   "cell_type": "code",
   "execution_count": 99,
   "metadata": {
    "collapsed": false
   },
   "outputs": [
    {
     "name": "stdout",
     "output_type": "stream",
     "text": [
      "0.4 0.1\n"
     ]
    }
   ],
   "source": [
    "print traffic_max, traffic_min"
   ]
  },
  {
   "cell_type": "code",
   "execution_count": 100,
   "metadata": {
    "collapsed": false
   },
   "outputs": [],
   "source": [
    "train_traffic['traffic'] = (train_traffic['traffic'] - traffic_min) / (traffic_max - traffic_min)"
   ]
  },
  {
   "cell_type": "code",
   "execution_count": 57,
   "metadata": {
    "collapsed": false
   },
   "outputs": [],
   "source": [
    "traffic_20 = train_traffic[train_traffic.Date == '2016-01-20']"
   ]
  },
  {
   "cell_type": "code",
   "execution_count": 103,
   "metadata": {
    "collapsed": false
   },
   "outputs": [
    {
     "data": {
      "text/html": [
       "<div>\n",
       "<table border=\"1\" class=\"dataframe\">\n",
       "  <thead>\n",
       "    <tr style=\"text-align: right;\">\n",
       "      <th></th>\n",
       "      <th>hashid</th>\n",
       "      <th>traffic1</th>\n",
       "      <th>traffic2</th>\n",
       "      <th>traffic3</th>\n",
       "      <th>traffic4</th>\n",
       "      <th>Time</th>\n",
       "      <th>Date</th>\n",
       "      <th>TimePiece</th>\n",
       "      <th>traffic</th>\n",
       "      <th>traffic_re</th>\n",
       "    </tr>\n",
       "  </thead>\n",
       "  <tbody>\n",
       "    <tr>\n",
       "      <th>0</th>\n",
       "      <td>1ecbb52d73c522f184a6fc53128b1ea1</td>\n",
       "      <td>231</td>\n",
       "      <td>33</td>\n",
       "      <td>13</td>\n",
       "      <td>10</td>\n",
       "      <td>2016-01-01 23:30:22</td>\n",
       "      <td>2016-01-01</td>\n",
       "      <td>142</td>\n",
       "      <td>1.033682e-01</td>\n",
       "      <td>-1.319697</td>\n",
       "    </tr>\n",
       "    <tr>\n",
       "      <th>1</th>\n",
       "      <td>1ecbb52d73c522f184a6fc53128b1ea1</td>\n",
       "      <td>305</td>\n",
       "      <td>69</td>\n",
       "      <td>13</td>\n",
       "      <td>16</td>\n",
       "      <td>2016-01-01 09:10:25</td>\n",
       "      <td>2016-01-01</td>\n",
       "      <td>56</td>\n",
       "      <td>1.182796e-01</td>\n",
       "      <td>-0.767423</td>\n",
       "    </tr>\n",
       "    <tr>\n",
       "      <th>2</th>\n",
       "      <td>bf44d327f0232325c6d5280926d7b37d</td>\n",
       "      <td>579</td>\n",
       "      <td>87</td>\n",
       "      <td>28</td>\n",
       "      <td>16</td>\n",
       "      <td>2016-01-01 21:50:27</td>\n",
       "      <td>2016-01-01</td>\n",
       "      <td>132</td>\n",
       "      <td>8.967136e-02</td>\n",
       "      <td>-1.826987</td>\n",
       "    </tr>\n",
       "    <tr>\n",
       "      <th>3</th>\n",
       "      <td>bf44d327f0232325c6d5280926d7b37d</td>\n",
       "      <td>242</td>\n",
       "      <td>28</td>\n",
       "      <td>10</td>\n",
       "      <td>9</td>\n",
       "      <td>2016-01-01 06:20:15</td>\n",
       "      <td>2016-01-01</td>\n",
       "      <td>39</td>\n",
       "      <td>8.650519e-02</td>\n",
       "      <td>-1.944252</td>\n",
       "    </tr>\n",
       "    <tr>\n",
       "      <th>4</th>\n",
       "      <td>bf44d327f0232325c6d5280926d7b37d</td>\n",
       "      <td>471</td>\n",
       "      <td>35</td>\n",
       "      <td>15</td>\n",
       "      <td>17</td>\n",
       "      <td>2016-01-01 00:50:26</td>\n",
       "      <td>2016-01-01</td>\n",
       "      <td>6</td>\n",
       "      <td>7.187113e-02</td>\n",
       "      <td>-2.486255</td>\n",
       "    </tr>\n",
       "    <tr>\n",
       "      <th>5</th>\n",
       "      <td>bf44d327f0232325c6d5280926d7b37d</td>\n",
       "      <td>401</td>\n",
       "      <td>98</td>\n",
       "      <td>64</td>\n",
       "      <td>28</td>\n",
       "      <td>2016-01-01 13:50:25</td>\n",
       "      <td>2016-01-01</td>\n",
       "      <td>84</td>\n",
       "      <td>1.748449e-01</td>\n",
       "      <td>1.327589</td>\n",
       "    </tr>\n",
       "    <tr>\n",
       "      <th>6</th>\n",
       "      <td>f2c8c4bb99e6377d21de71275afd6cd2</td>\n",
       "      <td>593</td>\n",
       "      <td>242</td>\n",
       "      <td>42</td>\n",
       "      <td>22</td>\n",
       "      <td>2016-01-01 17:20:31</td>\n",
       "      <td>2016-01-01</td>\n",
       "      <td>105</td>\n",
       "      <td>1.453467e-01</td>\n",
       "      <td>0.235062</td>\n",
       "    </tr>\n",
       "    <tr>\n",
       "      <th>7</th>\n",
       "      <td>f2c8c4bb99e6377d21de71275afd6cd2</td>\n",
       "      <td>570</td>\n",
       "      <td>41</td>\n",
       "      <td>21</td>\n",
       "      <td>28</td>\n",
       "      <td>2016-01-01 03:10:19</td>\n",
       "      <td>2016-01-01</td>\n",
       "      <td>20</td>\n",
       "      <td>8.434343e-02</td>\n",
       "      <td>-2.024317</td>\n",
       "    </tr>\n",
       "    <tr>\n",
       "      <th>8</th>\n",
       "      <td>f2c8c4bb99e6377d21de71275afd6cd2</td>\n",
       "      <td>706</td>\n",
       "      <td>129</td>\n",
       "      <td>23</td>\n",
       "      <td>17</td>\n",
       "      <td>2016-01-01 09:20:24</td>\n",
       "      <td>2016-01-01</td>\n",
       "      <td>57</td>\n",
       "      <td>8.609524e-02</td>\n",
       "      <td>-1.959436</td>\n",
       "    </tr>\n",
       "    <tr>\n",
       "      <th>9</th>\n",
       "      <td>d5cb17978de290c56e84c9cf97e63186</td>\n",
       "      <td>11</td>\n",
       "      <td>0</td>\n",
       "      <td>0</td>\n",
       "      <td>0</td>\n",
       "      <td>2016-01-01 04:00:17</td>\n",
       "      <td>2016-01-01</td>\n",
       "      <td>25</td>\n",
       "      <td>4.625929e-17</td>\n",
       "      <td>-5.148148</td>\n",
       "    </tr>\n",
       "  </tbody>\n",
       "</table>\n",
       "</div>"
      ],
      "text/plain": [
       "                             hashid  traffic1  traffic2  traffic3  traffic4  \\\n",
       "0  1ecbb52d73c522f184a6fc53128b1ea1       231        33        13        10   \n",
       "1  1ecbb52d73c522f184a6fc53128b1ea1       305        69        13        16   \n",
       "2  bf44d327f0232325c6d5280926d7b37d       579        87        28        16   \n",
       "3  bf44d327f0232325c6d5280926d7b37d       242        28        10         9   \n",
       "4  bf44d327f0232325c6d5280926d7b37d       471        35        15        17   \n",
       "5  bf44d327f0232325c6d5280926d7b37d       401        98        64        28   \n",
       "6  f2c8c4bb99e6377d21de71275afd6cd2       593       242        42        22   \n",
       "7  f2c8c4bb99e6377d21de71275afd6cd2       570        41        21        28   \n",
       "8  f2c8c4bb99e6377d21de71275afd6cd2       706       129        23        17   \n",
       "9  d5cb17978de290c56e84c9cf97e63186        11         0         0         0   \n",
       "\n",
       "                  Time        Date  TimePiece       traffic  traffic_re  \n",
       "0  2016-01-01 23:30:22  2016-01-01        142  1.033682e-01   -1.319697  \n",
       "1  2016-01-01 09:10:25  2016-01-01         56  1.182796e-01   -0.767423  \n",
       "2  2016-01-01 21:50:27  2016-01-01        132  8.967136e-02   -1.826987  \n",
       "3  2016-01-01 06:20:15  2016-01-01         39  8.650519e-02   -1.944252  \n",
       "4  2016-01-01 00:50:26  2016-01-01          6  7.187113e-02   -2.486255  \n",
       "5  2016-01-01 13:50:25  2016-01-01         84  1.748449e-01    1.327589  \n",
       "6  2016-01-01 17:20:31  2016-01-01        105  1.453467e-01    0.235062  \n",
       "7  2016-01-01 03:10:19  2016-01-01         20  8.434343e-02   -2.024317  \n",
       "8  2016-01-01 09:20:24  2016-01-01         57  8.609524e-02   -1.959436  \n",
       "9  2016-01-01 04:00:17  2016-01-01         25  4.625929e-17   -5.148148  "
      ]
     },
     "execution_count": 103,
     "metadata": {},
     "output_type": "execute_result"
    }
   ],
   "source": [
    "train_traffic[:10]"
   ]
  },
  {
   "cell_type": "code",
   "execution_count": 104,
   "metadata": {
    "collapsed": true
   },
   "outputs": [],
   "source": [
    "small_traffic = train_traffic.loc[:, ['hashid', 'Date', 'TimePiece', 'traffic']]"
   ]
  },
  {
   "cell_type": "code",
   "execution_count": 108,
   "metadata": {
    "collapsed": false
   },
   "outputs": [
    {
     "data": {
      "text/html": [
       "<div>\n",
       "<table border=\"1\" class=\"dataframe\">\n",
       "  <thead>\n",
       "    <tr style=\"text-align: right;\">\n",
       "      <th></th>\n",
       "      <th>hashid</th>\n",
       "      <th>Date</th>\n",
       "      <th>TimePiece</th>\n",
       "      <th>traffic</th>\n",
       "    </tr>\n",
       "  </thead>\n",
       "  <tbody>\n",
       "    <tr>\n",
       "      <th>7354</th>\n",
       "      <td>08232402614a9b48895cc3d0aeb0e9f2</td>\n",
       "      <td>2016-01-01</td>\n",
       "      <td>2</td>\n",
       "      <td>0.075000</td>\n",
       "    </tr>\n",
       "    <tr>\n",
       "      <th>7540</th>\n",
       "      <td>08232402614a9b48895cc3d0aeb0e9f2</td>\n",
       "      <td>2016-01-01</td>\n",
       "      <td>3</td>\n",
       "      <td>0.127854</td>\n",
       "    </tr>\n",
       "    <tr>\n",
       "      <th>7732</th>\n",
       "      <td>08232402614a9b48895cc3d0aeb0e9f2</td>\n",
       "      <td>2016-01-01</td>\n",
       "      <td>4</td>\n",
       "      <td>0.161994</td>\n",
       "    </tr>\n",
       "    <tr>\n",
       "      <th>7923</th>\n",
       "      <td>08232402614a9b48895cc3d0aeb0e9f2</td>\n",
       "      <td>2016-01-01</td>\n",
       "      <td>5</td>\n",
       "      <td>0.117460</td>\n",
       "    </tr>\n",
       "    <tr>\n",
       "      <th>8108</th>\n",
       "      <td>08232402614a9b48895cc3d0aeb0e9f2</td>\n",
       "      <td>2016-01-01</td>\n",
       "      <td>6</td>\n",
       "      <td>0.011396</td>\n",
       "    </tr>\n",
       "    <tr>\n",
       "      <th>8290</th>\n",
       "      <td>08232402614a9b48895cc3d0aeb0e9f2</td>\n",
       "      <td>2016-01-01</td>\n",
       "      <td>7</td>\n",
       "      <td>0.121212</td>\n",
       "    </tr>\n",
       "    <tr>\n",
       "      <th>8478</th>\n",
       "      <td>08232402614a9b48895cc3d0aeb0e9f2</td>\n",
       "      <td>2016-01-01</td>\n",
       "      <td>8</td>\n",
       "      <td>0.162037</td>\n",
       "    </tr>\n",
       "    <tr>\n",
       "      <th>8677</th>\n",
       "      <td>08232402614a9b48895cc3d0aeb0e9f2</td>\n",
       "      <td>2016-01-01</td>\n",
       "      <td>9</td>\n",
       "      <td>0.110193</td>\n",
       "    </tr>\n",
       "    <tr>\n",
       "      <th>2348</th>\n",
       "      <td>08232402614a9b48895cc3d0aeb0e9f2</td>\n",
       "      <td>2016-01-01</td>\n",
       "      <td>10</td>\n",
       "      <td>0.137255</td>\n",
       "    </tr>\n",
       "    <tr>\n",
       "      <th>2532</th>\n",
       "      <td>08232402614a9b48895cc3d0aeb0e9f2</td>\n",
       "      <td>2016-01-01</td>\n",
       "      <td>11</td>\n",
       "      <td>0.075758</td>\n",
       "    </tr>\n",
       "    <tr>\n",
       "      <th>2719</th>\n",
       "      <td>08232402614a9b48895cc3d0aeb0e9f2</td>\n",
       "      <td>2016-01-01</td>\n",
       "      <td>12</td>\n",
       "      <td>0.090395</td>\n",
       "    </tr>\n",
       "    <tr>\n",
       "      <th>2909</th>\n",
       "      <td>08232402614a9b48895cc3d0aeb0e9f2</td>\n",
       "      <td>2016-01-01</td>\n",
       "      <td>13</td>\n",
       "      <td>0.020408</td>\n",
       "    </tr>\n",
       "    <tr>\n",
       "      <th>3085</th>\n",
       "      <td>08232402614a9b48895cc3d0aeb0e9f2</td>\n",
       "      <td>2016-01-01</td>\n",
       "      <td>14</td>\n",
       "      <td>0.010526</td>\n",
       "    </tr>\n",
       "    <tr>\n",
       "      <th>3258</th>\n",
       "      <td>08232402614a9b48895cc3d0aeb0e9f2</td>\n",
       "      <td>2016-01-01</td>\n",
       "      <td>15</td>\n",
       "      <td>0.122024</td>\n",
       "    </tr>\n",
       "    <tr>\n",
       "      <th>3440</th>\n",
       "      <td>08232402614a9b48895cc3d0aeb0e9f2</td>\n",
       "      <td>2016-01-01</td>\n",
       "      <td>16</td>\n",
       "      <td>0.057576</td>\n",
       "    </tr>\n",
       "    <tr>\n",
       "      <th>3626</th>\n",
       "      <td>08232402614a9b48895cc3d0aeb0e9f2</td>\n",
       "      <td>2016-01-01</td>\n",
       "      <td>17</td>\n",
       "      <td>0.113095</td>\n",
       "    </tr>\n",
       "    <tr>\n",
       "      <th>3812</th>\n",
       "      <td>08232402614a9b48895cc3d0aeb0e9f2</td>\n",
       "      <td>2016-01-01</td>\n",
       "      <td>18</td>\n",
       "      <td>0.075269</td>\n",
       "    </tr>\n",
       "    <tr>\n",
       "      <th>3991</th>\n",
       "      <td>08232402614a9b48895cc3d0aeb0e9f2</td>\n",
       "      <td>2016-01-01</td>\n",
       "      <td>19</td>\n",
       "      <td>0.165312</td>\n",
       "    </tr>\n",
       "    <tr>\n",
       "      <th>8106</th>\n",
       "      <td>08232402614a9b48895cc3d0aeb0e9f2</td>\n",
       "      <td>2016-01-01</td>\n",
       "      <td>20</td>\n",
       "      <td>0.162162</td>\n",
       "    </tr>\n",
       "    <tr>\n",
       "      <th>8288</th>\n",
       "      <td>08232402614a9b48895cc3d0aeb0e9f2</td>\n",
       "      <td>2016-01-01</td>\n",
       "      <td>21</td>\n",
       "      <td>0.049844</td>\n",
       "    </tr>\n",
       "    <tr>\n",
       "      <th>8476</th>\n",
       "      <td>08232402614a9b48895cc3d0aeb0e9f2</td>\n",
       "      <td>2016-01-01</td>\n",
       "      <td>22</td>\n",
       "      <td>0.097701</td>\n",
       "    </tr>\n",
       "    <tr>\n",
       "      <th>8676</th>\n",
       "      <td>08232402614a9b48895cc3d0aeb0e9f2</td>\n",
       "      <td>2016-01-01</td>\n",
       "      <td>23</td>\n",
       "      <td>0.076696</td>\n",
       "    </tr>\n",
       "    <tr>\n",
       "      <th>8867</th>\n",
       "      <td>08232402614a9b48895cc3d0aeb0e9f2</td>\n",
       "      <td>2016-01-01</td>\n",
       "      <td>24</td>\n",
       "      <td>0.096386</td>\n",
       "    </tr>\n",
       "    <tr>\n",
       "      <th>9051</th>\n",
       "      <td>08232402614a9b48895cc3d0aeb0e9f2</td>\n",
       "      <td>2016-01-01</td>\n",
       "      <td>25</td>\n",
       "      <td>0.019417</td>\n",
       "    </tr>\n",
       "    <tr>\n",
       "      <th>9237</th>\n",
       "      <td>08232402614a9b48895cc3d0aeb0e9f2</td>\n",
       "      <td>2016-01-01</td>\n",
       "      <td>26</td>\n",
       "      <td>0.055556</td>\n",
       "    </tr>\n",
       "    <tr>\n",
       "      <th>134</th>\n",
       "      <td>08232402614a9b48895cc3d0aeb0e9f2</td>\n",
       "      <td>2016-01-01</td>\n",
       "      <td>27</td>\n",
       "      <td>0.076389</td>\n",
       "    </tr>\n",
       "    <tr>\n",
       "      <th>322</th>\n",
       "      <td>08232402614a9b48895cc3d0aeb0e9f2</td>\n",
       "      <td>2016-01-01</td>\n",
       "      <td>28</td>\n",
       "      <td>0.054795</td>\n",
       "    </tr>\n",
       "    <tr>\n",
       "      <th>504</th>\n",
       "      <td>08232402614a9b48895cc3d0aeb0e9f2</td>\n",
       "      <td>2016-01-01</td>\n",
       "      <td>29</td>\n",
       "      <td>0.017316</td>\n",
       "    </tr>\n",
       "    <tr>\n",
       "      <th>4543</th>\n",
       "      <td>08232402614a9b48895cc3d0aeb0e9f2</td>\n",
       "      <td>2016-01-01</td>\n",
       "      <td>30</td>\n",
       "      <td>0.020833</td>\n",
       "    </tr>\n",
       "    <tr>\n",
       "      <th>4724</th>\n",
       "      <td>08232402614a9b48895cc3d0aeb0e9f2</td>\n",
       "      <td>2016-01-01</td>\n",
       "      <td>31</td>\n",
       "      <td>0.115646</td>\n",
       "    </tr>\n",
       "    <tr>\n",
       "      <th>...</th>\n",
       "      <td>...</td>\n",
       "      <td>...</td>\n",
       "      <td>...</td>\n",
       "      <td>...</td>\n",
       "    </tr>\n",
       "    <tr>\n",
       "      <th>186297</th>\n",
       "      <td>fff4e8465d1e12621bc361276b6217cf</td>\n",
       "      <td>2016-01-21</td>\n",
       "      <td>115</td>\n",
       "      <td>0.087037</td>\n",
       "    </tr>\n",
       "    <tr>\n",
       "      <th>186481</th>\n",
       "      <td>fff4e8465d1e12621bc361276b6217cf</td>\n",
       "      <td>2016-01-21</td>\n",
       "      <td>116</td>\n",
       "      <td>0.080808</td>\n",
       "    </tr>\n",
       "    <tr>\n",
       "      <th>186665</th>\n",
       "      <td>fff4e8465d1e12621bc361276b6217cf</td>\n",
       "      <td>2016-01-21</td>\n",
       "      <td>117</td>\n",
       "      <td>0.050096</td>\n",
       "    </tr>\n",
       "    <tr>\n",
       "      <th>186850</th>\n",
       "      <td>fff4e8465d1e12621bc361276b6217cf</td>\n",
       "      <td>2016-01-21</td>\n",
       "      <td>118</td>\n",
       "      <td>0.055556</td>\n",
       "    </tr>\n",
       "    <tr>\n",
       "      <th>187037</th>\n",
       "      <td>fff4e8465d1e12621bc361276b6217cf</td>\n",
       "      <td>2016-01-21</td>\n",
       "      <td>119</td>\n",
       "      <td>0.055556</td>\n",
       "    </tr>\n",
       "    <tr>\n",
       "      <th>191096</th>\n",
       "      <td>fff4e8465d1e12621bc361276b6217cf</td>\n",
       "      <td>2016-01-21</td>\n",
       "      <td>120</td>\n",
       "      <td>0.088050</td>\n",
       "    </tr>\n",
       "    <tr>\n",
       "      <th>191290</th>\n",
       "      <td>fff4e8465d1e12621bc361276b6217cf</td>\n",
       "      <td>2016-01-21</td>\n",
       "      <td>121</td>\n",
       "      <td>0.039548</td>\n",
       "    </tr>\n",
       "    <tr>\n",
       "      <th>191487</th>\n",
       "      <td>fff4e8465d1e12621bc361276b6217cf</td>\n",
       "      <td>2016-01-21</td>\n",
       "      <td>122</td>\n",
       "      <td>0.041943</td>\n",
       "    </tr>\n",
       "    <tr>\n",
       "      <th>191673</th>\n",
       "      <td>fff4e8465d1e12621bc361276b6217cf</td>\n",
       "      <td>2016-01-21</td>\n",
       "      <td>123</td>\n",
       "      <td>0.082278</td>\n",
       "    </tr>\n",
       "    <tr>\n",
       "      <th>191861</th>\n",
       "      <td>fff4e8465d1e12621bc361276b6217cf</td>\n",
       "      <td>2016-01-21</td>\n",
       "      <td>124</td>\n",
       "      <td>0.058712</td>\n",
       "    </tr>\n",
       "    <tr>\n",
       "      <th>192050</th>\n",
       "      <td>fff4e8465d1e12621bc361276b6217cf</td>\n",
       "      <td>2016-01-21</td>\n",
       "      <td>125</td>\n",
       "      <td>0.044563</td>\n",
       "    </tr>\n",
       "    <tr>\n",
       "      <th>192241</th>\n",
       "      <td>fff4e8465d1e12621bc361276b6217cf</td>\n",
       "      <td>2016-01-21</td>\n",
       "      <td>126</td>\n",
       "      <td>0.083333</td>\n",
       "    </tr>\n",
       "    <tr>\n",
       "      <th>192424</th>\n",
       "      <td>fff4e8465d1e12621bc361276b6217cf</td>\n",
       "      <td>2016-01-21</td>\n",
       "      <td>127</td>\n",
       "      <td>0.048733</td>\n",
       "    </tr>\n",
       "    <tr>\n",
       "      <th>192607</th>\n",
       "      <td>fff4e8465d1e12621bc361276b6217cf</td>\n",
       "      <td>2016-01-21</td>\n",
       "      <td>128</td>\n",
       "      <td>0.050314</td>\n",
       "    </tr>\n",
       "    <tr>\n",
       "      <th>192798</th>\n",
       "      <td>fff4e8465d1e12621bc361276b6217cf</td>\n",
       "      <td>2016-01-21</td>\n",
       "      <td>129</td>\n",
       "      <td>0.039124</td>\n",
       "    </tr>\n",
       "    <tr>\n",
       "      <th>187570</th>\n",
       "      <td>fff4e8465d1e12621bc361276b6217cf</td>\n",
       "      <td>2016-01-21</td>\n",
       "      <td>130</td>\n",
       "      <td>0.032967</td>\n",
       "    </tr>\n",
       "    <tr>\n",
       "      <th>187755</th>\n",
       "      <td>fff4e8465d1e12621bc361276b6217cf</td>\n",
       "      <td>2016-01-21</td>\n",
       "      <td>131</td>\n",
       "      <td>0.044316</td>\n",
       "    </tr>\n",
       "    <tr>\n",
       "      <th>187945</th>\n",
       "      <td>fff4e8465d1e12621bc361276b6217cf</td>\n",
       "      <td>2016-01-21</td>\n",
       "      <td>132</td>\n",
       "      <td>0.034884</td>\n",
       "    </tr>\n",
       "    <tr>\n",
       "      <th>188127</th>\n",
       "      <td>fff4e8465d1e12621bc361276b6217cf</td>\n",
       "      <td>2016-01-21</td>\n",
       "      <td>133</td>\n",
       "      <td>0.044776</td>\n",
       "    </tr>\n",
       "    <tr>\n",
       "      <th>188306</th>\n",
       "      <td>fff4e8465d1e12621bc361276b6217cf</td>\n",
       "      <td>2016-01-21</td>\n",
       "      <td>134</td>\n",
       "      <td>0.067278</td>\n",
       "    </tr>\n",
       "    <tr>\n",
       "      <th>188488</th>\n",
       "      <td>fff4e8465d1e12621bc361276b6217cf</td>\n",
       "      <td>2016-01-21</td>\n",
       "      <td>135</td>\n",
       "      <td>0.047930</td>\n",
       "    </tr>\n",
       "    <tr>\n",
       "      <th>188673</th>\n",
       "      <td>fff4e8465d1e12621bc361276b6217cf</td>\n",
       "      <td>2016-01-21</td>\n",
       "      <td>136</td>\n",
       "      <td>0.026667</td>\n",
       "    </tr>\n",
       "    <tr>\n",
       "      <th>188859</th>\n",
       "      <td>fff4e8465d1e12621bc361276b6217cf</td>\n",
       "      <td>2016-01-21</td>\n",
       "      <td>137</td>\n",
       "      <td>0.060811</td>\n",
       "    </tr>\n",
       "    <tr>\n",
       "      <th>189038</th>\n",
       "      <td>fff4e8465d1e12621bc361276b6217cf</td>\n",
       "      <td>2016-01-21</td>\n",
       "      <td>138</td>\n",
       "      <td>0.036765</td>\n",
       "    </tr>\n",
       "    <tr>\n",
       "      <th>189222</th>\n",
       "      <td>fff4e8465d1e12621bc361276b6217cf</td>\n",
       "      <td>2016-01-21</td>\n",
       "      <td>139</td>\n",
       "      <td>0.027778</td>\n",
       "    </tr>\n",
       "    <tr>\n",
       "      <th>193364</th>\n",
       "      <td>fff4e8465d1e12621bc361276b6217cf</td>\n",
       "      <td>2016-01-21</td>\n",
       "      <td>140</td>\n",
       "      <td>0.074074</td>\n",
       "    </tr>\n",
       "    <tr>\n",
       "      <th>193549</th>\n",
       "      <td>fff4e8465d1e12621bc361276b6217cf</td>\n",
       "      <td>2016-01-21</td>\n",
       "      <td>141</td>\n",
       "      <td>0.041667</td>\n",
       "    </tr>\n",
       "    <tr>\n",
       "      <th>184451</th>\n",
       "      <td>fff4e8465d1e12621bc361276b6217cf</td>\n",
       "      <td>2016-01-21</td>\n",
       "      <td>142</td>\n",
       "      <td>0.017032</td>\n",
       "    </tr>\n",
       "    <tr>\n",
       "      <th>184636</th>\n",
       "      <td>fff4e8465d1e12621bc361276b6217cf</td>\n",
       "      <td>2016-01-21</td>\n",
       "      <td>143</td>\n",
       "      <td>0.065728</td>\n",
       "    </tr>\n",
       "    <tr>\n",
       "      <th>184821</th>\n",
       "      <td>fff4e8465d1e12621bc361276b6217cf</td>\n",
       "      <td>2016-01-21</td>\n",
       "      <td>144</td>\n",
       "      <td>0.044674</td>\n",
       "    </tr>\n",
       "  </tbody>\n",
       "</table>\n",
       "<p>193553 rows × 4 columns</p>\n",
       "</div>"
      ],
      "text/plain": [
       "                                  hashid        Date  TimePiece   traffic\n",
       "7354    08232402614a9b48895cc3d0aeb0e9f2  2016-01-01          2  0.075000\n",
       "7540    08232402614a9b48895cc3d0aeb0e9f2  2016-01-01          3  0.127854\n",
       "7732    08232402614a9b48895cc3d0aeb0e9f2  2016-01-01          4  0.161994\n",
       "7923    08232402614a9b48895cc3d0aeb0e9f2  2016-01-01          5  0.117460\n",
       "8108    08232402614a9b48895cc3d0aeb0e9f2  2016-01-01          6  0.011396\n",
       "8290    08232402614a9b48895cc3d0aeb0e9f2  2016-01-01          7  0.121212\n",
       "8478    08232402614a9b48895cc3d0aeb0e9f2  2016-01-01          8  0.162037\n",
       "8677    08232402614a9b48895cc3d0aeb0e9f2  2016-01-01          9  0.110193\n",
       "2348    08232402614a9b48895cc3d0aeb0e9f2  2016-01-01         10  0.137255\n",
       "2532    08232402614a9b48895cc3d0aeb0e9f2  2016-01-01         11  0.075758\n",
       "2719    08232402614a9b48895cc3d0aeb0e9f2  2016-01-01         12  0.090395\n",
       "2909    08232402614a9b48895cc3d0aeb0e9f2  2016-01-01         13  0.020408\n",
       "3085    08232402614a9b48895cc3d0aeb0e9f2  2016-01-01         14  0.010526\n",
       "3258    08232402614a9b48895cc3d0aeb0e9f2  2016-01-01         15  0.122024\n",
       "3440    08232402614a9b48895cc3d0aeb0e9f2  2016-01-01         16  0.057576\n",
       "3626    08232402614a9b48895cc3d0aeb0e9f2  2016-01-01         17  0.113095\n",
       "3812    08232402614a9b48895cc3d0aeb0e9f2  2016-01-01         18  0.075269\n",
       "3991    08232402614a9b48895cc3d0aeb0e9f2  2016-01-01         19  0.165312\n",
       "8106    08232402614a9b48895cc3d0aeb0e9f2  2016-01-01         20  0.162162\n",
       "8288    08232402614a9b48895cc3d0aeb0e9f2  2016-01-01         21  0.049844\n",
       "8476    08232402614a9b48895cc3d0aeb0e9f2  2016-01-01         22  0.097701\n",
       "8676    08232402614a9b48895cc3d0aeb0e9f2  2016-01-01         23  0.076696\n",
       "8867    08232402614a9b48895cc3d0aeb0e9f2  2016-01-01         24  0.096386\n",
       "9051    08232402614a9b48895cc3d0aeb0e9f2  2016-01-01         25  0.019417\n",
       "9237    08232402614a9b48895cc3d0aeb0e9f2  2016-01-01         26  0.055556\n",
       "134     08232402614a9b48895cc3d0aeb0e9f2  2016-01-01         27  0.076389\n",
       "322     08232402614a9b48895cc3d0aeb0e9f2  2016-01-01         28  0.054795\n",
       "504     08232402614a9b48895cc3d0aeb0e9f2  2016-01-01         29  0.017316\n",
       "4543    08232402614a9b48895cc3d0aeb0e9f2  2016-01-01         30  0.020833\n",
       "4724    08232402614a9b48895cc3d0aeb0e9f2  2016-01-01         31  0.115646\n",
       "...                                  ...         ...        ...       ...\n",
       "186297  fff4e8465d1e12621bc361276b6217cf  2016-01-21        115  0.087037\n",
       "186481  fff4e8465d1e12621bc361276b6217cf  2016-01-21        116  0.080808\n",
       "186665  fff4e8465d1e12621bc361276b6217cf  2016-01-21        117  0.050096\n",
       "186850  fff4e8465d1e12621bc361276b6217cf  2016-01-21        118  0.055556\n",
       "187037  fff4e8465d1e12621bc361276b6217cf  2016-01-21        119  0.055556\n",
       "191096  fff4e8465d1e12621bc361276b6217cf  2016-01-21        120  0.088050\n",
       "191290  fff4e8465d1e12621bc361276b6217cf  2016-01-21        121  0.039548\n",
       "191487  fff4e8465d1e12621bc361276b6217cf  2016-01-21        122  0.041943\n",
       "191673  fff4e8465d1e12621bc361276b6217cf  2016-01-21        123  0.082278\n",
       "191861  fff4e8465d1e12621bc361276b6217cf  2016-01-21        124  0.058712\n",
       "192050  fff4e8465d1e12621bc361276b6217cf  2016-01-21        125  0.044563\n",
       "192241  fff4e8465d1e12621bc361276b6217cf  2016-01-21        126  0.083333\n",
       "192424  fff4e8465d1e12621bc361276b6217cf  2016-01-21        127  0.048733\n",
       "192607  fff4e8465d1e12621bc361276b6217cf  2016-01-21        128  0.050314\n",
       "192798  fff4e8465d1e12621bc361276b6217cf  2016-01-21        129  0.039124\n",
       "187570  fff4e8465d1e12621bc361276b6217cf  2016-01-21        130  0.032967\n",
       "187755  fff4e8465d1e12621bc361276b6217cf  2016-01-21        131  0.044316\n",
       "187945  fff4e8465d1e12621bc361276b6217cf  2016-01-21        132  0.034884\n",
       "188127  fff4e8465d1e12621bc361276b6217cf  2016-01-21        133  0.044776\n",
       "188306  fff4e8465d1e12621bc361276b6217cf  2016-01-21        134  0.067278\n",
       "188488  fff4e8465d1e12621bc361276b6217cf  2016-01-21        135  0.047930\n",
       "188673  fff4e8465d1e12621bc361276b6217cf  2016-01-21        136  0.026667\n",
       "188859  fff4e8465d1e12621bc361276b6217cf  2016-01-21        137  0.060811\n",
       "189038  fff4e8465d1e12621bc361276b6217cf  2016-01-21        138  0.036765\n",
       "189222  fff4e8465d1e12621bc361276b6217cf  2016-01-21        139  0.027778\n",
       "193364  fff4e8465d1e12621bc361276b6217cf  2016-01-21        140  0.074074\n",
       "193549  fff4e8465d1e12621bc361276b6217cf  2016-01-21        141  0.041667\n",
       "184451  fff4e8465d1e12621bc361276b6217cf  2016-01-21        142  0.017032\n",
       "184636  fff4e8465d1e12621bc361276b6217cf  2016-01-21        143  0.065728\n",
       "184821  fff4e8465d1e12621bc361276b6217cf  2016-01-21        144  0.044674\n",
       "\n",
       "[193553 rows x 4 columns]"
      ]
     },
     "execution_count": 108,
     "metadata": {},
     "output_type": "execute_result"
    }
   ],
   "source": [
    "small_traffic.sort_values(['hashid', 'Date', 'TimePiece'])"
   ]
  },
  {
   "cell_type": "code",
   "execution_count": 101,
   "metadata": {
    "collapsed": false
   },
   "outputs": [
    {
     "data": {
      "text/html": [
       "<div>\n",
       "<table border=\"1\" class=\"dataframe\">\n",
       "  <thead>\n",
       "    <tr style=\"text-align: right;\">\n",
       "      <th></th>\n",
       "      <th>traffic1</th>\n",
       "      <th>traffic2</th>\n",
       "      <th>traffic3</th>\n",
       "      <th>traffic4</th>\n",
       "      <th>TimePiece</th>\n",
       "      <th>traffic</th>\n",
       "      <th>traffic_re</th>\n",
       "    </tr>\n",
       "  </thead>\n",
       "  <tbody>\n",
       "    <tr>\n",
       "      <th>count</th>\n",
       "      <td>193553.000000</td>\n",
       "      <td>193553.000000</td>\n",
       "      <td>193553.00000</td>\n",
       "      <td>193553.000000</td>\n",
       "      <td>193553.000000</td>\n",
       "      <td>193553.000000</td>\n",
       "      <td>193553.000000</td>\n",
       "    </tr>\n",
       "    <tr>\n",
       "      <th>mean</th>\n",
       "      <td>603.522338</td>\n",
       "      <td>128.780282</td>\n",
       "      <td>38.72173</td>\n",
       "      <td>26.097756</td>\n",
       "      <td>72.641271</td>\n",
       "      <td>0.094765</td>\n",
       "      <td>-1.638324</td>\n",
       "    </tr>\n",
       "    <tr>\n",
       "      <th>std</th>\n",
       "      <td>704.277587</td>\n",
       "      <td>216.896741</td>\n",
       "      <td>67.77862</td>\n",
       "      <td>42.035663</td>\n",
       "      <td>41.189142</td>\n",
       "      <td>0.043623</td>\n",
       "      <td>1.615654</td>\n",
       "    </tr>\n",
       "    <tr>\n",
       "      <th>min</th>\n",
       "      <td>0.000000</td>\n",
       "      <td>0.000000</td>\n",
       "      <td>0.00000</td>\n",
       "      <td>0.000000</td>\n",
       "      <td>2.000000</td>\n",
       "      <td>0.000000</td>\n",
       "      <td>-5.148148</td>\n",
       "    </tr>\n",
       "    <tr>\n",
       "      <th>25%</th>\n",
       "      <td>147.000000</td>\n",
       "      <td>16.000000</td>\n",
       "      <td>5.00000</td>\n",
       "      <td>3.000000</td>\n",
       "      <td>37.000000</td>\n",
       "      <td>0.066425</td>\n",
       "      <td>-2.687958</td>\n",
       "    </tr>\n",
       "    <tr>\n",
       "      <th>50%</th>\n",
       "      <td>323.000000</td>\n",
       "      <td>49.000000</td>\n",
       "      <td>15.00000</td>\n",
       "      <td>10.000000</td>\n",
       "      <td>73.000000</td>\n",
       "      <td>0.093114</td>\n",
       "      <td>-1.699473</td>\n",
       "    </tr>\n",
       "    <tr>\n",
       "      <th>75%</th>\n",
       "      <td>779.000000</td>\n",
       "      <td>146.000000</td>\n",
       "      <td>43.00000</td>\n",
       "      <td>30.000000</td>\n",
       "      <td>108.000000</td>\n",
       "      <td>0.121875</td>\n",
       "      <td>-0.634259</td>\n",
       "    </tr>\n",
       "    <tr>\n",
       "      <th>max</th>\n",
       "      <td>4223.000000</td>\n",
       "      <td>2084.000000</td>\n",
       "      <td>863.00000</td>\n",
       "      <td>486.000000</td>\n",
       "      <td>144.000000</td>\n",
       "      <td>1.000000</td>\n",
       "      <td>31.888889</td>\n",
       "    </tr>\n",
       "  </tbody>\n",
       "</table>\n",
       "</div>"
      ],
      "text/plain": [
       "            traffic1       traffic2      traffic3       traffic4  \\\n",
       "count  193553.000000  193553.000000  193553.00000  193553.000000   \n",
       "mean      603.522338     128.780282      38.72173      26.097756   \n",
       "std       704.277587     216.896741      67.77862      42.035663   \n",
       "min         0.000000       0.000000       0.00000       0.000000   \n",
       "25%       147.000000      16.000000       5.00000       3.000000   \n",
       "50%       323.000000      49.000000      15.00000      10.000000   \n",
       "75%       779.000000     146.000000      43.00000      30.000000   \n",
       "max      4223.000000    2084.000000     863.00000     486.000000   \n",
       "\n",
       "           TimePiece        traffic     traffic_re  \n",
       "count  193553.000000  193553.000000  193553.000000  \n",
       "mean       72.641271       0.094765      -1.638324  \n",
       "std        41.189142       0.043623       1.615654  \n",
       "min         2.000000       0.000000      -5.148148  \n",
       "25%        37.000000       0.066425      -2.687958  \n",
       "50%        73.000000       0.093114      -1.699473  \n",
       "75%       108.000000       0.121875      -0.634259  \n",
       "max       144.000000       1.000000      31.888889  "
      ]
     },
     "execution_count": 101,
     "metadata": {},
     "output_type": "execute_result"
    }
   ],
   "source": [
    "train_traffic.describe()"
   ]
  },
  {
   "cell_type": "code",
   "execution_count": 102,
   "metadata": {
    "collapsed": false
   },
   "outputs": [
    {
     "data": {
      "image/png": "[encoded data removed]",
      "text/plain": [
       "<matplotlib.figure.Figure at 0x1558a278>"
      ]
     },
     "metadata": {},
     "output_type": "display_data"
    }
   ],
   "source": [
    "traffic_21 = train_traffic[train_traffic.Date == '2016-01-09']\n",
    "\n",
    "for name, group in traffic_21.groupby('hashid'):\n",
    "    plt.plot(group.groupby(['TimePiece']).traffic.sum())\n",
    "    "
   ]
  },
  {
   "cell_type": "code",
   "execution_count": 25,
   "metadata": {
    "collapsed": false
   },
   "outputs": [],
   "source": [
    "small_traffic = train_traffic.merge(cluster_map, left_on='hashid', right_on='hashid')#\\\n",
    "                            #.loc[:, ['hashid', 'Date', 'TimePiece', 'Price', 'Resp']]"
   ]
  },
  {
   "cell_type": "code",
   "execution_count": 34,
   "metadata": {
    "collapsed": false
   },
   "outputs": [],
   "source": [
    "smallforgroup = small_traffic.loc[:, ['id', 'Date', 'TimePiece', 'traffic']]"
   ]
  },
  {
   "cell_type": "code",
   "execution_count": 45,
   "metadata": {
    "collapsed": false
   },
   "outputs": [],
   "source": [
    "groupall = smallforgroup.groupby(['id', 'Date'])"
   ]
  },
  {
   "cell_type": "code",
   "execution_count": 55,
   "metadata": {
    "collapsed": false
   },
   "outputs": [
    {
     "data": {
      "text/plain": [
       "id  Date      \n",
       "1   2016-01-01    143\n",
       "    2016-01-02    143\n",
       "    2016-01-03    143\n",
       "    2016-01-04    143\n",
       "    2016-01-05    143\n",
       "    2016-01-06    143\n",
       "    2016-01-07    143\n",
       "    2016-01-08    143\n",
       "    2016-01-09    143\n",
       "    2016-01-10    143\n",
       "    2016-01-11    143\n",
       "    2016-01-12    143\n",
       "    2016-01-13    143\n",
       "    2016-01-14    143\n",
       "    2016-01-15    143\n",
       "    2016-01-16    143\n",
       "    2016-01-17    143\n",
       "    2016-01-18    143\n",
       "    2016-01-19    143\n",
       "    2016-01-20    120\n",
       "    2016-01-21    143\n",
       "2   2016-01-01    143\n",
       "    2016-01-02    143\n",
       "    2016-01-03    143\n",
       "    2016-01-04    143\n",
       "    2016-01-05    143\n",
       "    2016-01-06    143\n",
       "    2016-01-07    143\n",
       "    2016-01-08    143\n",
       "    2016-01-09    143\n",
       "                 ... \n",
       "65  2016-01-13    143\n",
       "    2016-01-14    143\n",
       "    2016-01-15    143\n",
       "    2016-01-16    143\n",
       "    2016-01-17    143\n",
       "    2016-01-18    143\n",
       "    2016-01-19    143\n",
       "    2016-01-20    120\n",
       "    2016-01-21    143\n",
       "66  2016-01-01    143\n",
       "    2016-01-02    143\n",
       "    2016-01-03    143\n",
       "    2016-01-04    143\n",
       "    2016-01-05    143\n",
       "    2016-01-06    143\n",
       "    2016-01-07    143\n",
       "    2016-01-08    143\n",
       "    2016-01-09    143\n",
       "    2016-01-10    143\n",
       "    2016-01-11    143\n",
       "    2016-01-12    143\n",
       "    2016-01-13    143\n",
       "    2016-01-14    143\n",
       "    2016-01-15    143\n",
       "    2016-01-16    143\n",
       "    2016-01-17    143\n",
       "    2016-01-18    143\n",
       "    2016-01-19    143\n",
       "    2016-01-20    120\n",
       "    2016-01-21    143\n",
       "Name: traffic, dtype: int64"
      ]
     },
     "execution_count": 55,
     "metadata": {},
     "output_type": "execute_result"
    }
   ],
   "source": [
    "groupall.traffic.count()"
   ]
  },
  {
   "cell_type": "code",
   "execution_count": null,
   "metadata": {
    "collapsed": true
   },
   "outputs": [],
   "source": [
    "train_traffic.sort"
   ]
  }
 ],
 "metadata": {
  "kernelspec": {
   "display_name": "Python 2",
   "language": "python",
   "name": "python2"
  },
  "language_info": {
   "codemirror_mode": {
    "name": "ipython",
    "version": 2
   },
   "file_extension": ".py",
   "mimetype": "text/x-python",
   "name": "python",
   "nbconvert_exporter": "python",
   "pygments_lexer": "ipython2",
   "version": "2.7.11"
  }
 },
 "nbformat": 4,
 "nbformat_minor": 0
}
