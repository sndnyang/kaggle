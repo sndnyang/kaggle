{
 "cells": [
  {
   "cell_type": "code",
   "execution_count": 1,
   "metadata": {
    "collapsed": true
   },
   "outputs": [],
   "source": [
    "import os\n",
    "import numpy as np\n",
    "import pandas as pd\n",
    "import matplotlib.pyplot as plt\n",
    "%matplotlib inline"
   ]
  },
  {
   "cell_type": "code",
   "execution_count": 2,
   "metadata": {
    "collapsed": true
   },
   "outputs": [],
   "source": [
    "\n",
    "base_dir = \"G:/project/dataset/citydata/season_1/training_data\"\n",
    "\n",
    "train_cluster_map_file = os.path.join(base_dir, 'cluster_map', 'cluster_map')\n",
    "train_poi_file = os.path.join(base_dir, 'poi_data', 'poi_data')\n",
    "train_order_file = os.path.join(base_dir, 'order_data', 'order_data_2016-01-21')\n",
    "#train_cluster_map = os.path.join(base_dir, 'cluster_map')\n"
   ]
  },
  {
   "cell_type": "code",
   "execution_count": 7,
   "metadata": {
    "collapsed": false
   },
   "outputs": [],
   "source": [
    "cluster_map = pd.read_csv(train_cluster_map_file, sep=\"\\t\", header=None, names=['hashid', 'id'])"
   ]
  },
  {
   "cell_type": "code",
   "execution_count": 13,
   "metadata": {
    "collapsed": false
   },
   "outputs": [
    {
     "name": "stdout",
     "output_type": "stream",
     "text": [
      "66\n"
     ]
    }
   ],
   "source": [
    "print len(cluster_map)"
   ]
  },
  {
   "cell_type": "code",
   "execution_count": 30,
   "metadata": {
    "collapsed": true
   },
   "outputs": [],
   "source": [
    "def time2Slice(time_str):\n",
    "    l = time_str.split(\":\")\n",
    "    return int(l[0]) * 6 + int(l[1]) / 10 + 1"
   ]
  },
  {
   "cell_type": "code",
   "execution_count": 55,
   "metadata": {
    "collapsed": true
   },
   "outputs": [],
   "source": [
    "def reduceOrderFile(base_name, f):\n",
    "    import time\n",
    "    prev = time.time()\n",
    "    fname = os.path.join(base_name, f)\n",
    "    order = pd.read_csv(fname, sep=\"\\t\", header=None, dtype={'Price': np.str},\n",
    "                          names=['order_id', 'driver_id', 'passenger_id', 'start_district_hash', 'dest_district_hash',\n",
    "                                'Price', 'Time'])\n",
    "\n",
    "    full_order = order.merge(cluster_map, left_on='start_district_hash', right_on='hashid')\n",
    "\n",
    "    full_order['Date'] = pd.Series([e.split()[0] for e in full_order['Time']])\n",
    "\n",
    "    full_order['TimePiece'] = pd.Series([time2Slice(e.split()[1]) for e in full_order['Time']])\n",
    "\n",
    "    full_order['Resp'] = full_order['driver_id'].notnull()\n",
    "\n",
    "    small_order = full_order.loc[:, ['Date', 'TimePiece', 'id', 'Price', 'Resp']]\n",
    "    small_order_file = os.path.join(base_name, f + \".csv\")\n",
    "    small_order.to_csv(small_order_file, index = False)\n",
    "    print time.time() - prev\n",
    "    \n",
    "    #return small_order"
   ]
  },
  {
   "cell_type": "code",
   "execution_count": 57,
   "metadata": {
    "collapsed": false
   },
   "outputs": [
    {
     "name": "stdout",
     "output_type": "stream",
     "text": [
      "5.30900001526\n"
     ]
    }
   ],
   "source": [
    "z = reduceOrderFile('G:/project/dataset/citydata/season_1/training_data\\order_data', 'order_data_2016-01-21')\n"
   ]
  },
  {
   "cell_type": "code",
   "execution_count": 52,
   "metadata": {
    "collapsed": false
   },
   "outputs": [
    {
     "name": "stdout",
     "output_type": "stream",
     "text": [
      "474340\n",
      "391777\n"
     ]
    }
   ],
   "source": [
    "print len(z)\n",
    "print sum(z['Resp'])"
   ]
  },
  {
   "cell_type": "code",
   "execution_count": 58,
   "metadata": {
    "collapsed": true
   },
   "outputs": [],
   "source": [
    "def reduceFiles(base_name):\n",
    "    for rt, dirs, files in os.walk(base_name):\n",
    "        for f in files:           \n",
    "            reduceOrderFile(base_name, f)\n"
   ]
  },
  {
   "cell_type": "code",
   "execution_count": 59,
   "metadata": {
    "collapsed": false
   },
   "outputs": [
    {
     "name": "stdout",
     "output_type": "stream",
     "text": [
      "6.16599988937\n",
      "4.09300017357\n",
      "4.24799990654\n",
      "4.88099980354\n",
      "5.09999990463\n",
      "4.90000009537\n",
      "4.94000005722\n",
      "5.15599989891\n",
      "5.15200018883\n",
      "5.24800014496\n",
      "6.0119998455\n",
      "5.132999897\n",
      "5.16599988937\n",
      "5.06999993324\n",
      "5.88199996948\n",
      "6.375\n",
      "4.98500013351\n",
      "5.53900003433\n",
      "6.41299986839\n",
      "5.78500008583\n",
      "5.19200015068\n",
      "0.603999853134\n"
     ]
    }
   ],
   "source": [
    "reduceFiles(os.path.join(base_dir, 'order_data'))"
   ]
  },
  {
   "cell_type": "code",
   "execution_count": 8,
   "metadata": {
    "collapsed": false
   },
   "outputs": [
    {
     "data": {
      "text/html": [
       "<div>\n",
       "<table border=\"1\" class=\"dataframe\">\n",
       "  <thead>\n",
       "    <tr style=\"text-align: right;\">\n",
       "      <th></th>\n",
       "      <th>hashid</th>\n",
       "      <th>id</th>\n",
       "    </tr>\n",
       "  </thead>\n",
       "  <tbody>\n",
       "    <tr>\n",
       "      <th>0</th>\n",
       "      <td>90c5a34f06ac86aee0fd70e2adce7d8a</td>\n",
       "      <td>1</td>\n",
       "    </tr>\n",
       "    <tr>\n",
       "      <th>1</th>\n",
       "      <td>f2c8c4bb99e6377d21de71275afd6cd2</td>\n",
       "      <td>2</td>\n",
       "    </tr>\n",
       "  </tbody>\n",
       "</table>\n",
       "</div>"
      ],
      "text/plain": [
       "                             hashid  id\n",
       "0  90c5a34f06ac86aee0fd70e2adce7d8a   1\n",
       "1  f2c8c4bb99e6377d21de71275afd6cd2   2"
      ]
     },
     "execution_count": 8,
     "metadata": {},
     "output_type": "execute_result"
    }
   ],
   "source": [
    "cluster_map[:2]"
   ]
  },
  {
   "cell_type": "code",
   "execution_count": 43,
   "metadata": {
    "collapsed": false
   },
   "outputs": [],
   "source": [
    "train_order = pd.read_csv(train_order_file, sep=\"\\t\", header=None, dtype={'Price': np.float, 'driver_id': np.str},\n",
    "                          names=['order_id', 'driver_id', 'passenger_id', 'start_district_hash', 'dest_district_hash',\n",
    "                                'Price', 'Time'])"
   ]
  },
  {
   "cell_type": "code",
   "execution_count": 44,
   "metadata": {
    "collapsed": false
   },
   "outputs": [
    {
     "name": "stdout",
     "output_type": "stream",
     "text": [
      "474340\n"
     ]
    }
   ],
   "source": [
    "print len(train_order)"
   ]
  },
  {
   "cell_type": "code",
   "execution_count": 47,
   "metadata": {
    "collapsed": false
   },
   "outputs": [],
   "source": [
    "t = train_order['driver_id']"
   ]
  },
  {
   "cell_type": "code",
   "execution_count": 49,
   "metadata": {
    "collapsed": false
   },
   "outputs": [
    {
     "data": {
      "text/plain": [
       "0          True\n",
       "1          True\n",
       "2          True\n",
       "3          True\n",
       "4          True\n",
       "5          True\n",
       "6          True\n",
       "7          True\n",
       "8         False\n",
       "9          True\n",
       "10         True\n",
       "11         True\n",
       "12         True\n",
       "13         True\n",
       "14         True\n",
       "15        False\n",
       "16         True\n",
       "17         True\n",
       "18         True\n",
       "19         True\n",
       "20        False\n",
       "21         True\n",
       "22         True\n",
       "23         True\n",
       "24         True\n",
       "25         True\n",
       "26         True\n",
       "27         True\n",
       "28         True\n",
       "29         True\n",
       "          ...  \n",
       "474310     True\n",
       "474311     True\n",
       "474312     True\n",
       "474313     True\n",
       "474314     True\n",
       "474315     True\n",
       "474316     True\n",
       "474317     True\n",
       "474318     True\n",
       "474319     True\n",
       "474320     True\n",
       "474321     True\n",
       "474322     True\n",
       "474323     True\n",
       "474324     True\n",
       "474325     True\n",
       "474326     True\n",
       "474327     True\n",
       "474328     True\n",
       "474329    False\n",
       "474330    False\n",
       "474331    False\n",
       "474332    False\n",
       "474333    False\n",
       "474334     True\n",
       "474335     True\n",
       "474336     True\n",
       "474337     True\n",
       "474338     True\n",
       "474339    False\n",
       "Name: driver_id, dtype: bool"
      ]
     },
     "execution_count": 49,
     "metadata": {},
     "output_type": "execute_result"
    }
   ],
   "source": [
    "t.notnull()"
   ]
  },
  {
   "cell_type": "code",
   "execution_count": 9,
   "metadata": {
    "collapsed": false
   },
   "outputs": [],
   "source": [
    "temp = train_order[:200]"
   ]
  },
  {
   "cell_type": "code",
   "execution_count": 18,
   "metadata": {
    "collapsed": false
   },
   "outputs": [],
   "source": []
  },
  {
   "cell_type": "code",
   "execution_count": 19,
   "metadata": {
    "collapsed": false
   },
   "outputs": [
    {
     "data": {
      "text/html": [
       "<div>\n",
       "<table border=\"1\" class=\"dataframe\">\n",
       "  <thead>\n",
       "    <tr style=\"text-align: right;\">\n",
       "      <th></th>\n",
       "      <th>order_id</th>\n",
       "      <th>driver_id</th>\n",
       "      <th>passenger_id</th>\n",
       "      <th>start_district_hash</th>\n",
       "      <th>dest_district_hash</th>\n",
       "      <th>Price</th>\n",
       "      <th>Time</th>\n",
       "      <th>Date</th>\n",
       "      <th>TimePiece</th>\n",
       "      <th>Resp</th>\n",
       "      <th>hashid</th>\n",
       "      <th>id</th>\n",
       "    </tr>\n",
       "  </thead>\n",
       "  <tbody>\n",
       "    <tr>\n",
       "      <th>0</th>\n",
       "      <td>1c4cece0595a0e62dcffab5fccb0f187</td>\n",
       "      <td>6f7b41c8e3ce01acd520ffd275ed8f91</td>\n",
       "      <td>d3e0f63ee777e3d945337cbda7e6c045</td>\n",
       "      <td>2407d482f0ffa22a947068f2551fe62c</td>\n",
       "      <td>91690261186ae5bee8f83808ea1e4a01</td>\n",
       "      <td>8</td>\n",
       "      <td>2016-01-21 09:28:04</td>\n",
       "      <td>2016-01-21</td>\n",
       "      <td>57</td>\n",
       "      <td>True</td>\n",
       "      <td>2407d482f0ffa22a947068f2551fe62c</td>\n",
       "      <td>28</td>\n",
       "    </tr>\n",
       "    <tr>\n",
       "      <th>1</th>\n",
       "      <td>485000a093e85daef343f4dc4dba73cd</td>\n",
       "      <td>2a3f40b596322cf530ddb98538f2577d</td>\n",
       "      <td>ef720be0ae09f948ae04bb933683854a</td>\n",
       "      <td>2407d482f0ffa22a947068f2551fe62c</td>\n",
       "      <td>2407d482f0ffa22a947068f2551fe62c</td>\n",
       "      <td>7</td>\n",
       "      <td>2016-01-21 01:15:55</td>\n",
       "      <td>2016-01-21</td>\n",
       "      <td>8</td>\n",
       "      <td>True</td>\n",
       "      <td>2407d482f0ffa22a947068f2551fe62c</td>\n",
       "      <td>28</td>\n",
       "    </tr>\n",
       "    <tr>\n",
       "      <th>2</th>\n",
       "      <td>e255d556e2de5554944ba201a9ee367d</td>\n",
       "      <td>4d5d26f235e052c25b368a799df70d7c</td>\n",
       "      <td>39f42626b5bea6d2f487bce6a91a7667</td>\n",
       "      <td>2407d482f0ffa22a947068f2551fe62c</td>\n",
       "      <td>2407d482f0ffa22a947068f2551fe62c</td>\n",
       "      <td>7</td>\n",
       "      <td>2016-01-21 20:24:31</td>\n",
       "      <td>2016-01-21</td>\n",
       "      <td>123</td>\n",
       "      <td>True</td>\n",
       "      <td>2407d482f0ffa22a947068f2551fe62c</td>\n",
       "      <td>28</td>\n",
       "    </tr>\n",
       "    <tr>\n",
       "      <th>3</th>\n",
       "      <td>90f39f9ca08618f90e982cfc64417fac</td>\n",
       "      <td>2aeb7635675367d67695728219bd7494</td>\n",
       "      <td>7607cc37af42824b12532f77d1047a68</td>\n",
       "      <td>2407d482f0ffa22a947068f2551fe62c</td>\n",
       "      <td>62afaf3288e236b389af9cfdc5206415</td>\n",
       "      <td>16.2</td>\n",
       "      <td>2016-01-21 11:49:11</td>\n",
       "      <td>2016-01-21</td>\n",
       "      <td>71</td>\n",
       "      <td>True</td>\n",
       "      <td>2407d482f0ffa22a947068f2551fe62c</td>\n",
       "      <td>28</td>\n",
       "    </tr>\n",
       "    <tr>\n",
       "      <th>4</th>\n",
       "      <td>95cbbe28a1a4159b81408777bc00d566</td>\n",
       "      <td>a4abe1e1bb62401da9fb95059fc7abb7</td>\n",
       "      <td>b5f9ed926d7cdd509bca53a777bc3190</td>\n",
       "      <td>2407d482f0ffa22a947068f2551fe62c</td>\n",
       "      <td>62afaf3288e236b389af9cfdc5206415</td>\n",
       "      <td>19</td>\n",
       "      <td>2016-01-21 15:35:48</td>\n",
       "      <td>2016-01-21</td>\n",
       "      <td>94</td>\n",
       "      <td>True</td>\n",
       "      <td>2407d482f0ffa22a947068f2551fe62c</td>\n",
       "      <td>28</td>\n",
       "    </tr>\n",
       "  </tbody>\n",
       "</table>\n",
       "</div>"
      ],
      "text/plain": [
       "                           order_id                         driver_id  \\\n",
       "0  1c4cece0595a0e62dcffab5fccb0f187  6f7b41c8e3ce01acd520ffd275ed8f91   \n",
       "1  485000a093e85daef343f4dc4dba73cd  2a3f40b596322cf530ddb98538f2577d   \n",
       "2  e255d556e2de5554944ba201a9ee367d  4d5d26f235e052c25b368a799df70d7c   \n",
       "3  90f39f9ca08618f90e982cfc64417fac  2aeb7635675367d67695728219bd7494   \n",
       "4  95cbbe28a1a4159b81408777bc00d566  a4abe1e1bb62401da9fb95059fc7abb7   \n",
       "\n",
       "                       passenger_id               start_district_hash  \\\n",
       "0  d3e0f63ee777e3d945337cbda7e6c045  2407d482f0ffa22a947068f2551fe62c   \n",
       "1  ef720be0ae09f948ae04bb933683854a  2407d482f0ffa22a947068f2551fe62c   \n",
       "2  39f42626b5bea6d2f487bce6a91a7667  2407d482f0ffa22a947068f2551fe62c   \n",
       "3  7607cc37af42824b12532f77d1047a68  2407d482f0ffa22a947068f2551fe62c   \n",
       "4  b5f9ed926d7cdd509bca53a777bc3190  2407d482f0ffa22a947068f2551fe62c   \n",
       "\n",
       "                 dest_district_hash Price                 Time        Date  \\\n",
       "0  91690261186ae5bee8f83808ea1e4a01     8  2016-01-21 09:28:04  2016-01-21   \n",
       "1  2407d482f0ffa22a947068f2551fe62c     7  2016-01-21 01:15:55  2016-01-21   \n",
       "2  2407d482f0ffa22a947068f2551fe62c     7  2016-01-21 20:24:31  2016-01-21   \n",
       "3  62afaf3288e236b389af9cfdc5206415  16.2  2016-01-21 11:49:11  2016-01-21   \n",
       "4  62afaf3288e236b389af9cfdc5206415    19  2016-01-21 15:35:48  2016-01-21   \n",
       "\n",
       "   TimePiece  Resp                            hashid  id  \n",
       "0         57  True  2407d482f0ffa22a947068f2551fe62c  28  \n",
       "1          8  True  2407d482f0ffa22a947068f2551fe62c  28  \n",
       "2        123  True  2407d482f0ffa22a947068f2551fe62c  28  \n",
       "3         71  True  2407d482f0ffa22a947068f2551fe62c  28  \n",
       "4         94  True  2407d482f0ffa22a947068f2551fe62c  28  "
      ]
     },
     "execution_count": 19,
     "metadata": {},
     "output_type": "execute_result"
    }
   ],
   "source": [
    "z[:5]"
   ]
  },
  {
   "cell_type": "code",
   "execution_count": 20,
   "metadata": {
    "collapsed": true
   },
   "outputs": [],
   "source": [
    "small_order = full_train_order.loc[:, ['Date', 'TimePiece', 'id', 'Price', 'Resp']]"
   ]
  },
  {
   "cell_type": "code",
   "execution_count": 21,
   "metadata": {
    "collapsed": false
   },
   "outputs": [
    {
     "data": {
      "text/html": [
       "<div>\n",
       "<table border=\"1\" class=\"dataframe\">\n",
       "  <thead>\n",
       "    <tr style=\"text-align: right;\">\n",
       "      <th></th>\n",
       "      <th>Date</th>\n",
       "      <th>TimePiece</th>\n",
       "      <th>id</th>\n",
       "      <th>Price</th>\n",
       "      <th>Resp</th>\n",
       "    </tr>\n",
       "  </thead>\n",
       "  <tbody>\n",
       "    <tr>\n",
       "      <th>0</th>\n",
       "      <td>2016-01-21</td>\n",
       "      <td>57</td>\n",
       "      <td>28</td>\n",
       "      <td>8</td>\n",
       "      <td>True</td>\n",
       "    </tr>\n",
       "    <tr>\n",
       "      <th>1</th>\n",
       "      <td>2016-01-21</td>\n",
       "      <td>8</td>\n",
       "      <td>28</td>\n",
       "      <td>7</td>\n",
       "      <td>True</td>\n",
       "    </tr>\n",
       "    <tr>\n",
       "      <th>2</th>\n",
       "      <td>2016-01-21</td>\n",
       "      <td>123</td>\n",
       "      <td>28</td>\n",
       "      <td>7</td>\n",
       "      <td>True</td>\n",
       "    </tr>\n",
       "  </tbody>\n",
       "</table>\n",
       "</div>"
      ],
      "text/plain": [
       "         Date  TimePiece  id Price  Resp\n",
       "0  2016-01-21         57  28     8  True\n",
       "1  2016-01-21          8  28     7  True\n",
       "2  2016-01-21        123  28     7  True"
      ]
     },
     "execution_count": 21,
     "metadata": {},
     "output_type": "execute_result"
    }
   ],
   "source": [
    "small_order[:3]"
   ]
  },
  {
   "cell_type": "code",
   "execution_count": 22,
   "metadata": {
    "collapsed": false
   },
   "outputs": [
    {
     "data": {
      "text/plain": [
       "474340"
      ]
     },
     "execution_count": 22,
     "metadata": {},
     "output_type": "execute_result"
    }
   ],
   "source": [
    "len(small_order)"
   ]
  },
  {
   "cell_type": "code",
   "execution_count": null,
   "metadata": {
    "collapsed": true
   },
   "outputs": [],
   "source": []
  }
 ],
 "metadata": {
  "kernelspec": {
   "display_name": "Python 2",
   "language": "python",
   "name": "python2"
  },
  "language_info": {
   "codemirror_mode": {
    "name": "ipython",
    "version": 2
   },
   "file_extension": ".py",
   "mimetype": "text/x-python",
   "name": "python",
   "nbconvert_exporter": "python",
   "pygments_lexer": "ipython2",
   "version": "2.7.11"
  }
 },
 "nbformat": 4,
 "nbformat_minor": 0
}
